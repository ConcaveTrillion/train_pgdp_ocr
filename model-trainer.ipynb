{
 "cells": [
  {
   "cell_type": "code",
   "execution_count": 4,
   "id": "471ca365",
   "metadata": {},
   "outputs": [],
   "source": [
    "import pathlib\n",
    "# import os\n",
    "import subprocess\n",
    "\n",
    "from doctr.datasets.vocabs import VOCABS\n",
    "\n",
    "vocab = VOCABS[\"multilingual\"] + \"⸺¡¿—‘’“”′″\" + VOCABS[\"currency\"]\n",
    "\n",
    "def finetune_detection(train_path, val_path, model_output_path, n_epochs=100):\n",
    "    DOCTR_BASE = \"../doctr\"\n",
    "    SCRIPT_PATH =  \"references/detection/train_pytorch.py\"\n",
    "    ARGS = [\"--train_path\", train_path, \n",
    "            \"--val_path\", val_path, \n",
    "            \"db_resnet50\", \n",
    "            \"--pretrained\",\n",
    "            \"--lr\", \".002\",\n",
    "            \"--epochs\", str(n_epochs),\n",
    "            \"--batch_size\", str(2),\n",
    "            \"--device\", \"0\",\n",
    "            \"--name\", model_output_path]\n",
    "    \n",
    "    command = [\"python\", pathlib.Path(DOCTR_BASE, SCRIPT_PATH).resolve(), *ARGS]\n",
    "    \n",
    "    subprocess.call(command)\n",
    "\n",
    "def finetune_recognition(train_path, val_path, name, n_epochs=100):\n",
    "    DOCTR_BASE = \"../doctr\"\n",
    "    SCRIPT_PATH =  \"references/recognition/train_pytorch.py\"\n",
    "    ARGS = [\"--train_path\", train_path, \n",
    "            \"--val_path\", val_path, \n",
    "            \"crnn_vgg16_bn\", \n",
    "            \"--pretrained\",\n",
    "            \"--lr\", \".001\",\n",
    "            \"--epochs\", str(n_epochs),\n",
    "            \"--name\", name,\n",
    "            \"--device\", \"0\",\n",
    "            \"--vocab\", \"CUSTOM:\"+vocab] # this does not include em dashes, upside down question marks, etc. TODO - define a vocab to use in training that includes these\n",
    "\n",
    "    command = [\"python\", pathlib.Path(DOCTR_BASE, SCRIPT_PATH).resolve(), *ARGS]\n",
    "    \n",
    "    subprocess.call(command)"
   ]
  },
  {
   "cell_type": "code",
   "execution_count": 5,
   "id": "1bbf292f",
   "metadata": {},
   "outputs": [],
   "source": [
    "doctr_base = \"doctr_package\"\n",
    "\n",
    "detection_train_path = \"ml-training/detection\"\n",
    "detection_val_path = \"ml-validation/detection\"\n",
    "recognition_train_path = \"ml-training/recognition\"\n",
    "recognition_val_path = \"ml-validation/recognition\""
   ]
  },
  {
   "cell_type": "code",
   "execution_count": 6,
   "id": "2338230a",
   "metadata": {},
   "outputs": [
    {
     "name": "stdout",
     "output_type": "stream",
     "text": [
      "Namespace(backend='nccl', device=0, arch='db_resnet50', output_dir='.', train_path='ml-training/detection', val_path='ml-validation/detection', name='ml-models/detection-model-finetuned', epochs=100, batch_size=2, save_interval_epoch=False, input_size=1024, lr=0.002, weight_decay=0, workers=None, resume=None, test_only=False, freeze_backbone=False, show_samples=False, wb=False, clearml=False, push_to_hub=False, pretrained=True, rotation=False, eval_straight=False, optim='adam', sched='poly', amp=False, find_lr=False, early_stop=False, early_stop_epochs=5, early_stop_delta=0.01)\n",
      "Validation set loaded in 0.002747s (2 samples in 1 batches)\n",
      "Train set loaded in 0.01393s (13 samples in 6 batches)\n"
     ]
    },
    {
     "name": "stderr",
     "output_type": "stream",
     "text": [
      "Training loss: 0.456319 | LR: 0.00198: 100%|██████████| 6/6 [00:07<00:00,  1.21s/it]   \n",
      "  0%|          | 0/1 [00:00<?, ?it/s]"
     ]
    },
    {
     "name": "stdout",
     "output_type": "stream",
     "text": [
      "Epoch 1/100 - Training loss: 0.465907 | LR: 0.00198\n"
     ]
    },
    {
     "name": "stderr",
     "output_type": "stream",
     "text": [
      "Validation loss: 0.403956: 100%|██████████| 1/1 [00:00<00:00,  1.03it/s]\n"
     ]
    },
    {
     "name": "stdout",
     "output_type": "stream",
     "text": [
      "Validation loss decreased inf --> 0.403956: saving state...\n",
      "Epoch 1/100 - Validation loss: 0.403956 (Recall: 93.81% | Precision: 93.34% | Mean IoU: 68.00%)\n"
     ]
    },
    {
     "name": "stderr",
     "output_type": "stream",
     "text": [
      "Training loss: 0.342003 | LR: 0.00196: 100%|██████████| 6/6 [00:03<00:00,  1.67it/s]   \n",
      "  0%|          | 0/1 [00:00<?, ?it/s]"
     ]
    },
    {
     "name": "stdout",
     "output_type": "stream",
     "text": [
      "Epoch 2/100 - Training loss: 0.38178 | LR: 0.00196\n"
     ]
    },
    {
     "name": "stderr",
     "output_type": "stream",
     "text": [
      "Validation loss: 0.369339: 100%|██████████| 1/1 [00:00<00:00,  1.05it/s]\n"
     ]
    },
    {
     "name": "stdout",
     "output_type": "stream",
     "text": [
      "Validation loss decreased 0.403956 --> 0.369339: saving state...\n",
      "Epoch 2/100 - Validation loss: 0.369339 (Recall: 96.99% | Precision: 96.67% | Mean IoU: 71.00%)\n"
     ]
    },
    {
     "name": "stderr",
     "output_type": "stream",
     "text": [
      "Training loss: 0.303938 | LR: 0.00194: 100%|██████████| 6/6 [00:03<00:00,  1.63it/s]   \n",
      "  0%|          | 0/1 [00:00<?, ?it/s]"
     ]
    },
    {
     "name": "stdout",
     "output_type": "stream",
     "text": [
      "Epoch 3/100 - Training loss: 0.297885 | LR: 0.00194\n"
     ]
    },
    {
     "name": "stderr",
     "output_type": "stream",
     "text": [
      "Validation loss: 0.289534: 100%|██████████| 1/1 [00:00<00:00,  1.01it/s]\n"
     ]
    },
    {
     "name": "stdout",
     "output_type": "stream",
     "text": [
      "Validation loss decreased 0.369339 --> 0.289534: saving state...\n",
      "Epoch 3/100 - Validation loss: 0.289534 (Recall: 96.32% | Precision: 95.84% | Mean IoU: 70.00%)\n"
     ]
    },
    {
     "name": "stderr",
     "output_type": "stream",
     "text": [
      "Training loss: 0.230205 | LR: 0.00192: 100%|██████████| 6/6 [00:03<00:00,  1.70it/s]   \n",
      "  0%|          | 0/1 [00:00<?, ?it/s]"
     ]
    },
    {
     "name": "stdout",
     "output_type": "stream",
     "text": [
      "Epoch 4/100 - Training loss: 0.287552 | LR: 0.00192\n"
     ]
    },
    {
     "name": "stderr",
     "output_type": "stream",
     "text": [
      "Validation loss: 0.229266: 100%|██████████| 1/1 [00:00<00:00,  1.02it/s]\n"
     ]
    },
    {
     "name": "stdout",
     "output_type": "stream",
     "text": [
      "Validation loss decreased 0.289534 --> 0.229266: saving state...\n",
      "Epoch 4/100 - Validation loss: 0.229266 (Recall: 91.97% | Precision: 91.97% | Mean IoU: 67.00%)\n"
     ]
    },
    {
     "name": "stderr",
     "output_type": "stream",
     "text": [
      "Training loss: 0.228485 | LR: 0.0019: 100%|██████████| 6/6 [00:03<00:00,  1.75it/s]    \n",
      "  0%|          | 0/1 [00:00<?, ?it/s]"
     ]
    },
    {
     "name": "stdout",
     "output_type": "stream",
     "text": [
      "Epoch 5/100 - Training loss: 0.224752 | LR: 0.0019\n"
     ]
    },
    {
     "name": "stderr",
     "output_type": "stream",
     "text": [
      "Validation loss: 0.202808: 100%|██████████| 1/1 [00:00<00:00,  1.04it/s]\n"
     ]
    },
    {
     "name": "stdout",
     "output_type": "stream",
     "text": [
      "Validation loss decreased 0.229266 --> 0.202808: saving state...\n",
      "Epoch 5/100 - Validation loss: 0.202808 (Recall: 84.45% | Precision: 84.73% | Mean IoU: 63.00%)\n"
     ]
    },
    {
     "name": "stderr",
     "output_type": "stream",
     "text": [
      "Training loss: 0.19194 | LR: 0.00188: 100%|██████████| 6/6 [00:03<00:00,  1.65it/s]    \n",
      "  0%|          | 0/1 [00:00<?, ?it/s]"
     ]
    },
    {
     "name": "stdout",
     "output_type": "stream",
     "text": [
      "Epoch 6/100 - Training loss: 0.207798 | LR: 0.00188\n"
     ]
    },
    {
     "name": "stderr",
     "output_type": "stream",
     "text": [
      "Validation loss: 0.187941: 100%|██████████| 1/1 [00:00<00:00,  1.05it/s]\n"
     ]
    },
    {
     "name": "stdout",
     "output_type": "stream",
     "text": [
      "Validation loss decreased 0.202808 --> 0.187941: saving state...\n",
      "Epoch 6/100 - Validation loss: 0.187941 (Recall: 82.11% | Precision: 82.52% | Mean IoU: 62.00%)\n"
     ]
    },
    {
     "name": "stderr",
     "output_type": "stream",
     "text": [
      "Training loss: 0.196586 | LR: 0.00186: 100%|██████████| 6/6 [00:03<00:00,  1.71it/s]   \n",
      "  0%|          | 0/1 [00:00<?, ?it/s]"
     ]
    },
    {
     "name": "stdout",
     "output_type": "stream",
     "text": [
      "Epoch 7/100 - Training loss: 0.188575 | LR: 0.00186\n"
     ]
    },
    {
     "name": "stderr",
     "output_type": "stream",
     "text": [
      "Validation loss: 0.18057: 100%|██████████| 1/1 [00:00<00:00,  1.04it/s]\n"
     ]
    },
    {
     "name": "stdout",
     "output_type": "stream",
     "text": [
      "Validation loss decreased 0.187941 --> 0.18057: saving state...\n",
      "Epoch 7/100 - Validation loss: 0.18057 (Recall: 83.28% | Precision: 83.98% | Mean IoU: 63.00%)\n"
     ]
    },
    {
     "name": "stderr",
     "output_type": "stream",
     "text": [
      "Training loss: 0.161192 | LR: 0.00184: 100%|██████████| 6/6 [00:03<00:00,  1.60it/s]   \n",
      "  0%|          | 0/1 [00:00<?, ?it/s]"
     ]
    },
    {
     "name": "stdout",
     "output_type": "stream",
     "text": [
      "Epoch 8/100 - Training loss: 0.172759 | LR: 0.00184\n"
     ]
    },
    {
     "name": "stderr",
     "output_type": "stream",
     "text": [
      "Validation loss: 0.162861: 100%|██████████| 1/1 [00:00<00:00,  1.05it/s]\n"
     ]
    },
    {
     "name": "stdout",
     "output_type": "stream",
     "text": [
      "Validation loss decreased 0.18057 --> 0.162861: saving state...\n",
      "Epoch 8/100 - Validation loss: 0.162861 (Recall: 85.28% | Precision: 86.00% | Mean IoU: 65.00%)\n"
     ]
    },
    {
     "name": "stderr",
     "output_type": "stream",
     "text": [
      "Training loss: 0.182181 | LR: 0.00182: 100%|██████████| 6/6 [00:03<00:00,  1.65it/s]   \n",
      "  0%|          | 0/1 [00:00<?, ?it/s]"
     ]
    },
    {
     "name": "stdout",
     "output_type": "stream",
     "text": [
      "Epoch 9/100 - Training loss: 0.170956 | LR: 0.00182\n"
     ]
    },
    {
     "name": "stderr",
     "output_type": "stream",
     "text": [
      "Validation loss: 0.155001: 100%|██████████| 1/1 [00:00<00:00,  1.02it/s]\n"
     ]
    },
    {
     "name": "stdout",
     "output_type": "stream",
     "text": [
      "Validation loss decreased 0.162861 --> 0.155001: saving state...\n",
      "Epoch 9/100 - Validation loss: 0.155001 (Recall: 89.63% | Precision: 90.24% | Mean IoU: 67.00%)\n"
     ]
    },
    {
     "name": "stderr",
     "output_type": "stream",
     "text": [
      "Training loss: 0.15026 | LR: 0.0018: 100%|██████████| 6/6 [00:03<00:00,  1.61it/s]     \n",
      "  0%|          | 0/1 [00:00<?, ?it/s]"
     ]
    },
    {
     "name": "stdout",
     "output_type": "stream",
     "text": [
      "Epoch 10/100 - Training loss: 0.190073 | LR: 0.0018\n"
     ]
    },
    {
     "name": "stderr",
     "output_type": "stream",
     "text": [
      "Validation loss: 0.148891: 100%|██████████| 1/1 [00:00<00:00,  1.04it/s]\n"
     ]
    },
    {
     "name": "stdout",
     "output_type": "stream",
     "text": [
      "Validation loss decreased 0.155001 --> 0.148891: saving state...\n",
      "Epoch 10/100 - Validation loss: 0.148891 (Recall: 90.13% | Precision: 90.28% | Mean IoU: 66.00%)\n"
     ]
    },
    {
     "name": "stderr",
     "output_type": "stream",
     "text": [
      "Training loss: 0.137049 | LR: 0.00178: 100%|██████████| 6/6 [00:03<00:00,  1.59it/s]   \n",
      "  0%|          | 0/1 [00:00<?, ?it/s]"
     ]
    },
    {
     "name": "stdout",
     "output_type": "stream",
     "text": [
      "Epoch 11/100 - Training loss: 0.15132 | LR: 0.00178\n"
     ]
    },
    {
     "name": "stderr",
     "output_type": "stream",
     "text": [
      "Validation loss: 0.146389: 100%|██████████| 1/1 [00:00<00:00,  1.04it/s]\n"
     ]
    },
    {
     "name": "stdout",
     "output_type": "stream",
     "text": [
      "Validation loss decreased 0.148891 --> 0.146389: saving state...\n",
      "Epoch 11/100 - Validation loss: 0.146389 (Recall: 88.46% | Precision: 88.61% | Mean IoU: 65.00%)\n"
     ]
    },
    {
     "name": "stderr",
     "output_type": "stream",
     "text": [
      "Training loss: 0.129986 | LR: 0.00176: 100%|██████████| 6/6 [00:03<00:00,  1.65it/s]   \n",
      "  0%|          | 0/1 [00:00<?, ?it/s]"
     ]
    },
    {
     "name": "stdout",
     "output_type": "stream",
     "text": [
      "Epoch 12/100 - Training loss: 0.138969 | LR: 0.00176\n"
     ]
    },
    {
     "name": "stderr",
     "output_type": "stream",
     "text": [
      "Validation loss: 0.142139: 100%|██████████| 1/1 [00:00<00:00,  1.04it/s]\n"
     ]
    },
    {
     "name": "stdout",
     "output_type": "stream",
     "text": [
      "Validation loss decreased 0.146389 --> 0.142139: saving state...\n",
      "Epoch 12/100 - Validation loss: 0.142139 (Recall: 87.96% | Precision: 88.26% | Mean IoU: 65.00%)\n"
     ]
    },
    {
     "name": "stderr",
     "output_type": "stream",
     "text": [
      "Training loss: 0.152137 | LR: 0.00174: 100%|██████████| 6/6 [00:03<00:00,  1.53it/s]   \n",
      "  0%|          | 0/1 [00:00<?, ?it/s]"
     ]
    },
    {
     "name": "stdout",
     "output_type": "stream",
     "text": [
      "Epoch 13/100 - Training loss: 0.141353 | LR: 0.00174\n"
     ]
    },
    {
     "name": "stderr",
     "output_type": "stream",
     "text": [
      "Validation loss: 0.13832: 100%|██████████| 1/1 [00:00<00:00,  1.03it/s]\n"
     ]
    },
    {
     "name": "stdout",
     "output_type": "stream",
     "text": [
      "Validation loss decreased 0.142139 --> 0.13832: saving state...\n",
      "Epoch 13/100 - Validation loss: 0.13832 (Recall: 89.97% | Precision: 90.12% | Mean IoU: 66.00%)\n"
     ]
    },
    {
     "name": "stderr",
     "output_type": "stream",
     "text": [
      "Training loss: 0.126353 | LR: 0.00172: 100%|██████████| 6/6 [00:03<00:00,  1.63it/s]   \n",
      "  0%|          | 0/1 [00:00<?, ?it/s]"
     ]
    },
    {
     "name": "stdout",
     "output_type": "stream",
     "text": [
      "Epoch 14/100 - Training loss: 0.139531 | LR: 0.00172\n"
     ]
    },
    {
     "name": "stderr",
     "output_type": "stream",
     "text": [
      "Validation loss: 0.13612: 100%|██████████| 1/1 [00:00<00:00,  1.00it/s]\n"
     ]
    },
    {
     "name": "stdout",
     "output_type": "stream",
     "text": [
      "Validation loss decreased 0.13832 --> 0.13612: saving state...\n",
      "Epoch 14/100 - Validation loss: 0.13612 (Recall: 91.14% | Precision: 91.44% | Mean IoU: 67.00%)\n"
     ]
    },
    {
     "name": "stderr",
     "output_type": "stream",
     "text": [
      "Training loss: 0.152186 | LR: 0.0017: 100%|██████████| 6/6 [00:03<00:00,  1.57it/s]    \n",
      "  0%|          | 0/1 [00:00<?, ?it/s]"
     ]
    },
    {
     "name": "stdout",
     "output_type": "stream",
     "text": [
      "Epoch 15/100 - Training loss: 0.16754 | LR: 0.0017\n"
     ]
    },
    {
     "name": "stderr",
     "output_type": "stream",
     "text": [
      "Validation loss: 0.134793: 100%|██████████| 1/1 [00:01<00:00,  1.04s/it]\n"
     ]
    },
    {
     "name": "stdout",
     "output_type": "stream",
     "text": [
      "Validation loss decreased 0.13612 --> 0.134793: saving state...\n",
      "Epoch 15/100 - Validation loss: 0.134793 (Recall: 90.64% | Precision: 91.40% | Mean IoU: 67.00%)\n"
     ]
    },
    {
     "name": "stderr",
     "output_type": "stream",
     "text": [
      "Training loss: 0.116145 | LR: 0.00168: 100%|██████████| 6/6 [00:03<00:00,  1.60it/s]   \n",
      "  0%|          | 0/1 [00:00<?, ?it/s]"
     ]
    },
    {
     "name": "stdout",
     "output_type": "stream",
     "text": [
      "Epoch 16/100 - Training loss: 0.13693 | LR: 0.00168\n"
     ]
    },
    {
     "name": "stderr",
     "output_type": "stream",
     "text": [
      "Validation loss: 0.134062: 100%|██████████| 1/1 [00:01<00:00,  1.02s/it]\n"
     ]
    },
    {
     "name": "stdout",
     "output_type": "stream",
     "text": [
      "Validation loss decreased 0.134793 --> 0.134062: saving state...\n",
      "Epoch 16/100 - Validation loss: 0.134062 (Recall: 90.47% | Precision: 91.23% | Mean IoU: 67.00%)\n"
     ]
    },
    {
     "name": "stderr",
     "output_type": "stream",
     "text": [
      "Training loss: 0.142463 | LR: 0.00166: 100%|██████████| 6/6 [00:03<00:00,  1.54it/s]   \n",
      "  0%|          | 0/1 [00:00<?, ?it/s]"
     ]
    },
    {
     "name": "stdout",
     "output_type": "stream",
     "text": [
      "Epoch 17/100 - Training loss: 0.127482 | LR: 0.00166\n"
     ]
    },
    {
     "name": "stderr",
     "output_type": "stream",
     "text": [
      "Validation loss: 0.131916: 100%|██████████| 1/1 [00:01<00:00,  1.06s/it]\n"
     ]
    },
    {
     "name": "stdout",
     "output_type": "stream",
     "text": [
      "Validation loss decreased 0.134062 --> 0.131916: saving state...\n",
      "Epoch 17/100 - Validation loss: 0.131916 (Recall: 91.64% | Precision: 92.41% | Mean IoU: 68.00%)\n"
     ]
    },
    {
     "name": "stderr",
     "output_type": "stream",
     "text": [
      "Training loss: 0.13338 | LR: 0.00164: 100%|██████████| 6/6 [00:04<00:00,  1.37it/s]    \n",
      "  0%|          | 0/1 [00:00<?, ?it/s]"
     ]
    },
    {
     "name": "stdout",
     "output_type": "stream",
     "text": [
      "Epoch 18/100 - Training loss: 0.128573 | LR: 0.00164\n"
     ]
    },
    {
     "name": "stderr",
     "output_type": "stream",
     "text": [
      "Validation loss: 0.131127: 100%|██████████| 1/1 [00:01<00:00,  1.05s/it]\n"
     ]
    },
    {
     "name": "stdout",
     "output_type": "stream",
     "text": [
      "Validation loss decreased 0.131916 --> 0.131127: saving state...\n",
      "Epoch 18/100 - Validation loss: 0.131127 (Recall: 91.14% | Precision: 91.44% | Mean IoU: 67.00%)\n"
     ]
    },
    {
     "name": "stderr",
     "output_type": "stream",
     "text": [
      "Training loss: 0.133101 | LR: 0.00162: 100%|██████████| 6/6 [00:07<00:00,  1.29s/it]   \n",
      "  0%|          | 0/1 [00:00<?, ?it/s]"
     ]
    },
    {
     "name": "stdout",
     "output_type": "stream",
     "text": [
      "Epoch 19/100 - Training loss: 0.141797 | LR: 0.00162\n"
     ]
    },
    {
     "name": "stderr",
     "output_type": "stream",
     "text": [
      "Validation loss: 0.130882: 100%|██████████| 1/1 [00:01<00:00,  1.69s/it]\n"
     ]
    },
    {
     "name": "stdout",
     "output_type": "stream",
     "text": [
      "Validation loss decreased 0.131127 --> 0.130882: saving state...\n",
      "Epoch 19/100 - Validation loss: 0.130882 (Recall: 93.14% | Precision: 93.14% | Mean IoU: 68.00%)\n"
     ]
    },
    {
     "name": "stderr",
     "output_type": "stream",
     "text": [
      "Training loss: 0.129385 | LR: 0.0016: 100%|██████████| 6/6 [00:05<00:00,  1.05it/s]    \n",
      "  0%|          | 0/1 [00:00<?, ?it/s]"
     ]
    },
    {
     "name": "stdout",
     "output_type": "stream",
     "text": [
      "Epoch 20/100 - Training loss: 0.122211 | LR: 0.0016\n"
     ]
    },
    {
     "name": "stderr",
     "output_type": "stream",
     "text": [
      "Validation loss: 0.129135: 100%|██████████| 1/1 [00:01<00:00,  1.09s/it]\n"
     ]
    },
    {
     "name": "stdout",
     "output_type": "stream",
     "text": [
      "Validation loss decreased 0.130882 --> 0.129135: saving state...\n",
      "Epoch 20/100 - Validation loss: 0.129135 (Recall: 92.31% | Precision: 92.31% | Mean IoU: 68.00%)\n"
     ]
    },
    {
     "name": "stderr",
     "output_type": "stream",
     "text": [
      "Training loss: 0.140545 | LR: 0.00158: 100%|██████████| 6/6 [00:04<00:00,  1.31it/s]   \n",
      "  0%|          | 0/1 [00:00<?, ?it/s]"
     ]
    },
    {
     "name": "stdout",
     "output_type": "stream",
     "text": [
      "Epoch 21/100 - Training loss: 0.120034 | LR: 0.00158\n"
     ]
    },
    {
     "name": "stderr",
     "output_type": "stream",
     "text": [
      "Validation loss: 0.127774: 100%|██████████| 1/1 [00:01<00:00,  1.03s/it]\n"
     ]
    },
    {
     "name": "stdout",
     "output_type": "stream",
     "text": [
      "Validation loss decreased 0.129135 --> 0.127774: saving state...\n",
      "Epoch 21/100 - Validation loss: 0.127774 (Recall: 91.14% | Precision: 91.14% | Mean IoU: 67.00%)\n"
     ]
    },
    {
     "name": "stderr",
     "output_type": "stream",
     "text": [
      "Training loss: 0.108686 | LR: 0.00156: 100%|██████████| 6/6 [00:04<00:00,  1.44it/s]   \n",
      "  0%|          | 0/1 [00:00<?, ?it/s]"
     ]
    },
    {
     "name": "stdout",
     "output_type": "stream",
     "text": [
      "Epoch 22/100 - Training loss: 0.134743 | LR: 0.00156\n"
     ]
    },
    {
     "name": "stderr",
     "output_type": "stream",
     "text": [
      "Validation loss: 0.126696: 100%|██████████| 1/1 [00:01<00:00,  1.02s/it]\n"
     ]
    },
    {
     "name": "stdout",
     "output_type": "stream",
     "text": [
      "Validation loss decreased 0.127774 --> 0.126696: saving state...\n",
      "Epoch 22/100 - Validation loss: 0.126696 (Recall: 91.47% | Precision: 91.47% | Mean IoU: 67.00%)\n"
     ]
    },
    {
     "name": "stderr",
     "output_type": "stream",
     "text": [
      "Training loss: 0.114835 | LR: 0.00154: 100%|██████████| 6/6 [00:04<00:00,  1.41it/s]   \n",
      "  0%|          | 0/1 [00:00<?, ?it/s]"
     ]
    },
    {
     "name": "stdout",
     "output_type": "stream",
     "text": [
      "Epoch 23/100 - Training loss: 0.117309 | LR: 0.00154\n"
     ]
    },
    {
     "name": "stderr",
     "output_type": "stream",
     "text": [
      "Validation loss: 0.127221: 100%|██████████| 1/1 [00:01<00:00,  1.01s/it]\n",
      "  0%|          | 0/6 [00:00<?, ?it/s]"
     ]
    },
    {
     "name": "stdout",
     "output_type": "stream",
     "text": [
      "Epoch 23/100 - Validation loss: 0.127221 (Recall: 93.14% | Precision: 93.46% | Mean IoU: 69.00%)\n"
     ]
    },
    {
     "name": "stderr",
     "output_type": "stream",
     "text": [
      "Training loss: 0.125491 | LR: 0.00152: 100%|██████████| 6/6 [00:04<00:00,  1.39it/s]   \n",
      "  0%|          | 0/1 [00:00<?, ?it/s]"
     ]
    },
    {
     "name": "stdout",
     "output_type": "stream",
     "text": [
      "Epoch 24/100 - Training loss: 0.119686 | LR: 0.00152\n"
     ]
    },
    {
     "name": "stderr",
     "output_type": "stream",
     "text": [
      "Validation loss: 0.126906: 100%|██████████| 1/1 [00:01<00:00,  1.02s/it]\n",
      "  0%|          | 0/6 [00:00<?, ?it/s]"
     ]
    },
    {
     "name": "stdout",
     "output_type": "stream",
     "text": [
      "Epoch 24/100 - Validation loss: 0.126906 (Recall: 92.81% | Precision: 93.28% | Mean IoU: 69.00%)\n"
     ]
    },
    {
     "name": "stderr",
     "output_type": "stream",
     "text": [
      "Training loss: 0.127017 | LR: 0.0015: 100%|██████████| 6/6 [00:04<00:00,  1.32it/s]    \n",
      "  0%|          | 0/1 [00:00<?, ?it/s]"
     ]
    },
    {
     "name": "stdout",
     "output_type": "stream",
     "text": [
      "Epoch 25/100 - Training loss: 0.123885 | LR: 0.0015\n"
     ]
    },
    {
     "name": "stderr",
     "output_type": "stream",
     "text": [
      "Validation loss: 0.125793: 100%|██████████| 1/1 [00:01<00:00,  1.04s/it]\n"
     ]
    },
    {
     "name": "stdout",
     "output_type": "stream",
     "text": [
      "Validation loss decreased 0.126696 --> 0.125793: saving state...\n",
      "Epoch 25/100 - Validation loss: 0.125793 (Recall: 92.14% | Precision: 92.76% | Mean IoU: 68.00%)\n"
     ]
    },
    {
     "name": "stderr",
     "output_type": "stream",
     "text": [
      "Training loss: 0.114658 | LR: 0.00148: 100%|██████████| 6/6 [00:03<00:00,  1.51it/s]   \n",
      "  0%|          | 0/1 [00:00<?, ?it/s]"
     ]
    },
    {
     "name": "stdout",
     "output_type": "stream",
     "text": [
      "Epoch 26/100 - Training loss: 0.15334 | LR: 0.00148\n"
     ]
    },
    {
     "name": "stderr",
     "output_type": "stream",
     "text": [
      "Validation loss: 0.126377: 100%|██████████| 1/1 [00:01<00:00,  1.04s/it]\n",
      "  0%|          | 0/6 [00:00<?, ?it/s]"
     ]
    },
    {
     "name": "stdout",
     "output_type": "stream",
     "text": [
      "Epoch 26/100 - Validation loss: 0.126377 (Recall: 93.14% | Precision: 93.30% | Mean IoU: 68.00%)\n"
     ]
    },
    {
     "name": "stderr",
     "output_type": "stream",
     "text": [
      "Training loss: 0.113921 | LR: 0.00146: 100%|██████████| 6/6 [00:04<00:00,  1.41it/s]   \n",
      "  0%|          | 0/1 [00:00<?, ?it/s]"
     ]
    },
    {
     "name": "stdout",
     "output_type": "stream",
     "text": [
      "Epoch 27/100 - Training loss: 0.110276 | LR: 0.00146\n"
     ]
    },
    {
     "name": "stderr",
     "output_type": "stream",
     "text": [
      "Validation loss: 0.124335: 100%|██████████| 1/1 [00:01<00:00,  1.05s/it]\n"
     ]
    },
    {
     "name": "stdout",
     "output_type": "stream",
     "text": [
      "Validation loss decreased 0.125793 --> 0.124335: saving state...\n",
      "Epoch 27/100 - Validation loss: 0.124335 (Recall: 94.82% | Precision: 94.82% | Mean IoU: 70.00%)\n"
     ]
    },
    {
     "name": "stderr",
     "output_type": "stream",
     "text": [
      "Training loss: 0.103559 | LR: 0.00144: 100%|██████████| 6/6 [00:04<00:00,  1.45it/s]   \n",
      "  0%|          | 0/1 [00:00<?, ?it/s]"
     ]
    },
    {
     "name": "stdout",
     "output_type": "stream",
     "text": [
      "Epoch 28/100 - Training loss: 0.131004 | LR: 0.00144\n"
     ]
    },
    {
     "name": "stderr",
     "output_type": "stream",
     "text": [
      "Validation loss: 0.122776: 100%|██████████| 1/1 [00:01<00:00,  1.11s/it]\n"
     ]
    },
    {
     "name": "stdout",
     "output_type": "stream",
     "text": [
      "Validation loss decreased 0.124335 --> 0.122776: saving state...\n",
      "Epoch 28/100 - Validation loss: 0.122776 (Recall: 93.81% | Precision: 93.81% | Mean IoU: 69.00%)\n"
     ]
    },
    {
     "name": "stderr",
     "output_type": "stream",
     "text": [
      "Training loss: 0.106222 | LR: 0.00142: 100%|██████████| 6/6 [00:04<00:00,  1.37it/s]   \n",
      "  0%|          | 0/1 [00:00<?, ?it/s]"
     ]
    },
    {
     "name": "stdout",
     "output_type": "stream",
     "text": [
      "Epoch 29/100 - Training loss: 0.117555 | LR: 0.00142\n"
     ]
    },
    {
     "name": "stderr",
     "output_type": "stream",
     "text": [
      "Validation loss: 0.127494: 100%|██████████| 1/1 [00:01<00:00,  1.05s/it]\n",
      "  0%|          | 0/6 [00:00<?, ?it/s]"
     ]
    },
    {
     "name": "stdout",
     "output_type": "stream",
     "text": [
      "Epoch 29/100 - Validation loss: 0.127494 (Recall: 92.47% | Precision: 92.47% | Mean IoU: 68.00%)\n"
     ]
    },
    {
     "name": "stderr",
     "output_type": "stream",
     "text": [
      "Training loss: 0.109539 | LR: 0.0014: 100%|██████████| 6/6 [00:04<00:00,  1.49it/s]    \n",
      "  0%|          | 0/1 [00:00<?, ?it/s]"
     ]
    },
    {
     "name": "stdout",
     "output_type": "stream",
     "text": [
      "Epoch 30/100 - Training loss: 0.126869 | LR: 0.0014\n"
     ]
    },
    {
     "name": "stderr",
     "output_type": "stream",
     "text": [
      "Validation loss: 0.125017: 100%|██████████| 1/1 [00:01<00:00,  1.03s/it]\n",
      "  0%|          | 0/6 [00:00<?, ?it/s]"
     ]
    },
    {
     "name": "stdout",
     "output_type": "stream",
     "text": [
      "Epoch 30/100 - Validation loss: 0.125017 (Recall: 95.15% | Precision: 95.15% | Mean IoU: 70.00%)\n"
     ]
    },
    {
     "name": "stderr",
     "output_type": "stream",
     "text": [
      "Training loss: 0.142098 | LR: 0.00138: 100%|██████████| 6/6 [00:04<00:00,  1.49it/s]   \n",
      "  0%|          | 0/1 [00:00<?, ?it/s]"
     ]
    },
    {
     "name": "stdout",
     "output_type": "stream",
     "text": [
      "Epoch 31/100 - Training loss: 0.177765 | LR: 0.00138\n"
     ]
    },
    {
     "name": "stderr",
     "output_type": "stream",
     "text": [
      "Validation loss: 0.123741: 100%|██████████| 1/1 [00:01<00:00,  1.12s/it]\n",
      "  0%|          | 0/6 [00:00<?, ?it/s]"
     ]
    },
    {
     "name": "stdout",
     "output_type": "stream",
     "text": [
      "Epoch 31/100 - Validation loss: 0.123741 (Recall: 95.32% | Precision: 95.32% | Mean IoU: 70.00%)\n"
     ]
    },
    {
     "name": "stderr",
     "output_type": "stream",
     "text": [
      "Training loss: 0.114164 | LR: 0.00136: 100%|██████████| 6/6 [00:04<00:00,  1.25it/s]    \n",
      "  0%|          | 0/1 [00:00<?, ?it/s]"
     ]
    },
    {
     "name": "stdout",
     "output_type": "stream",
     "text": [
      "Epoch 32/100 - Training loss: 0.110408 | LR: 0.00136\n"
     ]
    },
    {
     "name": "stderr",
     "output_type": "stream",
     "text": [
      "Validation loss: 0.123082: 100%|██████████| 1/1 [00:01<00:00,  1.03s/it]\n",
      "  0%|          | 0/6 [00:00<?, ?it/s]"
     ]
    },
    {
     "name": "stdout",
     "output_type": "stream",
     "text": [
      "Epoch 32/100 - Validation loss: 0.123082 (Recall: 93.81% | Precision: 93.81% | Mean IoU: 68.00%)\n"
     ]
    },
    {
     "name": "stderr",
     "output_type": "stream",
     "text": [
      "Training loss: 0.105403 | LR: 0.00134: 100%|██████████| 6/6 [00:05<00:00,  1.19it/s]   \n",
      "  0%|          | 0/1 [00:00<?, ?it/s]"
     ]
    },
    {
     "name": "stdout",
     "output_type": "stream",
     "text": [
      "Epoch 33/100 - Training loss: 0.12571 | LR: 0.00134\n"
     ]
    },
    {
     "name": "stderr",
     "output_type": "stream",
     "text": [
      "Validation loss: 0.122639: 100%|██████████| 1/1 [00:01<00:00,  1.10s/it]\n"
     ]
    },
    {
     "name": "stdout",
     "output_type": "stream",
     "text": [
      "Validation loss decreased 0.122776 --> 0.122639: saving state...\n",
      "Epoch 33/100 - Validation loss: 0.122639 (Recall: 94.98% | Precision: 94.98% | Mean IoU: 70.00%)\n"
     ]
    },
    {
     "name": "stderr",
     "output_type": "stream",
     "text": [
      "Training loss: 0.122203 | LR: 0.00132: 100%|██████████| 6/6 [00:04<00:00,  1.41it/s]    \n",
      "  0%|          | 0/1 [00:00<?, ?it/s]"
     ]
    },
    {
     "name": "stdout",
     "output_type": "stream",
     "text": [
      "Epoch 34/100 - Training loss: 0.126001 | LR: 0.00132\n"
     ]
    },
    {
     "name": "stderr",
     "output_type": "stream",
     "text": [
      "Validation loss: 0.122239: 100%|██████████| 1/1 [00:01<00:00,  1.05s/it]\n"
     ]
    },
    {
     "name": "stdout",
     "output_type": "stream",
     "text": [
      "Validation loss decreased 0.122639 --> 0.122239: saving state...\n",
      "Epoch 34/100 - Validation loss: 0.122239 (Recall: 94.65% | Precision: 94.65% | Mean IoU: 69.00%)\n"
     ]
    },
    {
     "name": "stderr",
     "output_type": "stream",
     "text": [
      "Training loss: 0.10262 | LR: 0.0013: 100%|██████████| 6/6 [00:04<00:00,  1.22it/s]     \n",
      "  0%|          | 0/1 [00:00<?, ?it/s]"
     ]
    },
    {
     "name": "stdout",
     "output_type": "stream",
     "text": [
      "Epoch 35/100 - Training loss: 0.116147 | LR: 0.0013\n"
     ]
    },
    {
     "name": "stderr",
     "output_type": "stream",
     "text": [
      "Validation loss: 0.123671: 100%|██████████| 1/1 [00:01<00:00,  1.20s/it]\n",
      "  0%|          | 0/6 [00:00<?, ?it/s]"
     ]
    },
    {
     "name": "stdout",
     "output_type": "stream",
     "text": [
      "Epoch 35/100 - Validation loss: 0.123671 (Recall: 91.30% | Precision: 91.92% | Mean IoU: 68.00%)\n"
     ]
    },
    {
     "name": "stderr",
     "output_type": "stream",
     "text": [
      "Training loss: 0.107345 | LR: 0.00128: 100%|██████████| 6/6 [00:05<00:00,  1.16it/s]   \n",
      "  0%|          | 0/1 [00:00<?, ?it/s]"
     ]
    },
    {
     "name": "stdout",
     "output_type": "stream",
     "text": [
      "Epoch 36/100 - Training loss: 0.104477 | LR: 0.00128\n"
     ]
    },
    {
     "name": "stderr",
     "output_type": "stream",
     "text": [
      "Validation loss: 0.121709: 100%|██████████| 1/1 [00:01<00:00,  1.11s/it]\n"
     ]
    },
    {
     "name": "stdout",
     "output_type": "stream",
     "text": [
      "Validation loss decreased 0.122239 --> 0.121709: saving state...\n",
      "Epoch 36/100 - Validation loss: 0.121709 (Recall: 91.81% | Precision: 92.42% | Mean IoU: 69.00%)\n"
     ]
    },
    {
     "name": "stderr",
     "output_type": "stream",
     "text": [
      "Training loss: 0.106287 | LR: 0.00126: 100%|██████████| 6/6 [00:04<00:00,  1.23it/s]   \n",
      "  0%|          | 0/1 [00:00<?, ?it/s]"
     ]
    },
    {
     "name": "stdout",
     "output_type": "stream",
     "text": [
      "Epoch 37/100 - Training loss: 0.117825 | LR: 0.00126\n"
     ]
    },
    {
     "name": "stderr",
     "output_type": "stream",
     "text": [
      "Validation loss: 0.122298: 100%|██████████| 1/1 [00:01<00:00,  1.10s/it]\n",
      "  0%|          | 0/6 [00:00<?, ?it/s]"
     ]
    },
    {
     "name": "stdout",
     "output_type": "stream",
     "text": [
      "Epoch 37/100 - Validation loss: 0.122298 (Recall: 92.64% | Precision: 93.11% | Mean IoU: 69.00%)\n"
     ]
    },
    {
     "name": "stderr",
     "output_type": "stream",
     "text": [
      "Training loss: 0.0961569 | LR: 0.00124: 100%|██████████| 6/6 [00:04<00:00,  1.29it/s]   \n",
      "  0%|          | 0/1 [00:00<?, ?it/s]"
     ]
    },
    {
     "name": "stdout",
     "output_type": "stream",
     "text": [
      "Epoch 38/100 - Training loss: 0.10992 | LR: 0.00124\n"
     ]
    },
    {
     "name": "stderr",
     "output_type": "stream",
     "text": [
      "Validation loss: 0.120332: 100%|██████████| 1/1 [00:01<00:00,  1.14s/it]\n"
     ]
    },
    {
     "name": "stdout",
     "output_type": "stream",
     "text": [
      "Validation loss decreased 0.121709 --> 0.120332: saving state...\n",
      "Epoch 38/100 - Validation loss: 0.120332 (Recall: 94.15% | Precision: 94.15% | Mean IoU: 69.00%)\n"
     ]
    },
    {
     "name": "stderr",
     "output_type": "stream",
     "text": [
      "Training loss: 0.0908498 | LR: 0.00122: 100%|██████████| 6/6 [00:04<00:00,  1.26it/s]   \n",
      "  0%|          | 0/1 [00:00<?, ?it/s]"
     ]
    },
    {
     "name": "stdout",
     "output_type": "stream",
     "text": [
      "Epoch 39/100 - Training loss: 0.101029 | LR: 0.00122\n"
     ]
    },
    {
     "name": "stderr",
     "output_type": "stream",
     "text": [
      "Validation loss: 0.121839: 100%|██████████| 1/1 [00:01<00:00,  1.14s/it]\n",
      "  0%|          | 0/6 [00:00<?, ?it/s]"
     ]
    },
    {
     "name": "stdout",
     "output_type": "stream",
     "text": [
      "Epoch 39/100 - Validation loss: 0.121839 (Recall: 94.65% | Precision: 94.65% | Mean IoU: 70.00%)\n"
     ]
    },
    {
     "name": "stderr",
     "output_type": "stream",
     "text": [
      "Training loss: 0.109622 | LR: 0.0012: 100%|██████████| 6/6 [00:04<00:00,  1.32it/s]     \n",
      "  0%|          | 0/1 [00:00<?, ?it/s]"
     ]
    },
    {
     "name": "stdout",
     "output_type": "stream",
     "text": [
      "Epoch 40/100 - Training loss: 0.104728 | LR: 0.0012\n"
     ]
    },
    {
     "name": "stderr",
     "output_type": "stream",
     "text": [
      "Validation loss: 0.119686: 100%|██████████| 1/1 [00:01<00:00,  1.03s/it]\n"
     ]
    },
    {
     "name": "stdout",
     "output_type": "stream",
     "text": [
      "Validation loss decreased 0.120332 --> 0.119686: saving state...\n",
      "Epoch 40/100 - Validation loss: 0.119686 (Recall: 94.48% | Precision: 94.48% | Mean IoU: 69.00%)\n"
     ]
    },
    {
     "name": "stderr",
     "output_type": "stream",
     "text": [
      "Training loss: 0.110834 | LR: 0.00118: 100%|██████████| 6/6 [00:04<00:00,  1.42it/s]    \n",
      "  0%|          | 0/1 [00:00<?, ?it/s]"
     ]
    },
    {
     "name": "stdout",
     "output_type": "stream",
     "text": [
      "Epoch 41/100 - Training loss: 0.100542 | LR: 0.00118\n"
     ]
    },
    {
     "name": "stderr",
     "output_type": "stream",
     "text": [
      "Validation loss: 0.120298: 100%|██████████| 1/1 [00:01<00:00,  1.09s/it]\n",
      "  0%|          | 0/6 [00:00<?, ?it/s]"
     ]
    },
    {
     "name": "stdout",
     "output_type": "stream",
     "text": [
      "Epoch 41/100 - Validation loss: 0.120298 (Recall: 93.81% | Precision: 93.81% | Mean IoU: 69.00%)\n"
     ]
    },
    {
     "name": "stderr",
     "output_type": "stream",
     "text": [
      "Training loss: 0.0882249 | LR: 0.00116: 100%|██████████| 6/6 [00:04<00:00,  1.43it/s]   \n",
      "  0%|          | 0/1 [00:00<?, ?it/s]"
     ]
    },
    {
     "name": "stdout",
     "output_type": "stream",
     "text": [
      "Epoch 42/100 - Training loss: 0.0980156 | LR: 0.00116\n"
     ]
    },
    {
     "name": "stderr",
     "output_type": "stream",
     "text": [
      "Validation loss: 0.120015: 100%|██████████| 1/1 [00:01<00:00,  1.06s/it]\n",
      "  0%|          | 0/6 [00:00<?, ?it/s]"
     ]
    },
    {
     "name": "stdout",
     "output_type": "stream",
     "text": [
      "Epoch 42/100 - Validation loss: 0.120015 (Recall: 94.15% | Precision: 94.15% | Mean IoU: 69.00%)\n"
     ]
    },
    {
     "name": "stderr",
     "output_type": "stream",
     "text": [
      "Training loss: 0.0902071 | LR: 0.00114: 100%|██████████| 6/6 [00:04<00:00,  1.42it/s]   \n",
      "  0%|          | 0/1 [00:00<?, ?it/s]"
     ]
    },
    {
     "name": "stdout",
     "output_type": "stream",
     "text": [
      "Epoch 43/100 - Training loss: 0.109524 | LR: 0.00114\n"
     ]
    },
    {
     "name": "stderr",
     "output_type": "stream",
     "text": [
      "Validation loss: 0.118742: 100%|██████████| 1/1 [00:01<00:00,  1.07s/it]\n"
     ]
    },
    {
     "name": "stdout",
     "output_type": "stream",
     "text": [
      "Validation loss decreased 0.119686 --> 0.118742: saving state...\n",
      "Epoch 43/100 - Validation loss: 0.118742 (Recall: 94.48% | Precision: 94.48% | Mean IoU: 70.00%)\n"
     ]
    },
    {
     "name": "stderr",
     "output_type": "stream",
     "text": [
      "Training loss: 0.091164 | LR: 0.00112: 100%|██████████| 6/6 [00:04<00:00,  1.36it/s]    \n",
      "  0%|          | 0/1 [00:00<?, ?it/s]"
     ]
    },
    {
     "name": "stdout",
     "output_type": "stream",
     "text": [
      "Epoch 44/100 - Training loss: 0.102792 | LR: 0.00112\n"
     ]
    },
    {
     "name": "stderr",
     "output_type": "stream",
     "text": [
      "Validation loss: 0.118713: 100%|██████████| 1/1 [00:01<00:00,  1.06s/it]\n"
     ]
    },
    {
     "name": "stdout",
     "output_type": "stream",
     "text": [
      "Validation loss decreased 0.118742 --> 0.118713: saving state...\n",
      "Epoch 44/100 - Validation loss: 0.118713 (Recall: 94.65% | Precision: 94.65% | Mean IoU: 70.00%)\n"
     ]
    },
    {
     "name": "stderr",
     "output_type": "stream",
     "text": [
      "Training loss: 0.0947371 | LR: 0.0011: 100%|██████████| 6/6 [00:04<00:00,  1.47it/s]    \n",
      "  0%|          | 0/1 [00:00<?, ?it/s]"
     ]
    },
    {
     "name": "stdout",
     "output_type": "stream",
     "text": [
      "Epoch 45/100 - Training loss: 0.110368 | LR: 0.0011\n"
     ]
    },
    {
     "name": "stderr",
     "output_type": "stream",
     "text": [
      "Validation loss: 0.118359: 100%|██████████| 1/1 [00:01<00:00,  1.04s/it]\n"
     ]
    },
    {
     "name": "stdout",
     "output_type": "stream",
     "text": [
      "Validation loss decreased 0.118713 --> 0.118359: saving state...\n",
      "Epoch 45/100 - Validation loss: 0.118359 (Recall: 94.98% | Precision: 94.98% | Mean IoU: 70.00%)\n"
     ]
    },
    {
     "name": "stderr",
     "output_type": "stream",
     "text": [
      "Training loss: 0.24034 | LR: 0.00108: 100%|██████████| 6/6 [00:04<00:00,  1.39it/s]     \n",
      "  0%|          | 0/1 [00:00<?, ?it/s]"
     ]
    },
    {
     "name": "stdout",
     "output_type": "stream",
     "text": [
      "Epoch 46/100 - Training loss: 0.122594 | LR: 0.00108\n"
     ]
    },
    {
     "name": "stderr",
     "output_type": "stream",
     "text": [
      "Validation loss: 0.11803: 100%|██████████| 1/1 [00:01<00:00,  1.06s/it]\n"
     ]
    },
    {
     "name": "stdout",
     "output_type": "stream",
     "text": [
      "Validation loss decreased 0.118359 --> 0.11803: saving state...\n",
      "Epoch 46/100 - Validation loss: 0.11803 (Recall: 94.98% | Precision: 94.98% | Mean IoU: 70.00%)\n"
     ]
    },
    {
     "name": "stderr",
     "output_type": "stream",
     "text": [
      "Training loss: 0.0847859 | LR: 0.00106: 100%|██████████| 6/6 [00:04<00:00,  1.42it/s]   \n",
      "  0%|          | 0/1 [00:00<?, ?it/s]"
     ]
    },
    {
     "name": "stdout",
     "output_type": "stream",
     "text": [
      "Epoch 47/100 - Training loss: 0.100978 | LR: 0.00106\n"
     ]
    },
    {
     "name": "stderr",
     "output_type": "stream",
     "text": [
      "Validation loss: 0.121407: 100%|██████████| 1/1 [00:01<00:00,  1.06s/it]\n",
      "  0%|          | 0/6 [00:00<?, ?it/s]"
     ]
    },
    {
     "name": "stdout",
     "output_type": "stream",
     "text": [
      "Epoch 47/100 - Validation loss: 0.121407 (Recall: 94.65% | Precision: 94.65% | Mean IoU: 70.00%)\n"
     ]
    },
    {
     "name": "stderr",
     "output_type": "stream",
     "text": [
      "Training loss: 0.109724 | LR: 0.00104: 100%|██████████| 6/6 [00:04<00:00,  1.42it/s]    \n",
      "  0%|          | 0/1 [00:00<?, ?it/s]"
     ]
    },
    {
     "name": "stdout",
     "output_type": "stream",
     "text": [
      "Epoch 48/100 - Training loss: 0.09283 | LR: 0.00104\n"
     ]
    },
    {
     "name": "stderr",
     "output_type": "stream",
     "text": [
      "Validation loss: 0.119542: 100%|██████████| 1/1 [00:01<00:00,  1.08s/it]\n",
      "  0%|          | 0/6 [00:00<?, ?it/s]"
     ]
    },
    {
     "name": "stdout",
     "output_type": "stream",
     "text": [
      "Epoch 48/100 - Validation loss: 0.119542 (Recall: 94.98% | Precision: 94.82% | Mean IoU: 70.00%)\n"
     ]
    },
    {
     "name": "stderr",
     "output_type": "stream",
     "text": [
      "Training loss: 0.139785 | LR: 0.00102: 100%|██████████| 6/6 [00:04<00:00,  1.45it/s]    \n",
      "  0%|          | 0/1 [00:00<?, ?it/s]"
     ]
    },
    {
     "name": "stdout",
     "output_type": "stream",
     "text": [
      "Epoch 49/100 - Training loss: 0.11668 | LR: 0.00102\n"
     ]
    },
    {
     "name": "stderr",
     "output_type": "stream",
     "text": [
      "Validation loss: 0.119202: 100%|██████████| 1/1 [00:01<00:00,  1.06s/it]\n",
      "  0%|          | 0/6 [00:00<?, ?it/s]"
     ]
    },
    {
     "name": "stdout",
     "output_type": "stream",
     "text": [
      "Epoch 49/100 - Validation loss: 0.119202 (Recall: 94.82% | Precision: 94.82% | Mean IoU: 70.00%)\n"
     ]
    },
    {
     "name": "stderr",
     "output_type": "stream",
     "text": [
      "Training loss: 0.0839598 | LR: 0.001: 100%|██████████| 6/6 [00:04<00:00,  1.44it/s]     \n",
      "  0%|          | 0/1 [00:00<?, ?it/s]"
     ]
    },
    {
     "name": "stdout",
     "output_type": "stream",
     "text": [
      "Epoch 50/100 - Training loss: 0.0901582 | LR: 0.001\n"
     ]
    },
    {
     "name": "stderr",
     "output_type": "stream",
     "text": [
      "Validation loss: 0.118057: 100%|██████████| 1/1 [00:01<00:00,  1.18s/it]\n",
      "  0%|          | 0/6 [00:00<?, ?it/s]"
     ]
    },
    {
     "name": "stdout",
     "output_type": "stream",
     "text": [
      "Epoch 50/100 - Validation loss: 0.118057 (Recall: 94.82% | Precision: 94.82% | Mean IoU: 70.00%)\n"
     ]
    },
    {
     "name": "stderr",
     "output_type": "stream",
     "text": [
      "Training loss: 0.0873699 | LR: 0.00098: 100%|██████████| 6/6 [00:04<00:00,  1.35it/s]    \n",
      "  0%|          | 0/1 [00:00<?, ?it/s]"
     ]
    },
    {
     "name": "stdout",
     "output_type": "stream",
     "text": [
      "Epoch 51/100 - Training loss: 0.0863062 | LR: 0.00098\n"
     ]
    },
    {
     "name": "stderr",
     "output_type": "stream",
     "text": [
      "Validation loss: 0.11806: 100%|██████████| 1/1 [00:01<00:00,  1.09s/it]\n",
      "  0%|          | 0/6 [00:00<?, ?it/s]"
     ]
    },
    {
     "name": "stdout",
     "output_type": "stream",
     "text": [
      "Epoch 51/100 - Validation loss: 0.11806 (Recall: 95.32% | Precision: 95.32% | Mean IoU: 71.00%)\n"
     ]
    },
    {
     "name": "stderr",
     "output_type": "stream",
     "text": [
      "Training loss: 0.0874873 | LR: 0.00096: 100%|██████████| 6/6 [00:04<00:00,  1.41it/s]    \n",
      "  0%|          | 0/1 [00:00<?, ?it/s]"
     ]
    },
    {
     "name": "stdout",
     "output_type": "stream",
     "text": [
      "Epoch 52/100 - Training loss: 0.0952425 | LR: 0.00096\n"
     ]
    },
    {
     "name": "stderr",
     "output_type": "stream",
     "text": [
      "Validation loss: 0.117479: 100%|██████████| 1/1 [00:01<00:00,  1.07s/it]\n"
     ]
    },
    {
     "name": "stdout",
     "output_type": "stream",
     "text": [
      "Validation loss decreased 0.11803 --> 0.117479: saving state...\n",
      "Epoch 52/100 - Validation loss: 0.117479 (Recall: 94.98% | Precision: 94.98% | Mean IoU: 70.00%)\n"
     ]
    },
    {
     "name": "stderr",
     "output_type": "stream",
     "text": [
      "Training loss: 0.0870594 | LR: 0.00094: 100%|██████████| 6/6 [00:04<00:00,  1.35it/s]    \n",
      "  0%|          | 0/1 [00:00<?, ?it/s]"
     ]
    },
    {
     "name": "stdout",
     "output_type": "stream",
     "text": [
      "Epoch 53/100 - Training loss: 0.0966761 | LR: 0.00094\n"
     ]
    },
    {
     "name": "stderr",
     "output_type": "stream",
     "text": [
      "Validation loss: 0.117524: 100%|██████████| 1/1 [00:01<00:00,  1.07s/it]\n",
      "  0%|          | 0/6 [00:00<?, ?it/s]"
     ]
    },
    {
     "name": "stdout",
     "output_type": "stream",
     "text": [
      "Epoch 53/100 - Validation loss: 0.117524 (Recall: 94.65% | Precision: 94.49% | Mean IoU: 70.00%)\n"
     ]
    },
    {
     "name": "stderr",
     "output_type": "stream",
     "text": [
      "Training loss: 0.103508 | LR: 0.00092: 100%|██████████| 6/6 [00:04<00:00,  1.44it/s]     \n",
      "  0%|          | 0/1 [00:00<?, ?it/s]"
     ]
    },
    {
     "name": "stdout",
     "output_type": "stream",
     "text": [
      "Epoch 54/100 - Training loss: 0.110375 | LR: 0.00092\n"
     ]
    },
    {
     "name": "stderr",
     "output_type": "stream",
     "text": [
      "Validation loss: 0.11778: 100%|██████████| 1/1 [00:01<00:00,  1.06s/it]\n",
      "  0%|          | 0/6 [00:00<?, ?it/s]"
     ]
    },
    {
     "name": "stdout",
     "output_type": "stream",
     "text": [
      "Epoch 54/100 - Validation loss: 0.11778 (Recall: 94.98% | Precision: 94.98% | Mean IoU: 71.00%)\n"
     ]
    },
    {
     "name": "stderr",
     "output_type": "stream",
     "text": [
      "Training loss: 0.12032 | LR: 0.0009: 100%|██████████| 6/6 [00:04<00:00,  1.40it/s]       \n",
      "  0%|          | 0/1 [00:00<?, ?it/s]"
     ]
    },
    {
     "name": "stdout",
     "output_type": "stream",
     "text": [
      "Epoch 55/100 - Training loss: 0.0942775 | LR: 0.0009\n"
     ]
    },
    {
     "name": "stderr",
     "output_type": "stream",
     "text": [
      "Validation loss: 0.118529: 100%|██████████| 1/1 [00:01<00:00,  1.32s/it]\n",
      "  0%|          | 0/6 [00:00<?, ?it/s]"
     ]
    },
    {
     "name": "stdout",
     "output_type": "stream",
     "text": [
      "Epoch 55/100 - Validation loss: 0.118529 (Recall: 95.99% | Precision: 95.99% | Mean IoU: 72.00%)\n"
     ]
    },
    {
     "name": "stderr",
     "output_type": "stream",
     "text": [
      "Training loss: 0.0973868 | LR: 0.00088: 100%|██████████| 6/6 [00:04<00:00,  1.39it/s]    \n",
      "  0%|          | 0/1 [00:00<?, ?it/s]"
     ]
    },
    {
     "name": "stdout",
     "output_type": "stream",
     "text": [
      "Epoch 56/100 - Training loss: 0.094985 | LR: 0.00088\n"
     ]
    },
    {
     "name": "stderr",
     "output_type": "stream",
     "text": [
      "Validation loss: 0.118641: 100%|██████████| 1/1 [00:01<00:00,  1.07s/it]\n",
      "  0%|          | 0/6 [00:00<?, ?it/s]"
     ]
    },
    {
     "name": "stdout",
     "output_type": "stream",
     "text": [
      "Epoch 56/100 - Validation loss: 0.118641 (Recall: 94.98% | Precision: 94.98% | Mean IoU: 70.00%)\n"
     ]
    },
    {
     "name": "stderr",
     "output_type": "stream",
     "text": [
      "Training loss: 0.10209 | LR: 0.00086: 100%|██████████| 6/6 [00:04<00:00,  1.42it/s]      \n",
      "  0%|          | 0/1 [00:00<?, ?it/s]"
     ]
    },
    {
     "name": "stdout",
     "output_type": "stream",
     "text": [
      "Epoch 57/100 - Training loss: 0.0999016 | LR: 0.00086\n"
     ]
    },
    {
     "name": "stderr",
     "output_type": "stream",
     "text": [
      "Validation loss: 0.117726: 100%|██████████| 1/1 [00:01<00:00,  1.07s/it]\n",
      "  0%|          | 0/6 [00:00<?, ?it/s]"
     ]
    },
    {
     "name": "stdout",
     "output_type": "stream",
     "text": [
      "Epoch 57/100 - Validation loss: 0.117726 (Recall: 94.98% | Precision: 94.98% | Mean IoU: 70.00%)\n"
     ]
    },
    {
     "name": "stderr",
     "output_type": "stream",
     "text": [
      "Training loss: 0.230548 | LR: 0.00084: 100%|██████████| 6/6 [00:04<00:00,  1.42it/s]    \n",
      "  0%|          | 0/1 [00:00<?, ?it/s]"
     ]
    },
    {
     "name": "stdout",
     "output_type": "stream",
     "text": [
      "Epoch 58/100 - Training loss: 0.124305 | LR: 0.00084\n"
     ]
    },
    {
     "name": "stderr",
     "output_type": "stream",
     "text": [
      "Validation loss: 0.118193: 100%|██████████| 1/1 [00:01<00:00,  1.08s/it]\n",
      "  0%|          | 0/6 [00:00<?, ?it/s]"
     ]
    },
    {
     "name": "stdout",
     "output_type": "stream",
     "text": [
      "Epoch 58/100 - Validation loss: 0.118193 (Recall: 95.65% | Precision: 95.65% | Mean IoU: 72.00%)\n"
     ]
    },
    {
     "name": "stderr",
     "output_type": "stream",
     "text": [
      "Training loss: 0.104163 | LR: 0.00082: 100%|██████████| 6/6 [00:04<00:00,  1.44it/s]     \n",
      "  0%|          | 0/1 [00:00<?, ?it/s]"
     ]
    },
    {
     "name": "stdout",
     "output_type": "stream",
     "text": [
      "Epoch 59/100 - Training loss: 0.104757 | LR: 0.00082\n"
     ]
    },
    {
     "name": "stderr",
     "output_type": "stream",
     "text": [
      "Validation loss: 0.118749: 100%|██████████| 1/1 [00:01<00:00,  1.06s/it]\n",
      "  0%|          | 0/6 [00:00<?, ?it/s]"
     ]
    },
    {
     "name": "stdout",
     "output_type": "stream",
     "text": [
      "Epoch 59/100 - Validation loss: 0.118749 (Recall: 95.48% | Precision: 95.48% | Mean IoU: 71.00%)\n"
     ]
    },
    {
     "name": "stderr",
     "output_type": "stream",
     "text": [
      "Training loss: 0.0756644 | LR: 0.0008: 100%|██████████| 6/6 [00:04<00:00,  1.41it/s]     \n",
      "  0%|          | 0/1 [00:00<?, ?it/s]"
     ]
    },
    {
     "name": "stdout",
     "output_type": "stream",
     "text": [
      "Epoch 60/100 - Training loss: 0.0916708 | LR: 0.0008\n"
     ]
    },
    {
     "name": "stderr",
     "output_type": "stream",
     "text": [
      "Validation loss: 0.116837: 100%|██████████| 1/1 [00:01<00:00,  1.11s/it]\n"
     ]
    },
    {
     "name": "stdout",
     "output_type": "stream",
     "text": [
      "Validation loss decreased 0.117479 --> 0.116837: saving state...\n",
      "Epoch 60/100 - Validation loss: 0.116837 (Recall: 94.82% | Precision: 94.82% | Mean IoU: 70.00%)\n"
     ]
    },
    {
     "name": "stderr",
     "output_type": "stream",
     "text": [
      "Training loss: 0.078907 | LR: 0.00078: 100%|██████████| 6/6 [00:04<00:00,  1.41it/s]     \n",
      "  0%|          | 0/1 [00:00<?, ?it/s]"
     ]
    },
    {
     "name": "stdout",
     "output_type": "stream",
     "text": [
      "Epoch 61/100 - Training loss: 0.106889 | LR: 0.00078\n"
     ]
    },
    {
     "name": "stderr",
     "output_type": "stream",
     "text": [
      "Validation loss: 0.116762: 100%|██████████| 1/1 [00:01<00:00,  1.07s/it]\n"
     ]
    },
    {
     "name": "stdout",
     "output_type": "stream",
     "text": [
      "Validation loss decreased 0.116837 --> 0.116762: saving state...\n",
      "Epoch 61/100 - Validation loss: 0.116762 (Recall: 94.98% | Precision: 94.98% | Mean IoU: 70.00%)\n"
     ]
    },
    {
     "name": "stderr",
     "output_type": "stream",
     "text": [
      "Training loss: 0.0840836 | LR: 0.00076: 100%|██████████| 6/6 [00:04<00:00,  1.42it/s]    \n",
      "  0%|          | 0/1 [00:00<?, ?it/s]"
     ]
    },
    {
     "name": "stdout",
     "output_type": "stream",
     "text": [
      "Epoch 62/100 - Training loss: 0.127008 | LR: 0.00076\n"
     ]
    },
    {
     "name": "stderr",
     "output_type": "stream",
     "text": [
      "Validation loss: 0.116748: 100%|██████████| 1/1 [00:01<00:00,  1.07s/it]\n"
     ]
    },
    {
     "name": "stdout",
     "output_type": "stream",
     "text": [
      "Validation loss decreased 0.116762 --> 0.116748: saving state...\n",
      "Epoch 62/100 - Validation loss: 0.116748 (Recall: 94.31% | Precision: 94.31% | Mean IoU: 70.00%)\n"
     ]
    },
    {
     "name": "stderr",
     "output_type": "stream",
     "text": [
      "Training loss: 0.0793683 | LR: 0.00074: 100%|██████████| 6/6 [00:04<00:00,  1.36it/s]    \n",
      "  0%|          | 0/1 [00:00<?, ?it/s]"
     ]
    },
    {
     "name": "stdout",
     "output_type": "stream",
     "text": [
      "Epoch 63/100 - Training loss: 0.107239 | LR: 0.00074\n"
     ]
    },
    {
     "name": "stderr",
     "output_type": "stream",
     "text": [
      "Validation loss: 0.116338: 100%|██████████| 1/1 [00:01<00:00,  1.06s/it]\n"
     ]
    },
    {
     "name": "stdout",
     "output_type": "stream",
     "text": [
      "Validation loss decreased 0.116748 --> 0.116338: saving state...\n",
      "Epoch 63/100 - Validation loss: 0.116338 (Recall: 94.48% | Precision: 94.64% | Mean IoU: 70.00%)\n"
     ]
    },
    {
     "name": "stderr",
     "output_type": "stream",
     "text": [
      "Training loss: 0.165101 | LR: 0.00072: 100%|██████████| 6/6 [00:04<00:00,  1.40it/s]     \n",
      "  0%|          | 0/1 [00:00<?, ?it/s]"
     ]
    },
    {
     "name": "stdout",
     "output_type": "stream",
     "text": [
      "Epoch 64/100 - Training loss: 0.108224 | LR: 0.00072\n"
     ]
    },
    {
     "name": "stderr",
     "output_type": "stream",
     "text": [
      "Validation loss: 0.115929: 100%|██████████| 1/1 [00:01<00:00,  1.11s/it]\n"
     ]
    },
    {
     "name": "stdout",
     "output_type": "stream",
     "text": [
      "Validation loss decreased 0.116338 --> 0.115929: saving state...\n",
      "Epoch 64/100 - Validation loss: 0.115929 (Recall: 94.98% | Precision: 95.14% | Mean IoU: 70.00%)\n"
     ]
    },
    {
     "name": "stderr",
     "output_type": "stream",
     "text": [
      "Training loss: 0.0941996 | LR: 0.0007: 100%|██████████| 6/6 [00:04<00:00,  1.38it/s]     \n",
      "  0%|          | 0/1 [00:00<?, ?it/s]"
     ]
    },
    {
     "name": "stdout",
     "output_type": "stream",
     "text": [
      "Epoch 65/100 - Training loss: 0.100527 | LR: 0.0007\n"
     ]
    },
    {
     "name": "stderr",
     "output_type": "stream",
     "text": [
      "Validation loss: 0.1158: 100%|██████████| 1/1 [00:01<00:00,  1.10s/it]\n"
     ]
    },
    {
     "name": "stdout",
     "output_type": "stream",
     "text": [
      "Validation loss decreased 0.115929 --> 0.1158: saving state...\n",
      "Epoch 65/100 - Validation loss: 0.1158 (Recall: 95.15% | Precision: 95.15% | Mean IoU: 69.00%)\n"
     ]
    },
    {
     "name": "stderr",
     "output_type": "stream",
     "text": [
      "Training loss: 0.0920089 | LR: 0.00068: 100%|██████████| 6/6 [00:04<00:00,  1.36it/s]    \n",
      "  0%|          | 0/1 [00:00<?, ?it/s]"
     ]
    },
    {
     "name": "stdout",
     "output_type": "stream",
     "text": [
      "Epoch 66/100 - Training loss: 0.0869479 | LR: 0.00068\n"
     ]
    },
    {
     "name": "stderr",
     "output_type": "stream",
     "text": [
      "Validation loss: 0.115477: 100%|██████████| 1/1 [00:01<00:00,  1.06s/it]\n"
     ]
    },
    {
     "name": "stdout",
     "output_type": "stream",
     "text": [
      "Validation loss decreased 0.1158 --> 0.115477: saving state...\n",
      "Epoch 66/100 - Validation loss: 0.115477 (Recall: 95.65% | Precision: 95.81% | Mean IoU: 70.00%)\n"
     ]
    },
    {
     "name": "stderr",
     "output_type": "stream",
     "text": [
      "Training loss: 0.138577 | LR: 0.00066: 100%|██████████| 6/6 [00:04<00:00,  1.45it/s]     \n",
      "  0%|          | 0/1 [00:00<?, ?it/s]"
     ]
    },
    {
     "name": "stdout",
     "output_type": "stream",
     "text": [
      "Epoch 67/100 - Training loss: 0.105318 | LR: 0.00066\n"
     ]
    },
    {
     "name": "stderr",
     "output_type": "stream",
     "text": [
      "Validation loss: 0.115906: 100%|██████████| 1/1 [00:01<00:00,  1.07s/it]\n",
      "  0%|          | 0/6 [00:00<?, ?it/s]"
     ]
    },
    {
     "name": "stdout",
     "output_type": "stream",
     "text": [
      "Epoch 67/100 - Validation loss: 0.115906 (Recall: 95.15% | Precision: 95.31% | Mean IoU: 70.00%)\n"
     ]
    },
    {
     "name": "stderr",
     "output_type": "stream",
     "text": [
      "Training loss: 0.176366 | LR: 0.00064: 100%|██████████| 6/6 [00:04<00:00,  1.43it/s]     \n",
      "  0%|          | 0/1 [00:00<?, ?it/s]"
     ]
    },
    {
     "name": "stdout",
     "output_type": "stream",
     "text": [
      "Epoch 68/100 - Training loss: 0.104572 | LR: 0.00064\n"
     ]
    },
    {
     "name": "stderr",
     "output_type": "stream",
     "text": [
      "Validation loss: 0.116387: 100%|██████████| 1/1 [00:01<00:00,  1.08s/it]\n",
      "  0%|          | 0/6 [00:00<?, ?it/s]"
     ]
    },
    {
     "name": "stdout",
     "output_type": "stream",
     "text": [
      "Epoch 68/100 - Validation loss: 0.116387 (Recall: 94.98% | Precision: 94.98% | Mean IoU: 70.00%)\n"
     ]
    },
    {
     "name": "stderr",
     "output_type": "stream",
     "text": [
      "Training loss: 0.0830273 | LR: 0.00062: 100%|██████████| 6/6 [00:04<00:00,  1.40it/s]    \n",
      "  0%|          | 0/1 [00:00<?, ?it/s]"
     ]
    },
    {
     "name": "stdout",
     "output_type": "stream",
     "text": [
      "Epoch 69/100 - Training loss: 0.106304 | LR: 0.00062\n"
     ]
    },
    {
     "name": "stderr",
     "output_type": "stream",
     "text": [
      "Validation loss: 0.115945: 100%|██████████| 1/1 [00:01<00:00,  1.16s/it]\n",
      "  0%|          | 0/6 [00:00<?, ?it/s]"
     ]
    },
    {
     "name": "stdout",
     "output_type": "stream",
     "text": [
      "Epoch 69/100 - Validation loss: 0.115945 (Recall: 94.48% | Precision: 94.64% | Mean IoU: 70.00%)\n"
     ]
    },
    {
     "name": "stderr",
     "output_type": "stream",
     "text": [
      "Training loss: 0.0800057 | LR: 0.0006: 100%|██████████| 6/6 [00:04<00:00,  1.44it/s]     \n",
      "  0%|          | 0/1 [00:00<?, ?it/s]"
     ]
    },
    {
     "name": "stdout",
     "output_type": "stream",
     "text": [
      "Epoch 70/100 - Training loss: 0.101868 | LR: 0.0006\n"
     ]
    },
    {
     "name": "stderr",
     "output_type": "stream",
     "text": [
      "Validation loss: 0.115745: 100%|██████████| 1/1 [00:01<00:00,  1.07s/it]\n",
      "  0%|          | 0/6 [00:00<?, ?it/s]"
     ]
    },
    {
     "name": "stdout",
     "output_type": "stream",
     "text": [
      "Epoch 70/100 - Validation loss: 0.115745 (Recall: 94.65% | Precision: 94.65% | Mean IoU: 70.00%)\n"
     ]
    },
    {
     "name": "stderr",
     "output_type": "stream",
     "text": [
      "Training loss: 0.0746406 | LR: 0.00058: 100%|██████████| 6/6 [00:04<00:00,  1.39it/s]    \n",
      "  0%|          | 0/1 [00:00<?, ?it/s]"
     ]
    },
    {
     "name": "stdout",
     "output_type": "stream",
     "text": [
      "Epoch 71/100 - Training loss: 0.0936269 | LR: 0.00058\n"
     ]
    },
    {
     "name": "stderr",
     "output_type": "stream",
     "text": [
      "Validation loss: 0.11564: 100%|██████████| 1/1 [00:01<00:00,  1.06s/it]\n",
      "  0%|          | 0/6 [00:00<?, ?it/s]"
     ]
    },
    {
     "name": "stdout",
     "output_type": "stream",
     "text": [
      "Epoch 71/100 - Validation loss: 0.11564 (Recall: 94.82% | Precision: 94.82% | Mean IoU: 70.00%)\n"
     ]
    },
    {
     "name": "stderr",
     "output_type": "stream",
     "text": [
      "Training loss: 0.0726498 | LR: 0.00056: 100%|██████████| 6/6 [00:04<00:00,  1.39it/s]    \n",
      "  0%|          | 0/1 [00:00<?, ?it/s]"
     ]
    },
    {
     "name": "stdout",
     "output_type": "stream",
     "text": [
      "Epoch 72/100 - Training loss: 0.0817474 | LR: 0.00056\n"
     ]
    },
    {
     "name": "stderr",
     "output_type": "stream",
     "text": [
      "Validation loss: 0.115497: 100%|██████████| 1/1 [00:01<00:00,  1.08s/it]\n",
      "  0%|          | 0/6 [00:00<?, ?it/s]"
     ]
    },
    {
     "name": "stdout",
     "output_type": "stream",
     "text": [
      "Epoch 72/100 - Validation loss: 0.115497 (Recall: 95.65% | Precision: 95.65% | Mean IoU: 71.00%)\n"
     ]
    },
    {
     "name": "stderr",
     "output_type": "stream",
     "text": [
      "Training loss: 0.0786763 | LR: 0.00054: 100%|██████████| 6/6 [00:04<00:00,  1.38it/s]    \n",
      "  0%|          | 0/1 [00:00<?, ?it/s]"
     ]
    },
    {
     "name": "stdout",
     "output_type": "stream",
     "text": [
      "Epoch 73/100 - Training loss: 0.0940034 | LR: 0.00054\n"
     ]
    },
    {
     "name": "stderr",
     "output_type": "stream",
     "text": [
      "Validation loss: 0.115528: 100%|██████████| 1/1 [00:01<00:00,  1.05s/it]\n",
      "  0%|          | 0/6 [00:00<?, ?it/s]"
     ]
    },
    {
     "name": "stdout",
     "output_type": "stream",
     "text": [
      "Epoch 73/100 - Validation loss: 0.115528 (Recall: 95.32% | Precision: 95.48% | Mean IoU: 70.00%)\n"
     ]
    },
    {
     "name": "stderr",
     "output_type": "stream",
     "text": [
      "Training loss: 0.0733159 | LR: 0.00052: 100%|██████████| 6/6 [00:04<00:00,  1.42it/s]    \n",
      "  0%|          | 0/1 [00:00<?, ?it/s]"
     ]
    },
    {
     "name": "stdout",
     "output_type": "stream",
     "text": [
      "Epoch 74/100 - Training loss: 0.0861713 | LR: 0.00052\n"
     ]
    },
    {
     "name": "stderr",
     "output_type": "stream",
     "text": [
      "Validation loss: 0.115399: 100%|██████████| 1/1 [00:01<00:00,  1.08s/it]\n"
     ]
    },
    {
     "name": "stdout",
     "output_type": "stream",
     "text": [
      "Validation loss decreased 0.115477 --> 0.115399: saving state...\n",
      "Epoch 74/100 - Validation loss: 0.115399 (Recall: 95.32% | Precision: 95.48% | Mean IoU: 70.00%)\n"
     ]
    },
    {
     "name": "stderr",
     "output_type": "stream",
     "text": [
      "Training loss: 0.111112 | LR: 0.0005: 100%|██████████| 6/6 [00:04<00:00,  1.35it/s]      \n",
      "  0%|          | 0/1 [00:00<?, ?it/s]"
     ]
    },
    {
     "name": "stdout",
     "output_type": "stream",
     "text": [
      "Epoch 75/100 - Training loss: 0.091095 | LR: 0.0005\n"
     ]
    },
    {
     "name": "stderr",
     "output_type": "stream",
     "text": [
      "Validation loss: 0.115592: 100%|██████████| 1/1 [00:01<00:00,  1.08s/it]\n",
      "  0%|          | 0/6 [00:00<?, ?it/s]"
     ]
    },
    {
     "name": "stdout",
     "output_type": "stream",
     "text": [
      "Epoch 75/100 - Validation loss: 0.115592 (Recall: 94.98% | Precision: 95.14% | Mean IoU: 70.00%)\n"
     ]
    },
    {
     "name": "stderr",
     "output_type": "stream",
     "text": [
      "Training loss: 0.127663 | LR: 0.00048: 100%|██████████| 6/6 [00:04<00:00,  1.47it/s]     \n",
      "  0%|          | 0/1 [00:00<?, ?it/s]"
     ]
    },
    {
     "name": "stdout",
     "output_type": "stream",
     "text": [
      "Epoch 76/100 - Training loss: 0.11775 | LR: 0.00048\n"
     ]
    },
    {
     "name": "stderr",
     "output_type": "stream",
     "text": [
      "Validation loss: 0.115298: 100%|██████████| 1/1 [00:01<00:00,  1.07s/it]\n"
     ]
    },
    {
     "name": "stdout",
     "output_type": "stream",
     "text": [
      "Validation loss decreased 0.115399 --> 0.115298: saving state...\n",
      "Epoch 76/100 - Validation loss: 0.115298 (Recall: 95.82% | Precision: 95.82% | Mean IoU: 71.00%)\n"
     ]
    },
    {
     "name": "stderr",
     "output_type": "stream",
     "text": [
      "Training loss: 0.088649 | LR: 0.00046: 100%|██████████| 6/6 [00:04<00:00,  1.38it/s]     \n",
      "  0%|          | 0/1 [00:00<?, ?it/s]"
     ]
    },
    {
     "name": "stdout",
     "output_type": "stream",
     "text": [
      "Epoch 77/100 - Training loss: 0.0938826 | LR: 0.00046\n"
     ]
    },
    {
     "name": "stderr",
     "output_type": "stream",
     "text": [
      "Validation loss: 0.115539: 100%|██████████| 1/1 [00:01<00:00,  1.07s/it]\n",
      "  0%|          | 0/6 [00:00<?, ?it/s]"
     ]
    },
    {
     "name": "stdout",
     "output_type": "stream",
     "text": [
      "Epoch 77/100 - Validation loss: 0.115539 (Recall: 96.15% | Precision: 96.15% | Mean IoU: 71.00%)\n"
     ]
    },
    {
     "name": "stderr",
     "output_type": "stream",
     "text": [
      "Training loss: 0.0679934 | LR: 0.00044: 100%|██████████| 6/6 [00:04<00:00,  1.41it/s]    \n",
      "  0%|          | 0/1 [00:00<?, ?it/s]"
     ]
    },
    {
     "name": "stdout",
     "output_type": "stream",
     "text": [
      "Epoch 78/100 - Training loss: 0.0868637 | LR: 0.00044\n"
     ]
    },
    {
     "name": "stderr",
     "output_type": "stream",
     "text": [
      "Validation loss: 0.114997: 100%|██████████| 1/1 [00:01<00:00,  1.07s/it]\n"
     ]
    },
    {
     "name": "stdout",
     "output_type": "stream",
     "text": [
      "Validation loss decreased 0.115298 --> 0.114997: saving state...\n",
      "Epoch 78/100 - Validation loss: 0.114997 (Recall: 96.32% | Precision: 96.32% | Mean IoU: 71.00%)\n"
     ]
    },
    {
     "name": "stderr",
     "output_type": "stream",
     "text": [
      "Training loss: 0.103404 | LR: 0.00042: 100%|██████████| 6/6 [00:04<00:00,  1.39it/s]     \n",
      "  0%|          | 0/1 [00:00<?, ?it/s]"
     ]
    },
    {
     "name": "stdout",
     "output_type": "stream",
     "text": [
      "Epoch 79/100 - Training loss: 0.0912608 | LR: 0.00042\n"
     ]
    },
    {
     "name": "stderr",
     "output_type": "stream",
     "text": [
      "Validation loss: 0.115599: 100%|██████████| 1/1 [00:01<00:00,  1.11s/it]\n",
      "  0%|          | 0/6 [00:00<?, ?it/s]"
     ]
    },
    {
     "name": "stdout",
     "output_type": "stream",
     "text": [
      "Epoch 79/100 - Validation loss: 0.115599 (Recall: 95.65% | Precision: 95.81% | Mean IoU: 71.00%)\n"
     ]
    },
    {
     "name": "stderr",
     "output_type": "stream",
     "text": [
      "Training loss: 0.0869151 | LR: 0.0004: 100%|██████████| 6/6 [00:04<00:00,  1.47it/s]     \n",
      "  0%|          | 0/1 [00:00<?, ?it/s]"
     ]
    },
    {
     "name": "stdout",
     "output_type": "stream",
     "text": [
      "Epoch 80/100 - Training loss: 0.0887142 | LR: 0.0004\n"
     ]
    },
    {
     "name": "stderr",
     "output_type": "stream",
     "text": [
      "Validation loss: 0.115407: 100%|██████████| 1/1 [00:01<00:00,  1.08s/it]\n",
      "  0%|          | 0/6 [00:00<?, ?it/s]"
     ]
    },
    {
     "name": "stdout",
     "output_type": "stream",
     "text": [
      "Epoch 80/100 - Validation loss: 0.115407 (Recall: 95.82% | Precision: 95.98% | Mean IoU: 71.00%)\n"
     ]
    },
    {
     "name": "stderr",
     "output_type": "stream",
     "text": [
      "Training loss: 0.118799 | LR: 0.00038: 100%|██████████| 6/6 [00:04<00:00,  1.38it/s]     \n",
      "  0%|          | 0/1 [00:00<?, ?it/s]"
     ]
    },
    {
     "name": "stdout",
     "output_type": "stream",
     "text": [
      "Epoch 81/100 - Training loss: 0.0961516 | LR: 0.00038\n"
     ]
    },
    {
     "name": "stderr",
     "output_type": "stream",
     "text": [
      "Validation loss: 0.115464: 100%|██████████| 1/1 [00:01<00:00,  1.07s/it]\n",
      "  0%|          | 0/6 [00:00<?, ?it/s]"
     ]
    },
    {
     "name": "stdout",
     "output_type": "stream",
     "text": [
      "Epoch 81/100 - Validation loss: 0.115464 (Recall: 95.15% | Precision: 95.31% | Mean IoU: 71.00%)\n"
     ]
    },
    {
     "name": "stderr",
     "output_type": "stream",
     "text": [
      "Training loss: 0.0799942 | LR: 0.00036: 100%|██████████| 6/6 [00:04<00:00,  1.45it/s]    \n",
      "  0%|          | 0/1 [00:00<?, ?it/s]"
     ]
    },
    {
     "name": "stdout",
     "output_type": "stream",
     "text": [
      "Epoch 82/100 - Training loss: 0.096828 | LR: 0.00036\n"
     ]
    },
    {
     "name": "stderr",
     "output_type": "stream",
     "text": [
      "Validation loss: 0.115434: 100%|██████████| 1/1 [00:01<00:00,  1.07s/it]\n",
      "  0%|          | 0/6 [00:00<?, ?it/s]"
     ]
    },
    {
     "name": "stdout",
     "output_type": "stream",
     "text": [
      "Epoch 82/100 - Validation loss: 0.115434 (Recall: 95.15% | Precision: 95.31% | Mean IoU: 71.00%)\n"
     ]
    },
    {
     "name": "stderr",
     "output_type": "stream",
     "text": [
      "Training loss: 0.0872495 | LR: 0.00034: 100%|██████████| 6/6 [00:04<00:00,  1.32it/s]    \n",
      "  0%|          | 0/1 [00:00<?, ?it/s]"
     ]
    },
    {
     "name": "stdout",
     "output_type": "stream",
     "text": [
      "Epoch 83/100 - Training loss: 0.0847523 | LR: 0.00034\n"
     ]
    },
    {
     "name": "stderr",
     "output_type": "stream",
     "text": [
      "Validation loss: 0.115527: 100%|██████████| 1/1 [00:01<00:00,  1.06s/it]\n",
      "  0%|          | 0/6 [00:00<?, ?it/s]"
     ]
    },
    {
     "name": "stdout",
     "output_type": "stream",
     "text": [
      "Epoch 83/100 - Validation loss: 0.115527 (Recall: 95.48% | Precision: 95.64% | Mean IoU: 71.00%)\n"
     ]
    },
    {
     "name": "stderr",
     "output_type": "stream",
     "text": [
      "Training loss: 0.0864802 | LR: 0.00032: 100%|██████████| 6/6 [00:04<00:00,  1.36it/s]    \n",
      "  0%|          | 0/1 [00:00<?, ?it/s]"
     ]
    },
    {
     "name": "stdout",
     "output_type": "stream",
     "text": [
      "Epoch 84/100 - Training loss: 0.0869452 | LR: 0.00032\n"
     ]
    },
    {
     "name": "stderr",
     "output_type": "stream",
     "text": [
      "Validation loss: 0.115337: 100%|██████████| 1/1 [00:01<00:00,  1.07s/it]\n",
      "  0%|          | 0/6 [00:00<?, ?it/s]"
     ]
    },
    {
     "name": "stdout",
     "output_type": "stream",
     "text": [
      "Epoch 84/100 - Validation loss: 0.115337 (Recall: 95.82% | Precision: 95.98% | Mean IoU: 71.00%)\n"
     ]
    },
    {
     "name": "stderr",
     "output_type": "stream",
     "text": [
      "Training loss: 0.0742575 | LR: 0.0003: 100%|██████████| 6/6 [00:04<00:00,  1.41it/s]     \n",
      "  0%|          | 0/1 [00:00<?, ?it/s]"
     ]
    },
    {
     "name": "stdout",
     "output_type": "stream",
     "text": [
      "Epoch 85/100 - Training loss: 0.113745 | LR: 0.0003\n"
     ]
    },
    {
     "name": "stderr",
     "output_type": "stream",
     "text": [
      "Validation loss: 0.114865: 100%|██████████| 1/1 [00:01<00:00,  1.07s/it]\n"
     ]
    },
    {
     "name": "stdout",
     "output_type": "stream",
     "text": [
      "Validation loss decreased 0.114997 --> 0.114865: saving state...\n",
      "Epoch 85/100 - Validation loss: 0.114865 (Recall: 96.32% | Precision: 96.32% | Mean IoU: 71.00%)\n"
     ]
    },
    {
     "name": "stderr",
     "output_type": "stream",
     "text": [
      "Training loss: 0.0894213 | LR: 0.00028: 100%|██████████| 6/6 [00:04<00:00,  1.40it/s]    \n",
      "  0%|          | 0/1 [00:00<?, ?it/s]"
     ]
    },
    {
     "name": "stdout",
     "output_type": "stream",
     "text": [
      "Epoch 86/100 - Training loss: 0.0872632 | LR: 0.00028\n"
     ]
    },
    {
     "name": "stderr",
     "output_type": "stream",
     "text": [
      "Validation loss: 0.114662: 100%|██████████| 1/1 [00:01<00:00,  1.11s/it]\n"
     ]
    },
    {
     "name": "stdout",
     "output_type": "stream",
     "text": [
      "Validation loss decreased 0.114865 --> 0.114662: saving state...\n",
      "Epoch 86/100 - Validation loss: 0.114662 (Recall: 95.82% | Precision: 95.82% | Mean IoU: 71.00%)\n"
     ]
    },
    {
     "name": "stderr",
     "output_type": "stream",
     "text": [
      "Training loss: 0.0964143 | LR: 0.00026: 100%|██████████| 6/6 [00:04<00:00,  1.39it/s]    \n",
      "  0%|          | 0/1 [00:00<?, ?it/s]"
     ]
    },
    {
     "name": "stdout",
     "output_type": "stream",
     "text": [
      "Epoch 87/100 - Training loss: 0.0898693 | LR: 0.00026\n"
     ]
    },
    {
     "name": "stderr",
     "output_type": "stream",
     "text": [
      "Validation loss: 0.11512: 100%|██████████| 1/1 [00:01<00:00,  1.07s/it]\n",
      "  0%|          | 0/6 [00:00<?, ?it/s]"
     ]
    },
    {
     "name": "stdout",
     "output_type": "stream",
     "text": [
      "Epoch 87/100 - Validation loss: 0.11512 (Recall: 95.82% | Precision: 95.98% | Mean IoU: 71.00%)\n"
     ]
    },
    {
     "name": "stderr",
     "output_type": "stream",
     "text": [
      "Training loss: 0.10376 | LR: 0.00024: 100%|██████████| 6/6 [00:04<00:00,  1.36it/s]      \n",
      "  0%|          | 0/1 [00:00<?, ?it/s]"
     ]
    },
    {
     "name": "stdout",
     "output_type": "stream",
     "text": [
      "Epoch 88/100 - Training loss: 0.0929414 | LR: 0.00024\n"
     ]
    },
    {
     "name": "stderr",
     "output_type": "stream",
     "text": [
      "Validation loss: 0.114763: 100%|██████████| 1/1 [00:01<00:00,  1.07s/it]\n",
      "  0%|          | 0/6 [00:00<?, ?it/s]"
     ]
    },
    {
     "name": "stdout",
     "output_type": "stream",
     "text": [
      "Epoch 88/100 - Validation loss: 0.114763 (Recall: 95.82% | Precision: 95.98% | Mean IoU: 71.00%)\n"
     ]
    },
    {
     "name": "stderr",
     "output_type": "stream",
     "text": [
      "Training loss: 0.0721118 | LR: 0.00022: 100%|██████████| 6/6 [00:04<00:00,  1.40it/s]    \n",
      "  0%|          | 0/1 [00:00<?, ?it/s]"
     ]
    },
    {
     "name": "stdout",
     "output_type": "stream",
     "text": [
      "Epoch 89/100 - Training loss: 0.108591 | LR: 0.00022\n"
     ]
    },
    {
     "name": "stderr",
     "output_type": "stream",
     "text": [
      "Validation loss: 0.114824: 100%|██████████| 1/1 [00:01<00:00,  1.08s/it]\n",
      "  0%|          | 0/6 [00:00<?, ?it/s]"
     ]
    },
    {
     "name": "stdout",
     "output_type": "stream",
     "text": [
      "Epoch 89/100 - Validation loss: 0.114824 (Recall: 96.15% | Precision: 96.31% | Mean IoU: 71.00%)\n"
     ]
    },
    {
     "name": "stderr",
     "output_type": "stream",
     "text": [
      "Training loss: 0.0874924 | LR: 0.0002: 100%|██████████| 6/6 [00:04<00:00,  1.42it/s]     \n",
      "  0%|          | 0/1 [00:00<?, ?it/s]"
     ]
    },
    {
     "name": "stdout",
     "output_type": "stream",
     "text": [
      "Epoch 90/100 - Training loss: 0.0965984 | LR: 0.0002\n"
     ]
    },
    {
     "name": "stderr",
     "output_type": "stream",
     "text": [
      "Validation loss: 0.11523: 100%|██████████| 1/1 [00:01<00:00,  1.07s/it]\n",
      "  0%|          | 0/6 [00:00<?, ?it/s]"
     ]
    },
    {
     "name": "stdout",
     "output_type": "stream",
     "text": [
      "Epoch 90/100 - Validation loss: 0.11523 (Recall: 95.82% | Precision: 95.98% | Mean IoU: 71.00%)\n"
     ]
    },
    {
     "name": "stderr",
     "output_type": "stream",
     "text": [
      "Training loss: 0.0699276 | LR: 0.00018: 100%|██████████| 6/6 [00:04<00:00,  1.37it/s]    \n",
      "  0%|          | 0/1 [00:00<?, ?it/s]"
     ]
    },
    {
     "name": "stdout",
     "output_type": "stream",
     "text": [
      "Epoch 91/100 - Training loss: 0.085356 | LR: 0.00018\n"
     ]
    },
    {
     "name": "stderr",
     "output_type": "stream",
     "text": [
      "Validation loss: 0.115341: 100%|██████████| 1/1 [00:01<00:00,  1.07s/it]\n",
      "  0%|          | 0/6 [00:00<?, ?it/s]"
     ]
    },
    {
     "name": "stdout",
     "output_type": "stream",
     "text": [
      "Epoch 91/100 - Validation loss: 0.115341 (Recall: 95.82% | Precision: 95.98% | Mean IoU: 71.00%)\n"
     ]
    },
    {
     "name": "stderr",
     "output_type": "stream",
     "text": [
      "Training loss: 0.162654 | LR: 0.00016: 100%|██████████| 6/6 [00:04<00:00,  1.41it/s]     \n",
      "  0%|          | 0/1 [00:00<?, ?it/s]"
     ]
    },
    {
     "name": "stdout",
     "output_type": "stream",
     "text": [
      "Epoch 92/100 - Training loss: 0.106682 | LR: 0.00016\n"
     ]
    },
    {
     "name": "stderr",
     "output_type": "stream",
     "text": [
      "Validation loss: 0.114915: 100%|██████████| 1/1 [00:01<00:00,  1.07s/it]\n",
      "  0%|          | 0/6 [00:00<?, ?it/s]"
     ]
    },
    {
     "name": "stdout",
     "output_type": "stream",
     "text": [
      "Epoch 92/100 - Validation loss: 0.114915 (Recall: 95.82% | Precision: 95.98% | Mean IoU: 71.00%)\n"
     ]
    },
    {
     "name": "stderr",
     "output_type": "stream",
     "text": [
      "Training loss: 0.0732229 | LR: 0.00014: 100%|██████████| 6/6 [00:04<00:00,  1.38it/s]    \n",
      "  0%|          | 0/1 [00:00<?, ?it/s]"
     ]
    },
    {
     "name": "stdout",
     "output_type": "stream",
     "text": [
      "Epoch 93/100 - Training loss: 0.0784573 | LR: 0.00014\n"
     ]
    },
    {
     "name": "stderr",
     "output_type": "stream",
     "text": [
      "Validation loss: 0.115007: 100%|██████████| 1/1 [00:01<00:00,  1.06s/it]\n",
      "  0%|          | 0/6 [00:00<?, ?it/s]"
     ]
    },
    {
     "name": "stdout",
     "output_type": "stream",
     "text": [
      "Epoch 93/100 - Validation loss: 0.115007 (Recall: 95.65% | Precision: 95.81% | Mean IoU: 71.00%)\n"
     ]
    },
    {
     "name": "stderr",
     "output_type": "stream",
     "text": [
      "Training loss: 0.0708777 | LR: 0.00012: 100%|██████████| 6/6 [00:04<00:00,  1.37it/s]    \n",
      "  0%|          | 0/1 [00:00<?, ?it/s]"
     ]
    },
    {
     "name": "stdout",
     "output_type": "stream",
     "text": [
      "Epoch 94/100 - Training loss: 0.0779542 | LR: 0.00012\n"
     ]
    },
    {
     "name": "stderr",
     "output_type": "stream",
     "text": [
      "Validation loss: 0.115139: 100%|██████████| 1/1 [00:01<00:00,  1.08s/it]\n",
      "  0%|          | 0/6 [00:00<?, ?it/s]"
     ]
    },
    {
     "name": "stdout",
     "output_type": "stream",
     "text": [
      "Epoch 94/100 - Validation loss: 0.115139 (Recall: 95.48% | Precision: 95.64% | Mean IoU: 71.00%)\n"
     ]
    },
    {
     "name": "stderr",
     "output_type": "stream",
     "text": [
      "Training loss: 0.0713206 | LR: 0.0001: 100%|██████████| 6/6 [00:04<00:00,  1.39it/s]     \n",
      "  0%|          | 0/1 [00:00<?, ?it/s]"
     ]
    },
    {
     "name": "stdout",
     "output_type": "stream",
     "text": [
      "Epoch 95/100 - Training loss: 0.0753055 | LR: 0.0001\n"
     ]
    },
    {
     "name": "stderr",
     "output_type": "stream",
     "text": [
      "Validation loss: 0.115111: 100%|██████████| 1/1 [00:01<00:00,  1.16s/it]\n",
      "  0%|          | 0/6 [00:00<?, ?it/s]"
     ]
    },
    {
     "name": "stdout",
     "output_type": "stream",
     "text": [
      "Epoch 95/100 - Validation loss: 0.115111 (Recall: 95.82% | Precision: 95.98% | Mean IoU: 71.00%)\n"
     ]
    },
    {
     "name": "stderr",
     "output_type": "stream",
     "text": [
      "Training loss: 0.0828784 | LR: 8e-05: 100%|██████████| 6/6 [00:04<00:00,  1.36it/s]      \n",
      "  0%|          | 0/1 [00:00<?, ?it/s]"
     ]
    },
    {
     "name": "stdout",
     "output_type": "stream",
     "text": [
      "Epoch 96/100 - Training loss: 0.094047 | LR: 8e-05\n"
     ]
    },
    {
     "name": "stderr",
     "output_type": "stream",
     "text": [
      "Validation loss: 0.114992: 100%|██████████| 1/1 [00:01<00:00,  1.08s/it]\n",
      "  0%|          | 0/6 [00:00<?, ?it/s]"
     ]
    },
    {
     "name": "stdout",
     "output_type": "stream",
     "text": [
      "Epoch 96/100 - Validation loss: 0.114992 (Recall: 95.48% | Precision: 95.64% | Mean IoU: 71.00%)\n"
     ]
    },
    {
     "name": "stderr",
     "output_type": "stream",
     "text": [
      "Training loss: 0.0648916 | LR: 6e-05: 100%|██████████| 6/6 [00:04<00:00,  1.38it/s]      \n",
      "  0%|          | 0/1 [00:00<?, ?it/s]"
     ]
    },
    {
     "name": "stdout",
     "output_type": "stream",
     "text": [
      "Epoch 97/100 - Training loss: 0.128379 | LR: 6e-05\n"
     ]
    },
    {
     "name": "stderr",
     "output_type": "stream",
     "text": [
      "Validation loss: 0.114858: 100%|██████████| 1/1 [00:01<00:00,  1.10s/it]\n",
      "  0%|          | 0/6 [00:00<?, ?it/s]"
     ]
    },
    {
     "name": "stdout",
     "output_type": "stream",
     "text": [
      "Epoch 97/100 - Validation loss: 0.114858 (Recall: 96.15% | Precision: 96.15% | Mean IoU: 71.00%)\n"
     ]
    },
    {
     "name": "stderr",
     "output_type": "stream",
     "text": [
      "Training loss: 0.0993308 | LR: 4e-05: 100%|██████████| 6/6 [00:04<00:00,  1.34it/s]      \n",
      "  0%|          | 0/1 [00:00<?, ?it/s]"
     ]
    },
    {
     "name": "stdout",
     "output_type": "stream",
     "text": [
      "Epoch 98/100 - Training loss: 0.10592 | LR: 4e-05\n"
     ]
    },
    {
     "name": "stderr",
     "output_type": "stream",
     "text": [
      "Validation loss: 0.115184: 100%|██████████| 1/1 [00:01<00:00,  1.08s/it]\n",
      "  0%|          | 0/6 [00:00<?, ?it/s]"
     ]
    },
    {
     "name": "stdout",
     "output_type": "stream",
     "text": [
      "Epoch 98/100 - Validation loss: 0.115184 (Recall: 96.32% | Precision: 96.48% | Mean IoU: 71.00%)\n"
     ]
    },
    {
     "name": "stderr",
     "output_type": "stream",
     "text": [
      "Training loss: 0.072708 | LR: 2e-05: 100%|██████████| 6/6 [00:04<00:00,  1.39it/s]       \n",
      "  0%|          | 0/1 [00:00<?, ?it/s]"
     ]
    },
    {
     "name": "stdout",
     "output_type": "stream",
     "text": [
      "Epoch 99/100 - Training loss: 0.0823102 | LR: 2e-05\n"
     ]
    },
    {
     "name": "stderr",
     "output_type": "stream",
     "text": [
      "Validation loss: 0.115227: 100%|██████████| 1/1 [00:01<00:00,  1.07s/it]\n",
      "  0%|          | 0/6 [00:00<?, ?it/s]"
     ]
    },
    {
     "name": "stdout",
     "output_type": "stream",
     "text": [
      "Epoch 99/100 - Validation loss: 0.115227 (Recall: 96.49% | Precision: 96.65% | Mean IoU: 71.00%)\n"
     ]
    },
    {
     "name": "stderr",
     "output_type": "stream",
     "text": [
      "Training loss: 0.170656 | LR: 0.0: 100%|██████████| 6/6 [00:04<00:00,  1.41it/s]         \n",
      "  0%|          | 0/1 [00:00<?, ?it/s]"
     ]
    },
    {
     "name": "stdout",
     "output_type": "stream",
     "text": [
      "Epoch 100/100 - Training loss: 0.1106 | LR: 0.0\n"
     ]
    },
    {
     "name": "stderr",
     "output_type": "stream",
     "text": [
      "Validation loss: 0.114953: 100%|██████████| 1/1 [00:01<00:00,  1.07s/it]\n"
     ]
    },
    {
     "name": "stdout",
     "output_type": "stream",
     "text": [
      "Epoch 100/100 - Validation loss: 0.114953 (Recall: 96.49% | Precision: 96.49% | Mean IoU: 71.00%)\n"
     ]
    }
   ],
   "source": [
    "finetune_detection(detection_train_path, detection_val_path, \"ml-models/detection-model-finetuned\")"
   ]
  },
  {
   "cell_type": "code",
   "execution_count": null,
   "id": "5a184258",
   "metadata": {},
   "outputs": [
    {
     "name": "stdout",
     "output_type": "stream",
     "text": [
      "Namespace(backend='nccl', arch='crnn_vgg16_bn', output_dir='.', train_path='ml-training/recognition', val_path='ml-validation/recognition', train_datasets=None, val_datasets=None, train_samples=1000, val_samples=20, font='FreeMono.ttf,FreeSans.ttf,FreeSerif.ttf', min_chars=1, max_chars=12, name='ml-models/recognition-model-finetuned', epochs=100, batch_size=64, input_size=32, device=0, lr=0.001, weight_decay=0, workers=None, resume=None, vocab='CUSTOM:0123456789abcdefghijklmnopqrstuvwxyzABCDEFGHIJKLMNOPQRSTUVWXYZ!\"#$%&\\'()*+,-./:;<=>?@[\\\\]^_`{|}~°£€¥¢฿çëÇËèïîôûêÈÏÎÔÛÊəğöşüƏĞÖŞÜ₼ñÑčćđšžČĆĐŠŽàéíòóúÀÉÍÒÓÚáďěňřťůýÁĎĚŇŘŤŮÝæøåÆØÅõäÕÄĉĝĥĵŝŭĈĜĤĴŜŬ₷âùÂÙƒƑßẞɓɗƙƴƁƊƘƳ₦ðþÐÞìÌāēģīķļņūĀĒĢĪĶĻŅŪąęėįųĄĘĖĮŲōŌċġħżĊĠĦŻźŚŹłńśŁŃãÃășțĂȘȚľĺŕĽĹŔ¡¿₱ıİ₺ɉɈảạắằẳẵặấầẩẫậẻẽẹếềểễệỏọố���ổộỗơớờởợỡủũụưứừửữựỉĩịỳỷỹỵẢẠẮẰẲẴẶẤẦẨẪẬẺẼẸẾỀỂỄỆỎỌỐỒỔỘỖƠỚỜỞỢỠỦŨỤƯỨỪỬỮỰỈĨỊỲỶỸỴ₫ŵŷŴŶṣṢ§абвгдежзийклмнопрстуфхцчшщьюяАБВГДЕЖЗИЙКЛМНОПРСТУФХЦЧШЩЬЮЯёыэЁЫЭъЪ₽ўЎґіїєҐІЇЄ₴ӘәҖҗҢңӨөҮүҒғҚқҲҳҶҷӢӣӮӯҰұҺһ₸ЃѓЅѕЈјЉљЊњЌќЏџ᠐᠑᠒᠓᠔᠕᠖᠗᠘᠙₮ҔҕҤҥЂђЋћαβγδεζηθικλμνξοπρστςυφχψωΑΒΓΔΕΖΗΘΙΚΛΜΝΞΟΠΡΣΤΥΦΧΨΩάέήίϊΐόύϋΰώΆΈΉΊΪΌΎΫΏאבגדהוזחטיךכלםמןנסעףפץצקרשתְֱֲֳִֵֶַָׇֹֺֻֽ־ֿ׀ׁׂ׃ׅׄ׆׳״֑֖֛֢֣֤֥֦֧֪֚֭֮֒֓֔֕֗֘֙֜֝֞֟֠֡֨֩֫֬֯ׯװױײיִﬞײַﬠﬡﬢﬣﬤﬥﬦﬧﬨ﬩שׁשׂשּׁשּׂאַאָאּבּגּדּהּוּזּטּיּךּכּלּמּנּסּףּפּצּקּרּשּתּוֹבֿכֿפֿﭏ₪⸺¡¿—‘’“”′″£€¥¢฿', test_only=False, freeze_backbone=False, show_samples=False, wb=False, clearml=False, push_to_hub=False, pretrained=True, optim='adam', sched='cosine', amp=False, find_lr=False, early_stop=False, early_stop_epochs=5, early_stop_delta=0.01)\n",
      "Validation set loaded in 0.001934s (598 samples in 10 batches)\n",
      "Train set loaded in 0.01083s (3905 samples in 61 batches)\n"
     ]
    },
    {
     "name": "stderr",
     "output_type": "stream",
     "text": [
      "Training loss: 3.73405 | LR: 0.000999753: 100%|██████████| 61/61 [00:07<00:00,  8.70it/s]\n",
      "  0%|          | 0/10 [00:00<?, ?it/s]"
     ]
    },
    {
     "name": "stdout",
     "output_type": "stream",
     "text": [
      "Epoch 1/100 - Training loss: 17.0548 | LR: 0.000999753\n"
     ]
    },
    {
     "name": "stderr",
     "output_type": "stream",
     "text": [
      "Validation loss: 3.49475: 100%|██████████| 10/10 [00:00<00:00, 11.30it/s]\n",
      "  0%|          | 0/61 [00:00<?, ?it/s]"
     ]
    },
    {
     "name": "stdout",
     "output_type": "stream",
     "text": [
      "Validation loss decreased inf --> 3.51553: saving state...\n",
      "Epoch 1/100 - Validation loss: 3.51553 (Exact: 0.00% | Partial: 0.00%)\n"
     ]
    },
    {
     "name": "stderr",
     "output_type": "stream",
     "text": [
      "Training loss: 2.65708 | LR: 0.000999013: 100%|██████████| 61/61 [00:05<00:00, 10.82it/s]\n",
      "  0%|          | 0/10 [00:00<?, ?it/s]"
     ]
    },
    {
     "name": "stdout",
     "output_type": "stream",
     "text": [
      "Epoch 2/100 - Training loss: 3.16265 | LR: 0.000999013\n"
     ]
    },
    {
     "name": "stderr",
     "output_type": "stream",
     "text": [
      "Validation loss: 2.64778: 100%|██████████| 10/10 [00:00<00:00, 14.11it/s]\n",
      "  0%|          | 0/61 [00:00<?, ?it/s]"
     ]
    },
    {
     "name": "stdout",
     "output_type": "stream",
     "text": [
      "Validation loss decreased 3.51553 --> 2.69033: saving state...\n",
      "Epoch 2/100 - Validation loss: 2.69033 (Exact: 0.00% | Partial: 0.00%)\n"
     ]
    },
    {
     "name": "stderr",
     "output_type": "stream",
     "text": [
      "Training loss: 1.14181 | LR: 0.000997781: 100%|██████████| 61/61 [00:05<00:00, 10.26it/s]\n",
      "  0%|          | 0/10 [00:00<?, ?it/s]"
     ]
    },
    {
     "name": "stdout",
     "output_type": "stream",
     "text": [
      "Epoch 3/100 - Training loss: 1.9867 | LR: 0.000997781\n"
     ]
    },
    {
     "name": "stderr",
     "output_type": "stream",
     "text": [
      "Validation loss: 1.2446: 100%|██████████| 10/10 [00:00<00:00, 13.84it/s]\n",
      "  0%|          | 0/61 [00:00<?, ?it/s]"
     ]
    },
    {
     "name": "stdout",
     "output_type": "stream",
     "text": [
      "Validation loss decreased 2.69033 --> 1.23685: saving state...\n",
      "Epoch 3/100 - Validation loss: 1.23685 (Exact: 17.39% | Partial: 17.56%)\n"
     ]
    },
    {
     "name": "stderr",
     "output_type": "stream",
     "text": [
      "Training loss: 0.446883 | LR: 0.000996057: 100%|██████████| 61/61 [00:06<00:00,  9.60it/s]\n",
      "  0%|          | 0/10 [00:00<?, ?it/s]"
     ]
    },
    {
     "name": "stdout",
     "output_type": "stream",
     "text": [
      "Epoch 4/100 - Training loss: 0.786102 | LR: 0.000996057\n"
     ]
    },
    {
     "name": "stderr",
     "output_type": "stream",
     "text": [
      "Validation loss: 0.468487: 100%|██████████| 10/10 [00:00<00:00, 13.39it/s]\n",
      "  0%|          | 0/61 [00:00<?, ?it/s]"
     ]
    },
    {
     "name": "stdout",
     "output_type": "stream",
     "text": [
      "Validation loss decreased 1.23685 --> 0.482571: saving state...\n",
      "Epoch 4/100 - Validation loss: 0.482571 (Exact: 69.40% | Partial: 71.07%)\n"
     ]
    },
    {
     "name": "stderr",
     "output_type": "stream",
     "text": [
      "Training loss: 0.350189 | LR: 0.000993844: 100%|██████████| 61/61 [00:06<00:00,  8.76it/s]\n",
      "  0%|          | 0/10 [00:00<?, ?it/s]"
     ]
    },
    {
     "name": "stdout",
     "output_type": "stream",
     "text": [
      "Epoch 5/100 - Training loss: 0.344812 | LR: 0.000993844\n"
     ]
    },
    {
     "name": "stderr",
     "output_type": "stream",
     "text": [
      "Validation loss: 0.262022: 100%|██████████| 10/10 [00:00<00:00, 13.27it/s]\n"
     ]
    },
    {
     "name": "stdout",
     "output_type": "stream",
     "text": [
      "Validation loss decreased 0.482571 --> 0.259343: saving state...\n",
      "Epoch 5/100 - Validation loss: 0.259343 (Exact: 83.61% | Partial: 85.12%)\n"
     ]
    },
    {
     "name": "stderr",
     "output_type": "stream",
     "text": [
      "Training loss: 0.138945 | LR: 0.000991144: 100%|██████████| 61/61 [00:07<00:00,  8.42it/s] \n",
      "  0%|          | 0/10 [00:00<?, ?it/s]"
     ]
    },
    {
     "name": "stdout",
     "output_type": "stream",
     "text": [
      "Epoch 6/100 - Training loss: 0.196977 | LR: 0.000991144\n"
     ]
    },
    {
     "name": "stderr",
     "output_type": "stream",
     "text": [
      "Validation loss: 0.174978: 100%|██████████| 10/10 [00:00<00:00, 12.17it/s]\n"
     ]
    },
    {
     "name": "stdout",
     "output_type": "stream",
     "text": [
      "Validation loss decreased 0.259343 --> 0.168667: saving state...\n",
      "Epoch 6/100 - Validation loss: 0.168667 (Exact: 90.13% | Partial: 90.97%)\n"
     ]
    },
    {
     "name": "stderr",
     "output_type": "stream",
     "text": [
      "Training loss: 0.192883 | LR: 0.000987958: 100%|██████████| 61/61 [00:07<00:00,  7.63it/s] \n",
      "  0%|          | 0/10 [00:00<?, ?it/s]"
     ]
    },
    {
     "name": "stdout",
     "output_type": "stream",
     "text": [
      "Epoch 7/100 - Training loss: 0.129264 | LR: 0.000987958\n"
     ]
    },
    {
     "name": "stderr",
     "output_type": "stream",
     "text": [
      "Validation loss: 0.144739: 100%|██████████| 10/10 [00:00<00:00, 11.98it/s]\n"
     ]
    },
    {
     "name": "stdout",
     "output_type": "stream",
     "text": [
      "Validation loss decreased 0.168667 --> 0.12542: saving state...\n",
      "Epoch 7/100 - Validation loss: 0.12542 (Exact: 94.98% | Partial: 95.82%)\n"
     ]
    },
    {
     "name": "stderr",
     "output_type": "stream",
     "text": [
      "Training loss: 0.0698538 | LR: 0.000984292: 100%|██████████| 61/61 [00:08<00:00,  7.61it/s]\n",
      "  0%|          | 0/10 [00:00<?, ?it/s]"
     ]
    },
    {
     "name": "stdout",
     "output_type": "stream",
     "text": [
      "Epoch 8/100 - Training loss: 0.0905622 | LR: 0.000984292\n"
     ]
    },
    {
     "name": "stderr",
     "output_type": "stream",
     "text": [
      "Validation loss: 0.103744: 100%|██████████| 10/10 [00:00<00:00, 11.47it/s]\n"
     ]
    },
    {
     "name": "stdout",
     "output_type": "stream",
     "text": [
      "Validation loss decreased 0.12542 --> 0.0952325: saving state...\n",
      "Epoch 8/100 - Validation loss: 0.0952325 (Exact: 95.48% | Partial: 95.82%)\n"
     ]
    },
    {
     "name": "stderr",
     "output_type": "stream",
     "text": [
      "Training loss: 0.0344547 | LR: 0.000980147: 100%|██████████| 61/61 [00:08<00:00,  7.44it/s]\n",
      "  0%|          | 0/10 [00:00<?, ?it/s]"
     ]
    },
    {
     "name": "stdout",
     "output_type": "stream",
     "text": [
      "Epoch 9/100 - Training loss: 0.0657408 | LR: 0.000980147\n"
     ]
    },
    {
     "name": "stderr",
     "output_type": "stream",
     "text": [
      "Validation loss: 0.0900269: 100%|██████████| 10/10 [00:00<00:00, 11.21it/s]\n"
     ]
    },
    {
     "name": "stdout",
     "output_type": "stream",
     "text": [
      "Validation loss decreased 0.0952325 --> 0.0763593: saving state...\n",
      "Epoch 9/100 - Validation loss: 0.0763593 (Exact: 96.32% | Partial: 96.32%)\n"
     ]
    },
    {
     "name": "stderr",
     "output_type": "stream",
     "text": [
      "Training loss: 0.076836 | LR: 0.000975528: 100%|██████████| 61/61 [00:08<00:00,  7.40it/s] \n",
      "  0%|          | 0/10 [00:00<?, ?it/s]"
     ]
    },
    {
     "name": "stdout",
     "output_type": "stream",
     "text": [
      "Epoch 10/100 - Training loss: 0.0528469 | LR: 0.000975528\n"
     ]
    },
    {
     "name": "stderr",
     "output_type": "stream",
     "text": [
      "Validation loss: 0.0823622: 100%|██████████| 10/10 [00:00<00:00, 11.38it/s]\n"
     ]
    },
    {
     "name": "stdout",
     "output_type": "stream",
     "text": [
      "Validation loss decreased 0.0763593 --> 0.0647791: saving state...\n",
      "Epoch 10/100 - Validation loss: 0.0647791 (Exact: 96.82% | Partial: 96.99%)\n"
     ]
    },
    {
     "name": "stderr",
     "output_type": "stream",
     "text": [
      "Training loss: 0.017419 | LR: 0.000970441: 100%|██████████| 61/61 [00:08<00:00,  7.38it/s] \n",
      "  0%|          | 0/10 [00:00<?, ?it/s]"
     ]
    },
    {
     "name": "stdout",
     "output_type": "stream",
     "text": [
      "Epoch 11/100 - Training loss: 0.0455002 | LR: 0.000970441\n"
     ]
    },
    {
     "name": "stderr",
     "output_type": "stream",
     "text": [
      "Validation loss: 0.0486589: 100%|██████████| 10/10 [00:00<00:00, 11.22it/s]\n"
     ]
    },
    {
     "name": "stdout",
     "output_type": "stream",
     "text": [
      "Validation loss decreased 0.0647791 --> 0.0521569: saving state...\n",
      "Epoch 11/100 - Validation loss: 0.0521569 (Exact: 96.99% | Partial: 96.99%)\n"
     ]
    },
    {
     "name": "stderr",
     "output_type": "stream",
     "text": [
      "Training loss: 0.0298824 | LR: 0.000964888: 100%|██████████| 61/61 [00:08<00:00,  7.41it/s]\n",
      "  0%|          | 0/10 [00:00<?, ?it/s]"
     ]
    },
    {
     "name": "stdout",
     "output_type": "stream",
     "text": [
      "Epoch 12/100 - Training loss: 0.0366876 | LR: 0.000964888\n"
     ]
    },
    {
     "name": "stderr",
     "output_type": "stream",
     "text": [
      "Validation loss: 0.0485775: 100%|██████████| 10/10 [00:00<00:00, 11.39it/s]\n"
     ]
    },
    {
     "name": "stdout",
     "output_type": "stream",
     "text": [
      "Validation loss decreased 0.0521569 --> 0.0473453: saving state...\n",
      "Epoch 12/100 - Validation loss: 0.0473453 (Exact: 97.66% | Partial: 97.66%)\n"
     ]
    },
    {
     "name": "stderr",
     "output_type": "stream",
     "text": [
      "Training loss: 0.0336482 | LR: 0.000958877: 100%|██████████| 61/61 [00:08<00:00,  7.41it/s]\n",
      "  0%|          | 0/10 [00:00<?, ?it/s]"
     ]
    },
    {
     "name": "stdout",
     "output_type": "stream",
     "text": [
      "Epoch 13/100 - Training loss: 0.0301834 | LR: 0.000958877\n"
     ]
    },
    {
     "name": "stderr",
     "output_type": "stream",
     "text": [
      "Validation loss: 0.0591154: 100%|██████████| 10/10 [00:00<00:00, 11.16it/s]\n"
     ]
    },
    {
     "name": "stdout",
     "output_type": "stream",
     "text": [
      "Validation loss decreased 0.0473453 --> 0.0438655: saving state...\n",
      "Epoch 13/100 - Validation loss: 0.0438655 (Exact: 97.32% | Partial: 97.32%)\n"
     ]
    },
    {
     "name": "stderr",
     "output_type": "stream",
     "text": [
      "Training loss: 0.0142719 | LR: 0.000952414: 100%|██████████| 61/61 [00:08<00:00,  7.39it/s] \n",
      "  0%|          | 0/10 [00:00<?, ?it/s]"
     ]
    },
    {
     "name": "stdout",
     "output_type": "stream",
     "text": [
      "Epoch 14/100 - Training loss: 0.024614 | LR: 0.000952414\n"
     ]
    },
    {
     "name": "stderr",
     "output_type": "stream",
     "text": [
      "Validation loss: 0.0370119: 100%|██████████| 10/10 [00:00<00:00, 10.77it/s]\n"
     ]
    },
    {
     "name": "stdout",
     "output_type": "stream",
     "text": [
      "Validation loss decreased 0.0438655 --> 0.0394222: saving state...\n",
      "Epoch 14/100 - Validation loss: 0.0394222 (Exact: 97.49% | Partial: 97.49%)\n"
     ]
    },
    {
     "name": "stderr",
     "output_type": "stream",
     "text": [
      "Training loss: 0.0178079 | LR: 0.000945503: 100%|██████████| 61/61 [00:08<00:00,  7.25it/s] \n",
      "  0%|          | 0/10 [00:00<?, ?it/s]"
     ]
    },
    {
     "name": "stdout",
     "output_type": "stream",
     "text": [
      "Epoch 15/100 - Training loss: 0.0226508 | LR: 0.000945503\n"
     ]
    },
    {
     "name": "stderr",
     "output_type": "stream",
     "text": [
      "Validation loss: 0.05509: 100%|██████████| 10/10 [00:00<00:00, 10.88it/s] \n",
      "  0%|          | 0/61 [00:00<?, ?it/s]"
     ]
    },
    {
     "name": "stdout",
     "output_type": "stream",
     "text": [
      "Validation loss decreased 0.0394222 --> 0.0374447: saving state...\n",
      "Epoch 15/100 - Validation loss: 0.0374447 (Exact: 97.66% | Partial: 97.66%)\n"
     ]
    },
    {
     "name": "stderr",
     "output_type": "stream",
     "text": [
      "Training loss: 0.00869953 | LR: 0.000938154: 100%|██████████| 61/61 [00:08<00:00,  6.79it/s]\n",
      "  0%|          | 0/10 [00:00<?, ?it/s]"
     ]
    },
    {
     "name": "stdout",
     "output_type": "stream",
     "text": [
      "Epoch 16/100 - Training loss: 0.0218308 | LR: 0.000938154\n"
     ]
    },
    {
     "name": "stderr",
     "output_type": "stream",
     "text": [
      "Validation loss: 0.0500841: 100%|██████████| 10/10 [00:00<00:00, 11.11it/s]\n"
     ]
    },
    {
     "name": "stdout",
     "output_type": "stream",
     "text": [
      "Epoch 16/100 - Validation loss: 0.0401196 (Exact: 97.66% | Partial: 97.66%)\n"
     ]
    },
    {
     "name": "stderr",
     "output_type": "stream",
     "text": [
      "Training loss: 0.00967068 | LR: 0.000930371: 100%|██████████| 61/61 [00:09<00:00,  6.46it/s]\n",
      "  0%|          | 0/10 [00:00<?, ?it/s]"
     ]
    },
    {
     "name": "stdout",
     "output_type": "stream",
     "text": [
      "Epoch 17/100 - Training loss: 0.018902 | LR: 0.000930371\n"
     ]
    },
    {
     "name": "stderr",
     "output_type": "stream",
     "text": [
      "Validation loss: 0.0363596: 100%|██████████| 10/10 [00:00<00:00, 10.97it/s]\n"
     ]
    },
    {
     "name": "stdout",
     "output_type": "stream",
     "text": [
      "Validation loss decreased 0.0401196 --> 0.036303: saving state...\n",
      "Epoch 17/100 - Validation loss: 0.036303 (Exact: 96.82% | Partial: 96.82%)\n"
     ]
    },
    {
     "name": "stderr",
     "output_type": "stream",
     "text": [
      "Training loss: 0.0223365 | LR: 0.000922164: 100%|██████████| 61/61 [00:08<00:00,  7.03it/s] \n",
      "  0%|          | 0/10 [00:00<?, ?it/s]"
     ]
    },
    {
     "name": "stdout",
     "output_type": "stream",
     "text": [
      "Epoch 18/100 - Training loss: 0.0150837 | LR: 0.000922164\n"
     ]
    },
    {
     "name": "stderr",
     "output_type": "stream",
     "text": [
      "Validation loss: 0.0197655: 100%|██████████| 10/10 [00:00<00:00, 11.01it/s]\n"
     ]
    },
    {
     "name": "stdout",
     "output_type": "stream",
     "text": [
      "Validation loss decreased 0.036303 --> 0.0304871: saving state...\n",
      "Epoch 18/100 - Validation loss: 0.0304871 (Exact: 97.32% | Partial: 97.32%)\n"
     ]
    },
    {
     "name": "stderr",
     "output_type": "stream",
     "text": [
      "Training loss: 0.0133286 | LR: 0.000913541: 100%|██████████| 61/61 [00:09<00:00,  6.54it/s] \n",
      "  0%|          | 0/10 [00:00<?, ?it/s]"
     ]
    },
    {
     "name": "stdout",
     "output_type": "stream",
     "text": [
      "Epoch 19/100 - Training loss: 0.0143659 | LR: 0.000913541\n"
     ]
    },
    {
     "name": "stderr",
     "output_type": "stream",
     "text": [
      "Validation loss: 0.0172671: 100%|██████████| 10/10 [00:01<00:00,  9.85it/s]\n"
     ]
    },
    {
     "name": "stdout",
     "output_type": "stream",
     "text": [
      "Validation loss decreased 0.0304871 --> 0.0295915: saving state...\n",
      "Epoch 19/100 - Validation loss: 0.0295915 (Exact: 97.66% | Partial: 97.66%)\n"
     ]
    },
    {
     "name": "stderr",
     "output_type": "stream",
     "text": [
      "Training loss: 0.0178493 | LR: 0.000904509: 100%|██████████| 61/61 [00:09<00:00,  6.45it/s] \n",
      "  0%|          | 0/10 [00:00<?, ?it/s]"
     ]
    },
    {
     "name": "stdout",
     "output_type": "stream",
     "text": [
      "Epoch 20/100 - Training loss: 0.0123097 | LR: 0.000904509\n"
     ]
    },
    {
     "name": "stderr",
     "output_type": "stream",
     "text": [
      "Validation loss: 0.0402369: 100%|██████████| 10/10 [00:00<00:00, 11.19it/s]\n"
     ]
    },
    {
     "name": "stdout",
     "output_type": "stream",
     "text": [
      "Epoch 20/100 - Validation loss: 0.0351455 (Exact: 97.16% | Partial: 97.16%)\n"
     ]
    },
    {
     "name": "stderr",
     "output_type": "stream",
     "text": [
      "Training loss: 0.0244815 | LR: 0.000895078: 100%|██████████| 61/61 [00:09<00:00,  6.32it/s] \n",
      "  0%|          | 0/10 [00:00<?, ?it/s]"
     ]
    },
    {
     "name": "stdout",
     "output_type": "stream",
     "text": [
      "Epoch 21/100 - Training loss: 0.0145613 | LR: 0.000895078\n"
     ]
    },
    {
     "name": "stderr",
     "output_type": "stream",
     "text": [
      "Validation loss: 0.0298167: 100%|██████████| 10/10 [00:00<00:00, 10.87it/s]\n"
     ]
    },
    {
     "name": "stdout",
     "output_type": "stream",
     "text": [
      "Validation loss decreased 0.0351455 --> 0.0336068: saving state...\n",
      "Epoch 21/100 - Validation loss: 0.0336068 (Exact: 97.66% | Partial: 97.66%)\n"
     ]
    },
    {
     "name": "stderr",
     "output_type": "stream",
     "text": [
      "Training loss: 0.0161088 | LR: 0.000885257: 100%|██████████| 61/61 [00:10<00:00,  5.99it/s] \n",
      "  0%|          | 0/10 [00:00<?, ?it/s]"
     ]
    },
    {
     "name": "stdout",
     "output_type": "stream",
     "text": [
      "Epoch 22/100 - Training loss: 0.0136289 | LR: 0.000885257\n"
     ]
    },
    {
     "name": "stderr",
     "output_type": "stream",
     "text": [
      "Validation loss: 0.0303303: 100%|██████████| 10/10 [00:00<00:00, 10.88it/s]\n"
     ]
    },
    {
     "name": "stdout",
     "output_type": "stream",
     "text": [
      "Validation loss decreased 0.0336068 --> 0.0270888: saving state...\n",
      "Epoch 22/100 - Validation loss: 0.0270888 (Exact: 97.83% | Partial: 97.99%)\n"
     ]
    },
    {
     "name": "stderr",
     "output_type": "stream",
     "text": [
      "Training loss: 0.009977 | LR: 0.000875056: 100%|██████████| 61/61 [00:09<00:00,  6.39it/s]  \n",
      "  0%|          | 0/10 [00:00<?, ?it/s]"
     ]
    },
    {
     "name": "stdout",
     "output_type": "stream",
     "text": [
      "Epoch 23/100 - Training loss: 0.0137827 | LR: 0.000875056\n"
     ]
    },
    {
     "name": "stderr",
     "output_type": "stream",
     "text": [
      "Validation loss: 0.0155651: 100%|██████████| 10/10 [00:00<00:00, 10.83it/s]\n"
     ]
    },
    {
     "name": "stdout",
     "output_type": "stream",
     "text": [
      "Epoch 23/100 - Validation loss: 0.0271024 (Exact: 98.33% | Partial: 98.33%)\n"
     ]
    },
    {
     "name": "stderr",
     "output_type": "stream",
     "text": [
      "Training loss: 0.00456668 | LR: 0.000864485: 100%|██████████| 61/61 [00:09<00:00,  6.58it/s]\n",
      "  0%|          | 0/10 [00:00<?, ?it/s]"
     ]
    },
    {
     "name": "stdout",
     "output_type": "stream",
     "text": [
      "Epoch 24/100 - Training loss: 0.0106098 | LR: 0.000864485\n"
     ]
    },
    {
     "name": "stderr",
     "output_type": "stream",
     "text": [
      "Validation loss: 0.0231871: 100%|██████████| 10/10 [00:00<00:00, 10.82it/s]\n"
     ]
    },
    {
     "name": "stdout",
     "output_type": "stream",
     "text": [
      "Validation loss decreased 0.0271024 --> 0.0264137: saving state...\n",
      "Epoch 24/100 - Validation loss: 0.0264137 (Exact: 97.66% | Partial: 97.66%)\n"
     ]
    },
    {
     "name": "stderr",
     "output_type": "stream",
     "text": [
      "Training loss: 0.00582423 | LR: 0.000853554: 100%|██████████| 61/61 [00:09<00:00,  6.23it/s]\n",
      "  0%|          | 0/10 [00:00<?, ?it/s]"
     ]
    },
    {
     "name": "stdout",
     "output_type": "stream",
     "text": [
      "Epoch 25/100 - Training loss: 0.00998482 | LR: 0.000853554\n"
     ]
    },
    {
     "name": "stderr",
     "output_type": "stream",
     "text": [
      "Validation loss: 0.0136948: 100%|██████████| 10/10 [00:00<00:00, 10.87it/s]\n"
     ]
    },
    {
     "name": "stdout",
     "output_type": "stream",
     "text": [
      "Validation loss decreased 0.0264137 --> 0.0243857: saving state...\n",
      "Epoch 25/100 - Validation loss: 0.0243857 (Exact: 98.16% | Partial: 98.16%)\n"
     ]
    },
    {
     "name": "stderr",
     "output_type": "stream",
     "text": [
      "Training loss: 0.00762291 | LR: 0.000842274: 100%|██████████| 61/61 [00:09<00:00,  6.21it/s]\n",
      "  0%|          | 0/10 [00:00<?, ?it/s]"
     ]
    },
    {
     "name": "stdout",
     "output_type": "stream",
     "text": [
      "Epoch 26/100 - Training loss: 0.00924801 | LR: 0.000842274\n"
     ]
    },
    {
     "name": "stderr",
     "output_type": "stream",
     "text": [
      "Validation loss: 0.015887: 100%|██████████| 10/10 [00:00<00:00, 10.97it/s] \n"
     ]
    },
    {
     "name": "stdout",
     "output_type": "stream",
     "text": [
      "Validation loss decreased 0.0243857 --> 0.022869: saving state...\n",
      "Epoch 26/100 - Validation loss: 0.022869 (Exact: 98.49% | Partial: 98.49%)\n"
     ]
    },
    {
     "name": "stderr",
     "output_type": "stream",
     "text": [
      "Training loss: 0.00403377 | LR: 0.000830657: 100%|██████████| 61/61 [00:09<00:00,  6.41it/s]\n",
      "  0%|          | 0/10 [00:00<?, ?it/s]"
     ]
    },
    {
     "name": "stdout",
     "output_type": "stream",
     "text": [
      "Epoch 27/100 - Training loss: 0.00743971 | LR: 0.000830657\n"
     ]
    },
    {
     "name": "stderr",
     "output_type": "stream",
     "text": [
      "Validation loss: 0.014456: 100%|██████████| 10/10 [00:01<00:00,  9.54it/s] \n"
     ]
    },
    {
     "name": "stdout",
     "output_type": "stream",
     "text": [
      "Validation loss decreased 0.022869 --> 0.0197837: saving state...\n",
      "Epoch 27/100 - Validation loss: 0.0197837 (Exact: 98.49% | Partial: 98.49%)\n"
     ]
    },
    {
     "name": "stderr",
     "output_type": "stream",
     "text": [
      "Training loss: 0.0039423 | LR: 0.000818713: 100%|██████████| 61/61 [00:11<00:00,  5.26it/s] \n",
      "  0%|          | 0/10 [00:00<?, ?it/s]"
     ]
    },
    {
     "name": "stdout",
     "output_type": "stream",
     "text": [
      "Epoch 28/100 - Training loss: 0.00701062 | LR: 0.000818713\n"
     ]
    },
    {
     "name": "stderr",
     "output_type": "stream",
     "text": [
      "Validation loss: 0.0181977: 100%|██████████| 10/10 [00:00<00:00, 10.75it/s]\n"
     ]
    },
    {
     "name": "stdout",
     "output_type": "stream",
     "text": [
      "Epoch 28/100 - Validation loss: 0.019983 (Exact: 98.49% | Partial: 98.49%)\n"
     ]
    },
    {
     "name": "stderr",
     "output_type": "stream",
     "text": [
      "Training loss: 0.00262733 | LR: 0.000806454: 100%|██████████| 61/61 [00:10<00:00,  5.65it/s]\n",
      "  0%|          | 0/10 [00:00<?, ?it/s]"
     ]
    },
    {
     "name": "stdout",
     "output_type": "stream",
     "text": [
      "Epoch 29/100 - Training loss: 0.00616529 | LR: 0.000806454\n"
     ]
    },
    {
     "name": "stderr",
     "output_type": "stream",
     "text": [
      "Validation loss: 0.0344098: 100%|██████████| 10/10 [00:00<00:00, 11.08it/s]\n"
     ]
    },
    {
     "name": "stdout",
     "output_type": "stream",
     "text": [
      "Epoch 29/100 - Validation loss: 0.0234692 (Exact: 98.66% | Partial: 98.66%)\n"
     ]
    },
    {
     "name": "stderr",
     "output_type": "stream",
     "text": [
      "Training loss: 0.00510646 | LR: 0.000793893: 100%|██████████| 61/61 [00:09<00:00,  6.16it/s]\n",
      "  0%|          | 0/10 [00:00<?, ?it/s]"
     ]
    },
    {
     "name": "stdout",
     "output_type": "stream",
     "text": [
      "Epoch 30/100 - Training loss: 0.00689882 | LR: 0.000793893\n"
     ]
    },
    {
     "name": "stderr",
     "output_type": "stream",
     "text": [
      "Validation loss: 0.01572: 100%|██████████| 10/10 [00:00<00:00, 10.77it/s]  \n",
      "  0%|          | 0/61 [00:00<?, ?it/s]"
     ]
    },
    {
     "name": "stdout",
     "output_type": "stream",
     "text": [
      "Validation loss decreased 0.0234692 --> 0.0207024: saving state...\n",
      "Epoch 30/100 - Validation loss: 0.0207024 (Exact: 98.49% | Partial: 98.49%)\n"
     ]
    },
    {
     "name": "stderr",
     "output_type": "stream",
     "text": [
      "Training loss: 0.00249233 | LR: 0.000781043: 100%|██████████| 61/61 [00:10<00:00,  5.87it/s]\n",
      "  0%|          | 0/10 [00:00<?, ?it/s]"
     ]
    },
    {
     "name": "stdout",
     "output_type": "stream",
     "text": [
      "Epoch 31/100 - Training loss: 0.00727464 | LR: 0.000781043\n"
     ]
    },
    {
     "name": "stderr",
     "output_type": "stream",
     "text": [
      "Validation loss: 0.0216744: 100%|██████████| 10/10 [00:00<00:00, 10.59it/s]\n"
     ]
    },
    {
     "name": "stdout",
     "output_type": "stream",
     "text": [
      "Epoch 31/100 - Validation loss: 0.0217816 (Exact: 98.33% | Partial: 98.33%)\n"
     ]
    },
    {
     "name": "stderr",
     "output_type": "stream",
     "text": [
      "Training loss: 0.0024211 | LR: 0.000767914: 100%|██████████| 61/61 [00:11<00:00,  5.54it/s] \n",
      "  0%|          | 0/10 [00:00<?, ?it/s]"
     ]
    },
    {
     "name": "stdout",
     "output_type": "stream",
     "text": [
      "Epoch 32/100 - Training loss: 0.00736425 | LR: 0.000767914\n"
     ]
    },
    {
     "name": "stderr",
     "output_type": "stream",
     "text": [
      "Validation loss: 0.00515252: 100%|██████████| 10/10 [00:00<00:00, 10.88it/s]\n"
     ]
    },
    {
     "name": "stdout",
     "output_type": "stream",
     "text": [
      "Validation loss decreased 0.0217816 --> 0.0203015: saving state...\n",
      "Epoch 32/100 - Validation loss: 0.0203015 (Exact: 98.16% | Partial: 98.16%)\n"
     ]
    },
    {
     "name": "stderr",
     "output_type": "stream",
     "text": [
      "Training loss: 0.00328451 | LR: 0.000754522: 100%|██████████| 61/61 [00:11<00:00,  5.52it/s]\n",
      "  0%|          | 0/10 [00:00<?, ?it/s]"
     ]
    },
    {
     "name": "stdout",
     "output_type": "stream",
     "text": [
      "Epoch 33/100 - Training loss: 0.00619637 | LR: 0.000754522\n"
     ]
    },
    {
     "name": "stderr",
     "output_type": "stream",
     "text": [
      "Validation loss: 0.0284341: 100%|██████████| 10/10 [00:00<00:00, 10.89it/s]\n"
     ]
    },
    {
     "name": "stdout",
     "output_type": "stream",
     "text": [
      "Epoch 33/100 - Validation loss: 0.0238721 (Exact: 97.66% | Partial: 97.66%)\n"
     ]
    },
    {
     "name": "stderr",
     "output_type": "stream",
     "text": [
      "Training loss: 0.00281458 | LR: 0.000740878: 100%|██████████| 61/61 [00:11<00:00,  5.41it/s]\n",
      "  0%|          | 0/10 [00:00<?, ?it/s]"
     ]
    },
    {
     "name": "stdout",
     "output_type": "stream",
     "text": [
      "Epoch 34/100 - Training loss: 0.00536607 | LR: 0.000740878\n"
     ]
    },
    {
     "name": "stderr",
     "output_type": "stream",
     "text": [
      "Validation loss: 0.00747749: 100%|██████████| 10/10 [00:00<00:00, 10.74it/s]\n",
      "  0%|          | 0/61 [00:00<?, ?it/s]"
     ]
    },
    {
     "name": "stdout",
     "output_type": "stream",
     "text": [
      "Validation loss decreased 0.0238721 --> 0.0222478: saving state...\n",
      "Epoch 34/100 - Validation loss: 0.0222478 (Exact: 98.49% | Partial: 98.49%)\n"
     ]
    },
    {
     "name": "stderr",
     "output_type": "stream",
     "text": [
      "Training loss: 0.00205236 | LR: 0.000726996: 100%|██████████| 61/61 [00:10<00:00,  5.99it/s]\n",
      "  0%|          | 0/10 [00:00<?, ?it/s]"
     ]
    },
    {
     "name": "stdout",
     "output_type": "stream",
     "text": [
      "Epoch 35/100 - Training loss: 0.0058566 | LR: 0.000726996\n"
     ]
    },
    {
     "name": "stderr",
     "output_type": "stream",
     "text": [
      "Validation loss: 0.0438246: 100%|██████████| 10/10 [00:00<00:00, 11.02it/s]\n"
     ]
    },
    {
     "name": "stdout",
     "output_type": "stream",
     "text": [
      "Epoch 35/100 - Validation loss: 0.0247424 (Exact: 98.33% | Partial: 98.33%)\n"
     ]
    },
    {
     "name": "stderr",
     "output_type": "stream",
     "text": [
      "Training loss: 0.0425183 | LR: 0.000712891: 100%|██████████| 61/61 [00:09<00:00,  6.16it/s] \n",
      "  0%|          | 0/10 [00:00<?, ?it/s]"
     ]
    },
    {
     "name": "stdout",
     "output_type": "stream",
     "text": [
      "Epoch 36/100 - Training loss: 0.00529975 | LR: 0.000712891\n"
     ]
    },
    {
     "name": "stderr",
     "output_type": "stream",
     "text": [
      "Validation loss: 0.0260276: 100%|██████████| 10/10 [00:00<00:00, 10.37it/s]\n",
      "  0%|          | 0/61 [00:00<?, ?it/s]"
     ]
    },
    {
     "name": "stdout",
     "output_type": "stream",
     "text": [
      "Validation loss decreased 0.0247424 --> 0.0221647: saving state...\n",
      "Epoch 36/100 - Validation loss: 0.0221647 (Exact: 98.66% | Partial: 98.66%)\n"
     ]
    },
    {
     "name": "stderr",
     "output_type": "stream",
     "text": [
      "Training loss: 0.0022022 | LR: 0.000698575: 100%|██████████| 61/61 [00:10<00:00,  5.71it/s] \n",
      "  0%|          | 0/10 [00:00<?, ?it/s]"
     ]
    },
    {
     "name": "stdout",
     "output_type": "stream",
     "text": [
      "Epoch 37/100 - Training loss: 0.00378867 | LR: 0.000698575\n"
     ]
    },
    {
     "name": "stderr",
     "output_type": "stream",
     "text": [
      "Validation loss: 0.0144236: 100%|██████████| 10/10 [00:00<00:00, 10.49it/s]\n",
      "  0%|          | 0/61 [00:00<?, ?it/s]"
     ]
    },
    {
     "name": "stdout",
     "output_type": "stream",
     "text": [
      "Validation loss decreased 0.0221647 --> 0.0211548: saving state...\n",
      "Epoch 37/100 - Validation loss: 0.0211548 (Exact: 98.33% | Partial: 98.33%)\n"
     ]
    },
    {
     "name": "stderr",
     "output_type": "stream",
     "text": [
      "Training loss: 0.00464905 | LR: 0.000684064: 100%|██████████| 61/61 [00:10<00:00,  6.06it/s]\n",
      "  0%|          | 0/10 [00:00<?, ?it/s]"
     ]
    },
    {
     "name": "stdout",
     "output_type": "stream",
     "text": [
      "Epoch 38/100 - Training loss: 0.00385664 | LR: 0.000684064\n"
     ]
    },
    {
     "name": "stderr",
     "output_type": "stream",
     "text": [
      "Validation loss: 0.00564498: 100%|██████████| 10/10 [00:00<00:00, 10.80it/s]\n"
     ]
    },
    {
     "name": "stdout",
     "output_type": "stream",
     "text": [
      "Validation loss decreased 0.0211548 --> 0.0201388: saving state...\n",
      "Epoch 38/100 - Validation loss: 0.0201388 (Exact: 98.66% | Partial: 98.66%)\n"
     ]
    },
    {
     "name": "stderr",
     "output_type": "stream",
     "text": [
      "Training loss: 0.00177438 | LR: 0.00066937: 100%|██████████| 61/61 [00:11<00:00,  5.51it/s] \n",
      "  0%|          | 0/10 [00:00<?, ?it/s]"
     ]
    },
    {
     "name": "stdout",
     "output_type": "stream",
     "text": [
      "Epoch 39/100 - Training loss: 0.00592482 | LR: 0.00066937\n"
     ]
    },
    {
     "name": "stderr",
     "output_type": "stream",
     "text": [
      "Validation loss: 0.00649059: 100%|██████████| 10/10 [00:00<00:00, 10.88it/s]\n"
     ]
    },
    {
     "name": "stdout",
     "output_type": "stream",
     "text": [
      "Validation loss decreased 0.0201388 --> 0.0195954: saving state...\n",
      "Epoch 39/100 - Validation loss: 0.0195954 (Exact: 98.66% | Partial: 98.66%)\n"
     ]
    },
    {
     "name": "stderr",
     "output_type": "stream",
     "text": [
      "Training loss: 0.00457226 | LR: 0.00065451: 100%|██████████| 61/61 [00:10<00:00,  5.91it/s] \n",
      "  0%|          | 0/10 [00:00<?, ?it/s]"
     ]
    },
    {
     "name": "stdout",
     "output_type": "stream",
     "text": [
      "Epoch 40/100 - Training loss: 0.00427427 | LR: 0.00065451\n"
     ]
    },
    {
     "name": "stderr",
     "output_type": "stream",
     "text": [
      "Validation loss: 0.00479105: 100%|██████████| 10/10 [00:00<00:00, 11.15it/s]\n"
     ]
    },
    {
     "name": "stdout",
     "output_type": "stream",
     "text": [
      "Validation loss decreased 0.0195954 --> 0.0190555: saving state...\n",
      "Epoch 40/100 - Validation loss: 0.0190555 (Exact: 98.49% | Partial: 98.49%)\n"
     ]
    },
    {
     "name": "stderr",
     "output_type": "stream",
     "text": [
      "Training loss: 0.00165919 | LR: 0.000639497: 100%|██████████| 61/61 [00:11<00:00,  5.37it/s]\n",
      "  0%|          | 0/10 [00:00<?, ?it/s]"
     ]
    },
    {
     "name": "stdout",
     "output_type": "stream",
     "text": [
      "Epoch 41/100 - Training loss: 0.00393116 | LR: 0.000639497\n"
     ]
    },
    {
     "name": "stderr",
     "output_type": "stream",
     "text": [
      "Validation loss: 0.00591449: 100%|██████████| 10/10 [00:00<00:00, 11.03it/s]\n"
     ]
    },
    {
     "name": "stdout",
     "output_type": "stream",
     "text": [
      "Epoch 41/100 - Validation loss: 0.0242906 (Exact: 98.16% | Partial: 98.33%)\n"
     ]
    },
    {
     "name": "stderr",
     "output_type": "stream",
     "text": [
      "Training loss: 0.00887593 | LR: 0.000624346: 100%|██████████| 61/61 [00:10<00:00,  5.80it/s]\n",
      "  0%|          | 0/10 [00:00<?, ?it/s]"
     ]
    },
    {
     "name": "stdout",
     "output_type": "stream",
     "text": [
      "Epoch 42/100 - Training loss: 0.00351214 | LR: 0.000624346\n"
     ]
    },
    {
     "name": "stderr",
     "output_type": "stream",
     "text": [
      "Validation loss: 0.0039308: 100%|██████████| 10/10 [00:00<00:00, 10.73it/s]\n"
     ]
    },
    {
     "name": "stdout",
     "output_type": "stream",
     "text": [
      "Validation loss decreased 0.0242906 --> 0.0230121: saving state...\n",
      "Epoch 42/100 - Validation loss: 0.0230121 (Exact: 98.33% | Partial: 98.33%)\n"
     ]
    },
    {
     "name": "stderr",
     "output_type": "stream",
     "text": [
      "Training loss: 0.00232532 | LR: 0.000609073: 100%|██████████| 61/61 [00:10<00:00,  5.84it/s] \n",
      "  0%|          | 0/10 [00:00<?, ?it/s]"
     ]
    },
    {
     "name": "stdout",
     "output_type": "stream",
     "text": [
      "Epoch 43/100 - Training loss: 0.00437082 | LR: 0.000609073\n"
     ]
    },
    {
     "name": "stderr",
     "output_type": "stream",
     "text": [
      "Validation loss: 0.0070252: 100%|██████████| 10/10 [00:00<00:00, 10.76it/s]\n"
     ]
    },
    {
     "name": "stdout",
     "output_type": "stream",
     "text": [
      "Epoch 43/100 - Validation loss: 0.0237703 (Exact: 98.33% | Partial: 98.33%)\n"
     ]
    },
    {
     "name": "stderr",
     "output_type": "stream",
     "text": [
      "Training loss: 0.00728014 | LR: 0.000593692: 100%|██████████| 61/61 [00:10<00:00,  5.66it/s]\n",
      "  0%|          | 0/10 [00:00<?, ?it/s]"
     ]
    },
    {
     "name": "stdout",
     "output_type": "stream",
     "text": [
      "Epoch 44/100 - Training loss: 0.00326492 | LR: 0.000593692\n"
     ]
    },
    {
     "name": "stderr",
     "output_type": "stream",
     "text": [
      "Validation loss: 0.00730159: 100%|██████████| 10/10 [00:00<00:00, 10.68it/s]\n"
     ]
    },
    {
     "name": "stdout",
     "output_type": "stream",
     "text": [
      "Epoch 44/100 - Validation loss: 0.0267703 (Exact: 97.83% | Partial: 97.83%)\n"
     ]
    },
    {
     "name": "stderr",
     "output_type": "stream",
     "text": [
      "Training loss: 0.00281092 | LR: 0.000578219: 100%|██████████| 61/61 [00:11<00:00,  5.49it/s] \n",
      "  0%|          | 0/10 [00:00<?, ?it/s]"
     ]
    },
    {
     "name": "stdout",
     "output_type": "stream",
     "text": [
      "Epoch 45/100 - Training loss: 0.00385869 | LR: 0.000578219\n"
     ]
    },
    {
     "name": "stderr",
     "output_type": "stream",
     "text": [
      "Validation loss: 0.00635062: 100%|██████████| 10/10 [00:00<00:00, 10.62it/s]\n"
     ]
    },
    {
     "name": "stdout",
     "output_type": "stream",
     "text": [
      "Validation loss decreased 0.0267703 --> 0.0253854: saving state...\n",
      "Epoch 45/100 - Validation loss: 0.0253854 (Exact: 98.16% | Partial: 98.16%)\n"
     ]
    },
    {
     "name": "stderr",
     "output_type": "stream",
     "text": [
      "Training loss: 0.00133301 | LR: 0.000562668: 100%|██████████| 61/61 [00:10<00:00,  5.78it/s] \n",
      "  0%|          | 0/10 [00:00<?, ?it/s]"
     ]
    },
    {
     "name": "stdout",
     "output_type": "stream",
     "text": [
      "Epoch 46/100 - Training loss: 0.00468125 | LR: 0.000562668\n"
     ]
    },
    {
     "name": "stderr",
     "output_type": "stream",
     "text": [
      "Validation loss: 0.00358954: 100%|██████████| 10/10 [00:00<00:00, 10.77it/s]\n"
     ]
    },
    {
     "name": "stdout",
     "output_type": "stream",
     "text": [
      "Epoch 46/100 - Validation loss: 0.0270189 (Exact: 98.33% | Partial: 98.33%)\n"
     ]
    },
    {
     "name": "stderr",
     "output_type": "stream",
     "text": [
      "Training loss: 0.00135638 | LR: 0.000547056: 100%|██████████| 61/61 [00:11<00:00,  5.49it/s]\n",
      "  0%|          | 0/10 [00:00<?, ?it/s]"
     ]
    },
    {
     "name": "stdout",
     "output_type": "stream",
     "text": [
      "Epoch 47/100 - Training loss: 0.00329893 | LR: 0.000547056\n"
     ]
    },
    {
     "name": "stderr",
     "output_type": "stream",
     "text": [
      "Validation loss: 0.00329401: 100%|██████████| 10/10 [00:00<00:00, 11.07it/s]\n"
     ]
    },
    {
     "name": "stdout",
     "output_type": "stream",
     "text": [
      "Validation loss decreased 0.0270189 --> 0.0265197: saving state...\n",
      "Epoch 47/100 - Validation loss: 0.0265197 (Exact: 98.33% | Partial: 98.33%)\n"
     ]
    },
    {
     "name": "stderr",
     "output_type": "stream",
     "text": [
      "Training loss: 0.00791789 | LR: 0.000531397: 100%|██████████| 61/61 [00:10<00:00,  5.69it/s]\n",
      "  0%|          | 0/10 [00:00<?, ?it/s]"
     ]
    },
    {
     "name": "stdout",
     "output_type": "stream",
     "text": [
      "Epoch 48/100 - Training loss: 0.00404977 | LR: 0.000531397\n"
     ]
    },
    {
     "name": "stderr",
     "output_type": "stream",
     "text": [
      "Validation loss: 0.0111491: 100%|██████████| 10/10 [00:00<00:00, 10.19it/s]\n"
     ]
    },
    {
     "name": "stdout",
     "output_type": "stream",
     "text": [
      "Epoch 48/100 - Validation loss: 0.0266504 (Exact: 97.99% | Partial: 97.99%)\n"
     ]
    },
    {
     "name": "stderr",
     "output_type": "stream",
     "text": [
      "Training loss: 0.0015977 | LR: 0.000515707: 100%|██████████| 61/61 [00:10<00:00,  5.75it/s]  \n",
      "  0%|          | 0/10 [00:00<?, ?it/s]"
     ]
    },
    {
     "name": "stdout",
     "output_type": "stream",
     "text": [
      "Epoch 49/100 - Training loss: 0.00358359 | LR: 0.000515707\n"
     ]
    },
    {
     "name": "stderr",
     "output_type": "stream",
     "text": [
      "Validation loss: 0.00507439: 100%|██████████| 10/10 [00:00<00:00, 10.47it/s]\n"
     ]
    },
    {
     "name": "stdout",
     "output_type": "stream",
     "text": [
      "Validation loss decreased 0.0266504 --> 0.024613: saving state...\n",
      "Epoch 49/100 - Validation loss: 0.024613 (Exact: 98.16% | Partial: 98.16%)\n"
     ]
    },
    {
     "name": "stderr",
     "output_type": "stream",
     "text": [
      "Training loss: 0.00651386 | LR: 0.000500002: 100%|██████████| 61/61 [00:11<00:00,  5.53it/s]\n",
      "  0%|          | 0/10 [00:00<?, ?it/s]"
     ]
    },
    {
     "name": "stdout",
     "output_type": "stream",
     "text": [
      "Epoch 50/100 - Training loss: 0.00434211 | LR: 0.000500002\n"
     ]
    },
    {
     "name": "stderr",
     "output_type": "stream",
     "text": [
      "Validation loss: 0.00268194: 100%|██████████| 10/10 [00:01<00:00,  9.89it/s]\n"
     ]
    },
    {
     "name": "stdout",
     "output_type": "stream",
     "text": [
      "Validation loss decreased 0.024613 --> 0.0227693: saving state...\n",
      "Epoch 50/100 - Validation loss: 0.0227693 (Exact: 98.49% | Partial: 98.49%)\n"
     ]
    },
    {
     "name": "stderr",
     "output_type": "stream",
     "text": [
      "Training loss: 0.00592243 | LR: 0.000484297: 100%|██████████| 61/61 [00:11<00:00,  5.40it/s] \n",
      "  0%|          | 0/10 [00:00<?, ?it/s]"
     ]
    },
    {
     "name": "stdout",
     "output_type": "stream",
     "text": [
      "Epoch 51/100 - Training loss: 0.00353972 | LR: 0.000484297\n"
     ]
    },
    {
     "name": "stderr",
     "output_type": "stream",
     "text": [
      "Validation loss: 0.00225814: 100%|██████████| 10/10 [00:01<00:00,  8.47it/s]\n",
      "  0%|          | 0/61 [00:00<?, ?it/s]"
     ]
    },
    {
     "name": "stdout",
     "output_type": "stream",
     "text": [
      "Epoch 51/100 - Validation loss: 0.0232316 (Exact: 98.66% | Partial: 98.66%)\n"
     ]
    },
    {
     "name": "stderr",
     "output_type": "stream",
     "text": [
      "Training loss: 0.00964649 | LR: 0.000468607: 100%|██████████| 61/61 [00:11<00:00,  5.09it/s] \n",
      "  0%|          | 0/10 [00:00<?, ?it/s]"
     ]
    },
    {
     "name": "stdout",
     "output_type": "stream",
     "text": [
      "Epoch 52/100 - Training loss: 0.0032224 | LR: 0.000468607\n"
     ]
    },
    {
     "name": "stderr",
     "output_type": "stream",
     "text": [
      "Validation loss: 0.00134242: 100%|██████████| 10/10 [00:00<00:00, 10.22it/s]\n"
     ]
    },
    {
     "name": "stdout",
     "output_type": "stream",
     "text": [
      "Epoch 52/100 - Validation loss: 0.0244172 (Exact: 98.49% | Partial: 98.49%)\n"
     ]
    },
    {
     "name": "stderr",
     "output_type": "stream",
     "text": [
      "Training loss: 0.00136885 | LR: 0.000452948: 100%|██████████| 61/61 [00:12<00:00,  4.99it/s]\n",
      "  0%|          | 0/10 [00:00<?, ?it/s]"
     ]
    },
    {
     "name": "stdout",
     "output_type": "stream",
     "text": [
      "Epoch 53/100 - Training loss: 0.00432441 | LR: 0.000452948\n"
     ]
    },
    {
     "name": "stderr",
     "output_type": "stream",
     "text": [
      "Validation loss: 0.00213702: 100%|██████████| 10/10 [00:00<00:00, 10.38it/s]\n"
     ]
    },
    {
     "name": "stdout",
     "output_type": "stream",
     "text": [
      "Epoch 53/100 - Validation loss: 0.0264907 (Exact: 98.49% | Partial: 98.49%)\n"
     ]
    },
    {
     "name": "stderr",
     "output_type": "stream",
     "text": [
      "Training loss: 0.0011027 | LR: 0.000437336: 100%|██████████| 61/61 [00:11<00:00,  5.32it/s]  \n",
      "  0%|          | 0/10 [00:00<?, ?it/s]"
     ]
    },
    {
     "name": "stdout",
     "output_type": "stream",
     "text": [
      "Epoch 54/100 - Training loss: 0.00360056 | LR: 0.000437336\n"
     ]
    },
    {
     "name": "stderr",
     "output_type": "stream",
     "text": [
      "Validation loss: 0.00351569: 100%|██████████| 10/10 [00:01<00:00,  9.80it/s]\n"
     ]
    },
    {
     "name": "stdout",
     "output_type": "stream",
     "text": [
      "Validation loss decreased 0.0264907 --> 0.0214878: saving state...\n",
      "Epoch 54/100 - Validation loss: 0.0214878 (Exact: 98.49% | Partial: 98.49%)\n"
     ]
    },
    {
     "name": "stderr",
     "output_type": "stream",
     "text": [
      "Training loss: 0.00229663 | LR: 0.000421785: 100%|██████████| 61/61 [00:11<00:00,  5.28it/s] \n",
      "  0%|          | 0/10 [00:00<?, ?it/s]"
     ]
    },
    {
     "name": "stdout",
     "output_type": "stream",
     "text": [
      "Epoch 55/100 - Training loss: 0.00246769 | LR: 0.000421785\n"
     ]
    },
    {
     "name": "stderr",
     "output_type": "stream",
     "text": [
      "Validation loss: 0.00391706: 100%|██████████| 10/10 [00:00<00:00, 10.38it/s]\n"
     ]
    },
    {
     "name": "stdout",
     "output_type": "stream",
     "text": [
      "Epoch 55/100 - Validation loss: 0.0243392 (Exact: 98.33% | Partial: 98.33%)\n"
     ]
    },
    {
     "name": "stderr",
     "output_type": "stream",
     "text": [
      "Training loss: 0.00439911 | LR: 0.000406312: 100%|██████████| 61/61 [00:11<00:00,  5.45it/s] \n",
      "  0%|          | 0/10 [00:00<?, ?it/s]"
     ]
    },
    {
     "name": "stdout",
     "output_type": "stream",
     "text": [
      "Epoch 56/100 - Training loss: 0.00295617 | LR: 0.000406312\n"
     ]
    },
    {
     "name": "stderr",
     "output_type": "stream",
     "text": [
      "Validation loss: 0.0039695: 100%|██████████| 10/10 [00:00<00:00, 10.00it/s]\n"
     ]
    },
    {
     "name": "stdout",
     "output_type": "stream",
     "text": [
      "Validation loss decreased 0.0243392 --> 0.0238328: saving state...\n",
      "Epoch 56/100 - Validation loss: 0.0238328 (Exact: 98.33% | Partial: 98.33%)\n"
     ]
    },
    {
     "name": "stderr",
     "output_type": "stream",
     "text": [
      "Training loss: 0.0016587 | LR: 0.000390931: 100%|██████████| 61/61 [00:12<00:00,  5.00it/s]  \n",
      "  0%|          | 0/10 [00:00<?, ?it/s]"
     ]
    },
    {
     "name": "stdout",
     "output_type": "stream",
     "text": [
      "Epoch 57/100 - Training loss: 0.00321852 | LR: 0.000390931\n"
     ]
    },
    {
     "name": "stderr",
     "output_type": "stream",
     "text": [
      "Validation loss: 0.00314758: 100%|██████████| 10/10 [00:01<00:00,  9.41it/s]\n",
      "  0%|          | 0/61 [00:00<?, ?it/s]"
     ]
    },
    {
     "name": "stdout",
     "output_type": "stream",
     "text": [
      "Validation loss decreased 0.0238328 --> 0.0205686: saving state...\n",
      "Epoch 57/100 - Validation loss: 0.0205686 (Exact: 98.16% | Partial: 98.16%)\n"
     ]
    },
    {
     "name": "stderr",
     "output_type": "stream",
     "text": [
      "Training loss: 0.000856499 | LR: 0.000375658: 100%|██████████| 61/61 [00:11<00:00,  5.24it/s]\n",
      "  0%|          | 0/10 [00:00<?, ?it/s]"
     ]
    },
    {
     "name": "stdout",
     "output_type": "stream",
     "text": [
      "Epoch 58/100 - Training loss: 0.00276673 | LR: 0.000375658\n"
     ]
    },
    {
     "name": "stderr",
     "output_type": "stream",
     "text": [
      "Validation loss: 0.00799989: 100%|██████████| 10/10 [00:00<00:00, 10.28it/s]\n"
     ]
    },
    {
     "name": "stdout",
     "output_type": "stream",
     "text": [
      "Epoch 58/100 - Validation loss: 0.0233463 (Exact: 97.99% | Partial: 97.99%)\n"
     ]
    },
    {
     "name": "stderr",
     "output_type": "stream",
     "text": [
      "Training loss: 0.00150761 | LR: 0.000360507: 100%|██████████| 61/61 [00:12<00:00,  4.92it/s] \n",
      "  0%|          | 0/10 [00:00<?, ?it/s]"
     ]
    },
    {
     "name": "stdout",
     "output_type": "stream",
     "text": [
      "Epoch 59/100 - Training loss: 0.00253997 | LR: 0.000360507\n"
     ]
    },
    {
     "name": "stderr",
     "output_type": "stream",
     "text": [
      "Validation loss: 0.016765: 100%|██████████| 10/10 [00:00<00:00, 10.26it/s] \n"
     ]
    },
    {
     "name": "stdout",
     "output_type": "stream",
     "text": [
      "Epoch 59/100 - Validation loss: 0.0246166 (Exact: 98.16% | Partial: 98.16%)\n"
     ]
    },
    {
     "name": "stderr",
     "output_type": "stream",
     "text": [
      "Training loss: 0.000729229 | LR: 0.000345494: 100%|██████████| 61/61 [00:11<00:00,  5.42it/s]\n",
      "  0%|          | 0/10 [00:00<?, ?it/s]"
     ]
    },
    {
     "name": "stdout",
     "output_type": "stream",
     "text": [
      "Epoch 60/100 - Training loss: 0.00271049 | LR: 0.000345494\n"
     ]
    },
    {
     "name": "stderr",
     "output_type": "stream",
     "text": [
      "Validation loss: 0.00408851: 100%|██████████| 10/10 [00:00<00:00, 10.69it/s]\n",
      "  0%|          | 0/61 [00:00<?, ?it/s]"
     ]
    },
    {
     "name": "stdout",
     "output_type": "stream",
     "text": [
      "Validation loss decreased 0.0246166 --> 0.0205692: saving state...\n",
      "Epoch 60/100 - Validation loss: 0.0205692 (Exact: 98.66% | Partial: 98.66%)\n"
     ]
    },
    {
     "name": "stderr",
     "output_type": "stream",
     "text": [
      "Training loss: 0.000887662 | LR: 0.000330634: 100%|██████████| 61/61 [00:11<00:00,  5.50it/s]\n"
     ]
    },
    {
     "name": "stdout",
     "output_type": "stream",
     "text": [
      "Epoch 61/100 - Training loss: 0.00275398 | LR: 0.000330634\n"
     ]
    },
    {
     "name": "stderr",
     "output_type": "stream",
     "text": [
      "Validation loss: 0.00473137: 100%|██████████| 10/10 [00:00<00:00, 11.04it/s]\n"
     ]
    },
    {
     "name": "stdout",
     "output_type": "stream",
     "text": [
      "Validation loss decreased 0.0205692 --> 0.0201819: saving state...\n",
      "Epoch 61/100 - Validation loss: 0.0201819 (Exact: 98.33% | Partial: 98.33%)\n"
     ]
    },
    {
     "name": "stderr",
     "output_type": "stream",
     "text": [
      "Training loss: 0.0010086 | LR: 0.00031594: 100%|██████████| 61/61 [00:11<00:00,  5.38it/s]   \n",
      "  0%|          | 0/10 [00:00<?, ?it/s]"
     ]
    },
    {
     "name": "stdout",
     "output_type": "stream",
     "text": [
      "Epoch 62/100 - Training loss: 0.00200258 | LR: 0.00031594\n"
     ]
    },
    {
     "name": "stderr",
     "output_type": "stream",
     "text": [
      "Validation loss: 0.00852383: 100%|██████████| 10/10 [00:00<00:00, 10.87it/s]\n"
     ]
    },
    {
     "name": "stdout",
     "output_type": "stream",
     "text": [
      "Validation loss decreased 0.0201819 --> 0.0199119: saving state...\n",
      "Epoch 62/100 - Validation loss: 0.0199119 (Exact: 98.16% | Partial: 98.33%)\n"
     ]
    },
    {
     "name": "stderr",
     "output_type": "stream",
     "text": [
      "Training loss: 0.00328244 | LR: 0.000301429: 100%|██████████| 61/61 [00:12<00:00,  4.78it/s] \n",
      "  0%|          | 0/10 [00:00<?, ?it/s]"
     ]
    },
    {
     "name": "stdout",
     "output_type": "stream",
     "text": [
      "Epoch 63/100 - Training loss: 0.00185515 | LR: 0.000301429\n"
     ]
    },
    {
     "name": "stderr",
     "output_type": "stream",
     "text": [
      "Validation loss: 0.00659496: 100%|██████████| 10/10 [00:00<00:00, 10.62it/s]\n",
      "  0%|          | 0/61 [00:00<?, ?it/s]"
     ]
    },
    {
     "name": "stdout",
     "output_type": "stream",
     "text": [
      "Epoch 63/100 - Validation loss: 0.0201003 (Exact: 98.49% | Partial: 98.66%)\n"
     ]
    },
    {
     "name": "stderr",
     "output_type": "stream",
     "text": [
      "Training loss: 0.000813964 | LR: 0.000287113: 100%|██████████| 61/61 [00:11<00:00,  5.43it/s]\n",
      "  0%|          | 0/10 [00:00<?, ?it/s]"
     ]
    },
    {
     "name": "stdout",
     "output_type": "stream",
     "text": [
      "Epoch 64/100 - Training loss: 0.00204266 | LR: 0.000287113\n"
     ]
    },
    {
     "name": "stderr",
     "output_type": "stream",
     "text": [
      "Validation loss: 0.00298674: 100%|██████████| 10/10 [00:00<00:00, 10.50it/s]\n"
     ]
    },
    {
     "name": "stdout",
     "output_type": "stream",
     "text": [
      "Epoch 64/100 - Validation loss: 0.0201755 (Exact: 98.33% | Partial: 98.33%)\n"
     ]
    },
    {
     "name": "stderr",
     "output_type": "stream",
     "text": [
      "Training loss: 0.000829814 | LR: 0.000273008: 100%|██████████| 61/61 [00:12<00:00,  4.93it/s]\n",
      "  0%|          | 0/10 [00:00<?, ?it/s]"
     ]
    },
    {
     "name": "stdout",
     "output_type": "stream",
     "text": [
      "Epoch 65/100 - Training loss: 0.00245855 | LR: 0.000273008\n"
     ]
    },
    {
     "name": "stderr",
     "output_type": "stream",
     "text": [
      "Validation loss: 0.00231431: 100%|██████████| 10/10 [00:01<00:00,  9.24it/s]\n",
      "  0%|          | 0/61 [00:00<?, ?it/s]"
     ]
    },
    {
     "name": "stdout",
     "output_type": "stream",
     "text": [
      "Validation loss decreased 0.0201755 --> 0.0195196: saving state...\n",
      "Epoch 65/100 - Validation loss: 0.0195196 (Exact: 98.16% | Partial: 98.16%)\n"
     ]
    },
    {
     "name": "stderr",
     "output_type": "stream",
     "text": [
      "Training loss: 0.00826094 | LR: 0.000259126: 100%|██████████| 61/61 [00:11<00:00,  5.14it/s] \n",
      "  0%|          | 0/10 [00:00<?, ?it/s]"
     ]
    },
    {
     "name": "stdout",
     "output_type": "stream",
     "text": [
      "Epoch 66/100 - Training loss: 0.00188531 | LR: 0.000259126\n"
     ]
    },
    {
     "name": "stderr",
     "output_type": "stream",
     "text": [
      "Validation loss: 0.00171905: 100%|██████████| 10/10 [00:00<00:00, 10.29it/s]\n",
      "  0%|          | 0/61 [00:00<?, ?it/s]"
     ]
    },
    {
     "name": "stdout",
     "output_type": "stream",
     "text": [
      "Validation loss decreased 0.0195196 --> 0.018325: saving state...\n",
      "Epoch 66/100 - Validation loss: 0.018325 (Exact: 98.33% | Partial: 98.33%)\n"
     ]
    },
    {
     "name": "stderr",
     "output_type": "stream",
     "text": [
      "Training loss: 0.000808156 | LR: 0.000245482: 100%|██████████| 61/61 [00:12<00:00,  5.06it/s]\n",
      "  0%|          | 0/10 [00:00<?, ?it/s]"
     ]
    },
    {
     "name": "stdout",
     "output_type": "stream",
     "text": [
      "Epoch 67/100 - Training loss: 0.00205083 | LR: 0.000245482\n"
     ]
    },
    {
     "name": "stderr",
     "output_type": "stream",
     "text": [
      "Validation loss: 0.00156631: 100%|██████████| 10/10 [00:00<00:00, 10.12it/s]\n"
     ]
    },
    {
     "name": "stdout",
     "output_type": "stream",
     "text": [
      "Validation loss decreased 0.018325 --> 0.0180997: saving state...\n",
      "Epoch 67/100 - Validation loss: 0.0180997 (Exact: 98.33% | Partial: 98.33%)\n"
     ]
    },
    {
     "name": "stderr",
     "output_type": "stream",
     "text": [
      "Training loss: 0.000713503 | LR: 0.00023209: 100%|██████████| 61/61 [00:11<00:00,  5.19it/s] \n",
      "  0%|          | 0/10 [00:00<?, ?it/s]"
     ]
    },
    {
     "name": "stdout",
     "output_type": "stream",
     "text": [
      "Epoch 68/100 - Training loss: 0.00184059 | LR: 0.00023209\n"
     ]
    },
    {
     "name": "stderr",
     "output_type": "stream",
     "text": [
      "Validation loss: 0.00307904: 100%|██████████| 10/10 [00:00<00:00, 10.36it/s]\n"
     ]
    },
    {
     "name": "stdout",
     "output_type": "stream",
     "text": [
      "Epoch 68/100 - Validation loss: 0.0208963 (Exact: 98.49% | Partial: 98.66%)\n"
     ]
    },
    {
     "name": "stderr",
     "output_type": "stream",
     "text": [
      "Training loss: 0.000710581 | LR: 0.000218961: 100%|██████████| 61/61 [00:11<00:00,  5.14it/s]\n",
      "  0%|          | 0/10 [00:00<?, ?it/s]"
     ]
    },
    {
     "name": "stdout",
     "output_type": "stream",
     "text": [
      "Epoch 69/100 - Training loss: 0.00126773 | LR: 0.000218961\n"
     ]
    },
    {
     "name": "stderr",
     "output_type": "stream",
     "text": [
      "Validation loss: 0.0025504: 100%|██████████| 10/10 [00:00<00:00, 10.40it/s] \n"
     ]
    },
    {
     "name": "stdout",
     "output_type": "stream",
     "text": [
      "Validation loss decreased 0.0208963 --> 0.0205113: saving state...\n",
      "Epoch 69/100 - Validation loss: 0.0205113 (Exact: 98.49% | Partial: 98.49%)\n"
     ]
    },
    {
     "name": "stderr",
     "output_type": "stream",
     "text": [
      "Training loss: 0.00214363 | LR: 0.000206111: 100%|██████████| 61/61 [00:11<00:00,  5.28it/s] \n",
      "  0%|          | 0/10 [00:00<?, ?it/s]"
     ]
    },
    {
     "name": "stdout",
     "output_type": "stream",
     "text": [
      "Epoch 70/100 - Training loss: 0.00192582 | LR: 0.000206111\n"
     ]
    },
    {
     "name": "stderr",
     "output_type": "stream",
     "text": [
      "Validation loss: 0.00262887: 100%|██████████| 10/10 [00:00<00:00, 10.60it/s]\n"
     ]
    },
    {
     "name": "stdout",
     "output_type": "stream",
     "text": [
      "Validation loss decreased 0.0205113 --> 0.020172: saving state...\n",
      "Epoch 70/100 - Validation loss: 0.020172 (Exact: 98.49% | Partial: 98.66%)\n"
     ]
    },
    {
     "name": "stderr",
     "output_type": "stream",
     "text": [
      "Training loss: 0.000600451 | LR: 0.00019355: 100%|██████████| 61/61 [00:11<00:00,  5.21it/s] \n",
      "  0%|          | 0/10 [00:00<?, ?it/s]"
     ]
    },
    {
     "name": "stdout",
     "output_type": "stream",
     "text": [
      "Epoch 71/100 - Training loss: 0.00157938 | LR: 0.00019355\n"
     ]
    },
    {
     "name": "stderr",
     "output_type": "stream",
     "text": [
      "Validation loss: 0.0329006:  40%|████      | 4/10 [00:00<00:00,  7.52it/s] "
     ]
    }
   ],
   "source": [
    "finetune_recognition(recognition_train_path, recognition_val_path, \"ml-models/recognition-model-finetuned\")"
   ]
  },
  {
   "cell_type": "code",
   "execution_count": null,
   "id": "de18378a",
   "metadata": {},
   "outputs": [],
   "source": [
    "from doctr.models import ocr_predictor, detection_predictor, recognition_predictor\n",
    "from doctr.models import ocr_predictor, db_resnet50, crnn_vgg16_bn\n",
    "from importlib import reload\n",
    "import doctr.models\n",
    "from torch import load as torch_load\n",
    "\n",
    "from doctr_package.doctr.models.recognition.crnn.pytorch import CRNN\n",
    "\n",
    "reload(doctr.models)\n",
    "\n",
    "\n",
    "def create_doctr_model(det_pt_path=None, reco_pt_path=None):\n",
    "    det_model = db_resnet50(pretrained=True).to(\"cuda\")\n",
    "\n",
    "    if det_pt_path is not None:\n",
    "        det_params = torch_load(det_pt_path, map_location=\"cuda:0\")\n",
    "        det_model.load_state_dict(det_params)\n",
    "\n",
    "    if reco_pt_path is not None:\n",
    "        reco_model: CRNN = crnn_vgg16_bn(\n",
    "            pretrained=True,\n",
    "            pretrained_backbone=True,\n",
    "            vocab=vocab,\n",
    "        ).to(\"cuda\")\n",
    "        reco_params = torch_load(reco_pt_path, map_location=\"cuda:0\")\n",
    "        reco_model.load_state_dict(reco_params)\n",
    "    else:\n",
    "        reco_model = crnn_vgg16_bn(\n",
    "            pretrained=True,\n",
    "            pretrained_backbone=True,\n",
    "        ).to(\"cuda\")\n",
    "\n",
    "    full_predictor = ocr_predictor(\n",
    "        det_arch=det_model,\n",
    "        reco_arch=reco_model,\n",
    "        pretrained=True,\n",
    "        assume_straight_pages=True,\n",
    "        disable_crop_orientation=True,\n",
    "    )\n",
    "\n",
    "    det_predictor = detection_predictor(\n",
    "        arch=det_model,\n",
    "        pretrained=True,\n",
    "        assume_straight_pages=True,\n",
    "    )\n",
    "\n",
    "    reco_predictor = recognition_predictor(\n",
    "        arch=reco_model,\n",
    "        pretrained=True,\n",
    "    )\n",
    "\n",
    "    # baseline performs optimally with default\n",
    "    # the finetuned model seems to work much better when instantiated this way\n",
    "    # the ocr_predictor must have some extra default config setting\n",
    "    # that hinders the finetuned model\n",
    "    if det_pt_path is not None:\n",
    "        full_predictor.det_predictor = det_predictor\n",
    "    if reco_pt_path is not None:\n",
    "        full_predictor.reco_predictor = reco_predictor\n",
    "\n",
    "    # this might tighten up boxes a bit\n",
    "    # full_predictor.det_predictor.model.postprocessor.unclip_ratio = 1.2\n",
    "    # det_predictor.model.postprocessor.unclip_ratio = 1.2\n",
    "\n",
    "    return det_predictor, full_predictor\n",
    "\n",
    "baseline_det_predictor, baseline_ocr_predictor = create_doctr_model(None)\n",
    "finetuned_det_predictor, finetuned_ocr_predictor = create_doctr_model(\n",
    "    \"training-output/detection-model-finetuned.pt\",\n",
    "    \"training-output/recognition-model-finetuned.pt\",\n",
    ")"
   ]
  },
  {
   "cell_type": "code",
   "execution_count": null,
   "id": "4e54ff00",
   "metadata": {},
   "outputs": [],
   "source": [
    "from doctr_package.doctr.io.reader import DocumentFile\n",
    "from os import listdir\n",
    "\n",
    "# this is a bit of a hack, but it works\n",
    "train_finetune_preds = []\n",
    "train_baseline_preds = []\n",
    "train_finetune_exports = []\n",
    "train_baseline_exports = []\n",
    "for f in listdir(detection_train_path + \"/images\"):\n",
    "    print(f)\n",
    "    doctr_image = DocumentFile.from_images(detection_train_path + \"/images/\" + f)\n",
    "\n",
    "    baseline_result = baseline_det_predictor(doctr_image)\n",
    "    train_baseline_preds.append(baseline_result[0][\"words\"])\n",
    "\n",
    "    baseline_export = baseline_ocr_predictor(doctr_image).export()\n",
    "    train_baseline_exports.append(baseline_export)\n",
    "\n",
    "    finetuned_result = finetuned_det_predictor(doctr_image)    \n",
    "    train_finetune_preds.append(finetuned_result[0][\"words\"])\n",
    "\n",
    "    finetuned_export = finetuned_ocr_predictor(doctr_image).export()\n",
    "    train_finetune_exports.append(finetuned_export)\n",
    "\n",
    "val_finetune_preds = []\n",
    "val_baseline_preds = []\n",
    "val_finetune_exports = []\n",
    "val_baseline_exports = []\n",
    "for f in os.listdir(detection_val_path + \"/images\"):\n",
    "    print(f)\n",
    "    doctr_image = DocumentFile.from_images(detection_val_path + \"/images/\" + f)\n",
    "    # print(doctr_image)\n",
    "    \n",
    "    finetuned_result = finetuned_ocr_predictor.det_predictor(doctr_image)\n",
    "    val_finetune_preds.append(finetuned_result[0][\"words\"])\n",
    "        \n",
    "    finetuned_export = finetuned_ocr_predictor(doctr_image).export()\n",
    "    val_finetune_exports.append(finetuned_export)\n",
    "\n",
    "    baseline_result = baseline_ocr_predictor.det_predictor(doctr_image)\n",
    "    val_baseline_preds.append(baseline_result[0][\"words\"])\n",
    "\n",
    "    baseline_export = baseline_ocr_predictor(doctr_image).export()\n",
    "    train_baseline_exports.append(baseline_export)\n",
    "\n"
   ]
  },
  {
   "cell_type": "code",
   "execution_count": null,
   "id": "c73ce965",
   "metadata": {},
   "outputs": [],
   "source": [
    "## TODO this needs to be update for the targets to check\n",
    "\n",
    "from doctr.utils.metrics import LocalizationConfusion\n",
    "lc_baseline_train = LocalizationConfusion(iou_thresh=.5)\n",
    "lc_baseline_val = LocalizationConfusion(iou_thresh=.5)\n",
    "lc_finetune_train = LocalizationConfusion(iou_thresh=.5)\n",
    "lc_finetune_val = LocalizationConfusion(iou_thresh=.5)\n",
    "\n",
    "print(\"format: recall, precision, mean_iou\")\n",
    "print(\"TRAIN\")\n",
    "for i, fname in enumerate(listdir(detection_train_path + \"/images\")):\n",
    "    print(\"========\")\n",
    "    print(fname)\n",
    "    lc_baseline_for_file = LocalizationConfusion(iou_thresh=.5)\n",
    "    lc_finetune_for_file = LocalizationConfusion(iou_thresh=.5)\n",
    "\n",
    "    target = targets[i]\n",
    "    baseline_pred = train_baseline_preds[i]\n",
    "    finetune_pred = train_finetune_preds[i]\n",
    "\n",
    "    lc_baseline_for_file.update(target['words'], baseline_pred[:, :4])\n",
    "    lc_finetune_for_file.update(target['words'], finetune_pred[:, :4])\n",
    "    print(\"baseline:\", lc_baseline_for_file.summary())\n",
    "    print(\"finetune:\", lc_finetune_for_file.summary())\n",
    "    lc_baseline_train.update(target['words'], baseline_pred[:, :4])\n",
    "    lc_finetune_train.update(target['words'], finetune_pred[:, :4])\n",
    "\n",
    "print(\"\\nVAL\")\n",
    "for i, fname in enumerate(val_fnames):\n",
    "    print(\"========\")\n",
    "    print(fname)\n",
    "    lc_baseline_for_file = LocalizationConfusion(iou_thresh=.5)\n",
    "    lc_finetune_for_file = LocalizationConfusion(iou_thresh=.5)\n",
    "\n",
    "    target = val_targets[i]\n",
    "    baseline_pred = val_baseline_preds[i]\n",
    "    finetune_pred = val_finetune_preds[i]\n",
    "    \n",
    "    lc_baseline_for_file.update(target['words'], baseline_pred[:, :4])\n",
    "    lc_finetune_for_file.update(target['words'], finetune_pred[:, :4])\n",
    "    print(\"baseline:\", lc_baseline_for_file.summary())\n",
    "    print(\"finetune:\", lc_finetune_for_file.summary())\n",
    "    lc_baseline_val.update(target['words'], baseline_pred[:, :4])\n",
    "    lc_finetune_val.update(target['words'], finetune_pred[:, :4])\n",
    "\n",
    "\n",
    "print(\"\\noverall baseline (train):\", lc_baseline_train.summary())\n",
    "print(\"overall finetune (train):\", lc_finetune_train.summary())\n",
    "print(\"overall baseline (val):\", lc_baseline_val.summary())\n",
    "print(\"overall finetune (val):\", lc_finetune_val.summary())"
   ]
  },
  {
   "cell_type": "code",
   "execution_count": null,
   "id": "dd0cd15e",
   "metadata": {},
   "outputs": [],
   "source": [
    "# TODO this is broken\n",
    "doctr_image = DocumentFile.from_images(detection_train_path + \"/images/\" + train_fnames[4])\n",
    "\n",
    "baseline_ocr_predictor(doctr_image).show()\n",
    "finetuned_ocr_predictor(doctr_image).show()\n",
    "\n",
    "# TODO - add comparison of the baseline vs finetuned recongition models"
   ]
  }
 ],
 "metadata": {
  "kernelspec": {
   "display_name": ".venv",
   "language": "python",
   "name": "python3"
  },
  "language_info": {
   "codemirror_mode": {
    "name": "ipython",
    "version": 3
   },
   "file_extension": ".py",
   "mimetype": "text/x-python",
   "name": "python",
   "nbconvert_exporter": "python",
   "pygments_lexer": "ipython3",
   "version": "3.11.4"
  }
 },
 "nbformat": 4,
 "nbformat_minor": 5
}
