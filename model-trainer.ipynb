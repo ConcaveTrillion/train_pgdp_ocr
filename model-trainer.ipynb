{
 "cells": [
  {
   "cell_type": "code",
   "execution_count": null,
   "id": "471ca365",
   "metadata": {},
   "outputs": [],
   "source": [
    "import pathlib\n",
    "\n",
    "# import os\n",
    "import subprocess\n",
    "\n",
    "from doctr.datasets.vocabs import VOCABS\n",
    "\n",
    "# add two-em dash, em dash, curly quotes, prime symbols, upside down exclamation and question, fraction slash\n",
    "vocab = VOCABS[\"multilingual\"] + \"⸺¡¿—‘’“”′″⁄\" + VOCABS[\"currency\"]\n",
    "\n",
    "\n",
    "def finetune_detection(train_path, val_path, model_output_path, n_epochs=100):\n",
    "    DOCTR_BASE = \"../doctr\"\n",
    "    SCRIPT_PATH = \"references/detection/train_pytorch.py\"\n",
    "    ARGS = [\n",
    "        \"--train_path\",\n",
    "        train_path,\n",
    "        \"--val_path\",\n",
    "        val_path,\n",
    "        \"db_resnet50\",\n",
    "        \"--pretrained\",\n",
    "        \"--lr\",\n",
    "        \".002\",\n",
    "        \"--epochs\",\n",
    "        str(n_epochs),\n",
    "        \"--batch_size\",\n",
    "        str(2),\n",
    "        \"--device\",\n",
    "        \"0\",\n",
    "        \"--name\",\n",
    "        model_output_path,\n",
    "    ]\n",
    "\n",
    "    command = [\"python\", pathlib.Path(DOCTR_BASE, SCRIPT_PATH).resolve(), *ARGS]\n",
    "\n",
    "    subprocess.call(command)\n",
    "\n",
    "\n",
    "def finetune_recognition(train_path, val_path, name, n_epochs=100):\n",
    "    DOCTR_BASE = \"../doctr\"\n",
    "    SCRIPT_PATH = \"references/recognition/train_pytorch.py\"\n",
    "    ARGS = [\n",
    "        \"--train_path\",\n",
    "        train_path,\n",
    "        \"--val_path\",\n",
    "        val_path,\n",
    "        \"crnn_vgg16_bn\",\n",
    "        \"--pretrained\",\n",
    "        \"--lr\",\n",
    "        \".001\",\n",
    "        \"--epochs\",\n",
    "        str(n_epochs),\n",
    "        \"--name\",\n",
    "        name,\n",
    "        \"--device\",\n",
    "        \"0\",\n",
    "        \"--vocab\",\n",
    "        \"CUSTOM:\" + vocab,\n",
    "    ]  # this does not include em dashes, upside down question marks, etc. TODO - define a vocab to use in training that includes these\n",
    "\n",
    "    command = [\"python\", pathlib.Path(DOCTR_BASE, SCRIPT_PATH).resolve(), *ARGS]\n",
    "\n",
    "    subprocess.call(command)"
   ]
  },
  {
   "cell_type": "code",
   "execution_count": 4,
   "id": "1bbf292f",
   "metadata": {},
   "outputs": [],
   "source": [
    "doctr_base = \"doctr_package\"\n",
    "\n",
    "detection_train_path = \"ml-training/detection\"\n",
    "detection_val_path = \"ml-validation/detection\"\n",
    "recognition_train_path = \"ml-training/recognition\"\n",
    "recognition_val_path = \"ml-validation/recognition\""
   ]
  },
  {
   "cell_type": "code",
   "execution_count": 5,
   "id": "2338230a",
   "metadata": {},
   "outputs": [
    {
     "name": "stdout",
     "output_type": "stream",
     "text": [
      "Namespace(backend='nccl', device=0, arch='db_resnet50', output_dir='.', train_path='ml-training/detection', val_path='ml-validation/detection', name='ml-models/detection-model-finetuned', epochs=100, batch_size=2, save_interval_epoch=False, input_size=1024, lr=0.002, weight_decay=0, workers=None, resume=None, test_only=False, freeze_backbone=False, show_samples=False, wb=False, clearml=False, push_to_hub=False, pretrained=True, rotation=False, eval_straight=False, optim='adam', sched='poly', amp=False, find_lr=False, early_stop=False, early_stop_epochs=5, early_stop_delta=0.01)\n",
      "Validation set loaded in 0.005162s (5 samples in 3 batches)\n",
      "Train set loaded in 0.04461s (71 samples in 35 batches)\n"
     ]
    },
    {
     "name": "stderr",
     "output_type": "stream",
     "text": [
      "Training loss: 0.232103 | LR: 0.00198: 100%|██████████| 35/35 [00:24<00:00,  1.42it/s]   \n",
      "  0%|          | 0/3 [00:00<?, ?it/s]"
     ]
    },
    {
     "name": "stdout",
     "output_type": "stream",
     "text": [
      "Epoch 1/100 - Training loss: 0.338693 | LR: 0.00198\n"
     ]
    },
    {
     "name": "stderr",
     "output_type": "stream",
     "text": [
      "Validation loss: 0.202526: 100%|██████████| 3/3 [00:02<00:00,  1.15it/s]\n"
     ]
    },
    {
     "name": "stdout",
     "output_type": "stream",
     "text": [
      "Validation loss decreased inf --> 0.194983: saving state...\n",
      "Epoch 1/100 - Validation loss: 0.194983 (Recall: 89.86% | Precision: 90.29% | Mean IoU: 66.00%)\n"
     ]
    },
    {
     "name": "stderr",
     "output_type": "stream",
     "text": [
      "Training loss: 0.144598 | LR: 0.00196: 100%|██████████| 35/35 [00:20<00:00,  1.68it/s]   \n",
      "  0%|          | 0/3 [00:00<?, ?it/s]"
     ]
    },
    {
     "name": "stdout",
     "output_type": "stream",
     "text": [
      "Epoch 2/100 - Training loss: 0.183532 | LR: 0.00196\n"
     ]
    },
    {
     "name": "stderr",
     "output_type": "stream",
     "text": [
      "Validation loss: 0.14087: 100%|██████████| 3/3 [00:01<00:00,  1.64it/s] \n"
     ]
    },
    {
     "name": "stdout",
     "output_type": "stream",
     "text": [
      "Validation loss decreased 0.194983 --> 0.138892: saving state...\n",
      "Epoch 2/100 - Validation loss: 0.138892 (Recall: 93.24% | Precision: 93.52% | Mean IoU: 68.00%)\n"
     ]
    },
    {
     "name": "stderr",
     "output_type": "stream",
     "text": [
      "Training loss: 0.145608 | LR: 0.00194: 100%|██████████| 35/35 [00:18<00:00,  1.86it/s]   \n",
      "  0%|          | 0/3 [00:00<?, ?it/s]"
     ]
    },
    {
     "name": "stdout",
     "output_type": "stream",
     "text": [
      "Epoch 3/100 - Training loss: 0.143499 | LR: 0.00194\n"
     ]
    },
    {
     "name": "stderr",
     "output_type": "stream",
     "text": [
      "Validation loss: 0.127198: 100%|██████████| 3/3 [00:02<00:00,  1.48it/s]\n"
     ]
    },
    {
     "name": "stdout",
     "output_type": "stream",
     "text": [
      "Validation loss decreased 0.138892 --> 0.126239: saving state...\n",
      "Epoch 3/100 - Validation loss: 0.126239 (Recall: 95.41% | Precision: 95.64% | Mean IoU: 69.00%)\n"
     ]
    },
    {
     "name": "stderr",
     "output_type": "stream",
     "text": [
      "Training loss: 0.142273 | LR: 0.00192: 100%|██████████| 35/35 [00:22<00:00,  1.58it/s]   \n",
      "  0%|          | 0/3 [00:00<?, ?it/s]"
     ]
    },
    {
     "name": "stdout",
     "output_type": "stream",
     "text": [
      "Epoch 4/100 - Training loss: 0.138798 | LR: 0.00192\n"
     ]
    },
    {
     "name": "stderr",
     "output_type": "stream",
     "text": [
      "Validation loss: 0.127533: 100%|██████████| 3/3 [00:01<00:00,  1.64it/s]\n"
     ]
    },
    {
     "name": "stdout",
     "output_type": "stream",
     "text": [
      "Validation loss decreased 0.126239 --> 0.123336: saving state...\n",
      "Epoch 4/100 - Validation loss: 0.123336 (Recall: 95.41% | Precision: 95.58% | Mean IoU: 69.00%)\n"
     ]
    },
    {
     "name": "stderr",
     "output_type": "stream",
     "text": [
      "Training loss: 0.112259 | LR: 0.0019: 100%|██████████| 35/35 [00:22<00:00,  1.56it/s]    \n",
      "  0%|          | 0/3 [00:00<?, ?it/s]"
     ]
    },
    {
     "name": "stdout",
     "output_type": "stream",
     "text": [
      "Epoch 5/100 - Training loss: 0.146152 | LR: 0.0019\n"
     ]
    },
    {
     "name": "stderr",
     "output_type": "stream",
     "text": [
      "Validation loss: 0.115268: 100%|██████████| 3/3 [00:01<00:00,  1.64it/s]\n"
     ]
    },
    {
     "name": "stdout",
     "output_type": "stream",
     "text": [
      "Validation loss decreased 0.123336 --> 0.115928: saving state...\n",
      "Epoch 5/100 - Validation loss: 0.115928 (Recall: 96.07% | Precision: 96.25% | Mean IoU: 71.00%)\n"
     ]
    },
    {
     "name": "stderr",
     "output_type": "stream",
     "text": [
      "Training loss: 0.226108 | LR: 0.00188: 100%|██████████| 35/35 [00:20<00:00,  1.74it/s]    \n",
      "  0%|          | 0/3 [00:00<?, ?it/s]"
     ]
    },
    {
     "name": "stdout",
     "output_type": "stream",
     "text": [
      "Epoch 6/100 - Training loss: 0.130503 | LR: 0.00188\n"
     ]
    },
    {
     "name": "stderr",
     "output_type": "stream",
     "text": [
      "Validation loss: 0.113143: 100%|██████████| 3/3 [00:03<00:00,  1.25s/it]\n"
     ]
    },
    {
     "name": "stdout",
     "output_type": "stream",
     "text": [
      "Validation loss decreased 0.115928 --> 0.112467: saving state...\n",
      "Epoch 6/100 - Validation loss: 0.112467 (Recall: 97.95% | Precision: 98.12% | Mean IoU: 72.00%)\n"
     ]
    },
    {
     "name": "stderr",
     "output_type": "stream",
     "text": [
      "Training loss: 0.122249 | LR: 0.00186: 100%|██████████| 35/35 [00:22<00:00,  1.58it/s]   \n",
      "  0%|          | 0/3 [00:00<?, ?it/s]"
     ]
    },
    {
     "name": "stdout",
     "output_type": "stream",
     "text": [
      "Epoch 7/100 - Training loss: 0.120191 | LR: 0.00186\n"
     ]
    },
    {
     "name": "stderr",
     "output_type": "stream",
     "text": [
      "Validation loss: 0.114605: 100%|██████████| 3/3 [00:02<00:00,  1.50it/s]\n"
     ]
    },
    {
     "name": "stdout",
     "output_type": "stream",
     "text": [
      "Validation loss decreased 0.112467 --> 0.112188: saving state...\n",
      "Epoch 7/100 - Validation loss: 0.112188 (Recall: 97.22% | Precision: 97.40% | Mean IoU: 71.00%)\n"
     ]
    },
    {
     "name": "stderr",
     "output_type": "stream",
     "text": [
      "Training loss: 0.119754 | LR: 0.00184: 100%|██████████| 35/35 [00:21<00:00,  1.62it/s]    \n",
      "  0%|          | 0/3 [00:00<?, ?it/s]"
     ]
    },
    {
     "name": "stdout",
     "output_type": "stream",
     "text": [
      "Epoch 8/100 - Training loss: 0.131953 | LR: 0.00184\n"
     ]
    },
    {
     "name": "stderr",
     "output_type": "stream",
     "text": [
      "Validation loss: 0.112515: 100%|██████████| 3/3 [00:01<00:00,  1.61it/s]\n"
     ]
    },
    {
     "name": "stdout",
     "output_type": "stream",
     "text": [
      "Validation loss decreased 0.112188 --> 0.111492: saving state...\n",
      "Epoch 8/100 - Validation loss: 0.111492 (Recall: 97.77% | Precision: 97.94% | Mean IoU: 73.00%)\n"
     ]
    },
    {
     "name": "stderr",
     "output_type": "stream",
     "text": [
      "Training loss: 0.215009 | LR: 0.00182: 100%|██████████| 35/35 [00:23<00:00,  1.49it/s]    \n",
      "  0%|          | 0/3 [00:00<?, ?it/s]"
     ]
    },
    {
     "name": "stdout",
     "output_type": "stream",
     "text": [
      "Epoch 9/100 - Training loss: 0.128601 | LR: 0.00182\n"
     ]
    },
    {
     "name": "stderr",
     "output_type": "stream",
     "text": [
      "Validation loss: 0.106068: 100%|██████████| 3/3 [00:01<00:00,  1.53it/s]\n"
     ]
    },
    {
     "name": "stdout",
     "output_type": "stream",
     "text": [
      "Validation loss decreased 0.111492 --> 0.106539: saving state...\n",
      "Epoch 9/100 - Validation loss: 0.106539 (Recall: 97.16% | Precision: 97.34% | Mean IoU: 72.00%)\n"
     ]
    },
    {
     "name": "stderr",
     "output_type": "stream",
     "text": [
      "Training loss: 0.114607 | LR: 0.0018: 100%|██████████| 35/35 [00:22<00:00,  1.59it/s]     \n",
      "  0%|          | 0/3 [00:00<?, ?it/s]"
     ]
    },
    {
     "name": "stdout",
     "output_type": "stream",
     "text": [
      "Epoch 10/100 - Training loss: 0.110704 | LR: 0.0018\n"
     ]
    },
    {
     "name": "stderr",
     "output_type": "stream",
     "text": [
      "Validation loss: 0.105062: 100%|██████████| 3/3 [00:01<00:00,  1.61it/s]\n"
     ]
    },
    {
     "name": "stdout",
     "output_type": "stream",
     "text": [
      "Validation loss decreased 0.106539 --> 0.104374: saving state...\n",
      "Epoch 10/100 - Validation loss: 0.104374 (Recall: 98.31% | Precision: 98.49% | Mean IoU: 73.00%)\n"
     ]
    },
    {
     "name": "stderr",
     "output_type": "stream",
     "text": [
      "Training loss: 0.112446 | LR: 0.00178: 100%|██████████| 35/35 [00:22<00:00,  1.53it/s]    \n",
      "  0%|          | 0/3 [00:00<?, ?it/s]"
     ]
    },
    {
     "name": "stdout",
     "output_type": "stream",
     "text": [
      "Epoch 11/100 - Training loss: 0.112177 | LR: 0.00178\n"
     ]
    },
    {
     "name": "stderr",
     "output_type": "stream",
     "text": [
      "Validation loss: 0.105976: 100%|██████████| 3/3 [00:02<00:00,  1.48it/s]\n"
     ]
    },
    {
     "name": "stdout",
     "output_type": "stream",
     "text": [
      "Validation loss decreased 0.104374 --> 0.103908: saving state...\n",
      "Epoch 11/100 - Validation loss: 0.103908 (Recall: 98.13% | Precision: 98.31% | Mean IoU: 73.00%)\n"
     ]
    },
    {
     "name": "stderr",
     "output_type": "stream",
     "text": [
      "Training loss: 0.0987106 | LR: 0.00176: 100%|██████████| 35/35 [00:23<00:00,  1.48it/s]   \n",
      "  0%|          | 0/3 [00:00<?, ?it/s]"
     ]
    },
    {
     "name": "stdout",
     "output_type": "stream",
     "text": [
      "Epoch 12/100 - Training loss: 0.118529 | LR: 0.00176\n"
     ]
    },
    {
     "name": "stderr",
     "output_type": "stream",
     "text": [
      "Validation loss: 0.102975: 100%|██████████| 3/3 [00:01<00:00,  1.54it/s]\n"
     ]
    },
    {
     "name": "stdout",
     "output_type": "stream",
     "text": [
      "Validation loss decreased 0.103908 --> 0.102638: saving state...\n",
      "Epoch 12/100 - Validation loss: 0.102638 (Recall: 98.19% | Precision: 98.37% | Mean IoU: 74.00%)\n"
     ]
    },
    {
     "name": "stderr",
     "output_type": "stream",
     "text": [
      "Training loss: 0.105769 | LR: 0.00174: 100%|██████████| 35/35 [00:23<00:00,  1.51it/s]    \n",
      "  0%|          | 0/3 [00:00<?, ?it/s]"
     ]
    },
    {
     "name": "stdout",
     "output_type": "stream",
     "text": [
      "Epoch 13/100 - Training loss: 0.117918 | LR: 0.00174\n"
     ]
    },
    {
     "name": "stderr",
     "output_type": "stream",
     "text": [
      "Validation loss: 0.102647: 100%|██████████| 3/3 [00:02<00:00,  1.50it/s]\n"
     ]
    },
    {
     "name": "stdout",
     "output_type": "stream",
     "text": [
      "Validation loss decreased 0.102638 --> 0.102291: saving state...\n",
      "Epoch 13/100 - Validation loss: 0.102291 (Recall: 98.19% | Precision: 98.37% | Mean IoU: 73.00%)\n"
     ]
    },
    {
     "name": "stderr",
     "output_type": "stream",
     "text": [
      "Training loss: 0.0997168 | LR: 0.00172: 100%|██████████| 35/35 [00:21<00:00,  1.63it/s]   \n",
      "  0%|          | 0/3 [00:00<?, ?it/s]"
     ]
    },
    {
     "name": "stdout",
     "output_type": "stream",
     "text": [
      "Epoch 14/100 - Training loss: 0.107011 | LR: 0.00172\n"
     ]
    },
    {
     "name": "stderr",
     "output_type": "stream",
     "text": [
      "Validation loss: 0.100101: 100%|██████████| 3/3 [00:02<00:00,  1.47it/s] \n"
     ]
    },
    {
     "name": "stdout",
     "output_type": "stream",
     "text": [
      "Validation loss decreased 0.102291 --> 0.100333: saving state...\n",
      "Epoch 14/100 - Validation loss: 0.100333 (Recall: 97.83% | Precision: 98.00% | Mean IoU: 73.00%)\n"
     ]
    },
    {
     "name": "stderr",
     "output_type": "stream",
     "text": [
      "Training loss: 0.115645 | LR: 0.0017: 100%|██████████| 35/35 [00:23<00:00,  1.50it/s]     \n",
      "  0%|          | 0/3 [00:00<?, ?it/s]"
     ]
    },
    {
     "name": "stdout",
     "output_type": "stream",
     "text": [
      "Epoch 15/100 - Training loss: 0.109222 | LR: 0.0017\n"
     ]
    },
    {
     "name": "stderr",
     "output_type": "stream",
     "text": [
      "Validation loss: 0.10073: 100%|██████████| 3/3 [00:01<00:00,  1.52it/s]  \n"
     ]
    },
    {
     "name": "stdout",
     "output_type": "stream",
     "text": [
      "Validation loss decreased 0.100333 --> 0.1002: saving state...\n",
      "Epoch 15/100 - Validation loss: 0.1002 (Recall: 98.13% | Precision: 98.31% | Mean IoU: 74.00%)\n"
     ]
    },
    {
     "name": "stderr",
     "output_type": "stream",
     "text": [
      "Training loss: 0.0875561 | LR: 0.00168: 100%|██████████| 35/35 [00:22<00:00,  1.52it/s]   \n",
      "  0%|          | 0/3 [00:00<?, ?it/s]"
     ]
    },
    {
     "name": "stdout",
     "output_type": "stream",
     "text": [
      "Epoch 16/100 - Training loss: 0.107178 | LR: 0.00168\n"
     ]
    },
    {
     "name": "stderr",
     "output_type": "stream",
     "text": [
      "Validation loss: 0.0995375: 100%|██████████| 3/3 [00:02<00:00,  1.46it/s]\n"
     ]
    },
    {
     "name": "stdout",
     "output_type": "stream",
     "text": [
      "Validation loss decreased 0.1002 --> 0.0993533: saving state...\n",
      "Epoch 16/100 - Validation loss: 0.0993533 (Recall: 98.19% | Precision: 98.37% | Mean IoU: 73.00%)\n"
     ]
    },
    {
     "name": "stderr",
     "output_type": "stream",
     "text": [
      "Training loss: 0.0893386 | LR: 0.00166: 100%|██████████| 35/35 [00:22<00:00,  1.54it/s]   \n",
      "  0%|          | 0/3 [00:00<?, ?it/s]"
     ]
    },
    {
     "name": "stdout",
     "output_type": "stream",
     "text": [
      "Epoch 17/100 - Training loss: 0.115465 | LR: 0.00166\n"
     ]
    },
    {
     "name": "stderr",
     "output_type": "stream",
     "text": [
      "Validation loss: 0.100137: 100%|██████████| 3/3 [00:02<00:00,  1.44it/s] \n"
     ]
    },
    {
     "name": "stdout",
     "output_type": "stream",
     "text": [
      "Validation loss decreased 0.0993533 --> 0.0984531: saving state...\n",
      "Epoch 17/100 - Validation loss: 0.0984531 (Recall: 98.49% | Precision: 98.61% | Mean IoU: 73.00%)\n"
     ]
    },
    {
     "name": "stderr",
     "output_type": "stream",
     "text": [
      "Training loss: 0.101463 | LR: 0.00164: 100%|██████████| 35/35 [00:21<00:00,  1.64it/s]    \n",
      "  0%|          | 0/3 [00:00<?, ?it/s]"
     ]
    },
    {
     "name": "stdout",
     "output_type": "stream",
     "text": [
      "Epoch 18/100 - Training loss: 0.103476 | LR: 0.00164\n"
     ]
    },
    {
     "name": "stderr",
     "output_type": "stream",
     "text": [
      "Validation loss: 0.101396: 100%|██████████| 3/3 [00:02<00:00,  1.42it/s] \n",
      "  0%|          | 0/35 [00:00<?, ?it/s]"
     ]
    },
    {
     "name": "stdout",
     "output_type": "stream",
     "text": [
      "Epoch 18/100 - Validation loss: 0.0987964 (Recall: 98.01% | Precision: 98.19% | Mean IoU: 73.00%)\n"
     ]
    },
    {
     "name": "stderr",
     "output_type": "stream",
     "text": [
      "Training loss: 0.0944409 | LR: 0.00162: 100%|██████████| 35/35 [00:23<00:00,  1.48it/s]   \n",
      "  0%|          | 0/3 [00:00<?, ?it/s]"
     ]
    },
    {
     "name": "stdout",
     "output_type": "stream",
     "text": [
      "Epoch 19/100 - Training loss: 0.104135 | LR: 0.00162\n"
     ]
    },
    {
     "name": "stderr",
     "output_type": "stream",
     "text": [
      "Validation loss: 0.10388: 100%|██████████| 3/3 [00:02<00:00,  1.46it/s]  \n",
      "  0%|          | 0/35 [00:00<?, ?it/s]"
     ]
    },
    {
     "name": "stdout",
     "output_type": "stream",
     "text": [
      "Epoch 19/100 - Validation loss: 0.0999291 (Recall: 98.31% | Precision: 98.43% | Mean IoU: 73.00%)\n"
     ]
    },
    {
     "name": "stderr",
     "output_type": "stream",
     "text": [
      "Training loss: 0.12541 | LR: 0.0016: 100%|██████████| 35/35 [00:23<00:00,  1.50it/s]      \n",
      "  0%|          | 0/3 [00:00<?, ?it/s]"
     ]
    },
    {
     "name": "stdout",
     "output_type": "stream",
     "text": [
      "Epoch 20/100 - Training loss: 0.101493 | LR: 0.0016\n"
     ]
    },
    {
     "name": "stderr",
     "output_type": "stream",
     "text": [
      "Validation loss: 0.104587: 100%|██████████| 3/3 [00:01<00:00,  1.59it/s] \n",
      "  0%|          | 0/35 [00:00<?, ?it/s]"
     ]
    },
    {
     "name": "stdout",
     "output_type": "stream",
     "text": [
      "Epoch 20/100 - Validation loss: 0.100522 (Recall: 98.55% | Precision: 98.67% | Mean IoU: 74.00%)\n"
     ]
    },
    {
     "name": "stderr",
     "output_type": "stream",
     "text": [
      "Training loss: 0.154598 | LR: 0.00158: 100%|██████████| 35/35 [00:23<00:00,  1.48it/s]    \n",
      "  0%|          | 0/3 [00:00<?, ?it/s]"
     ]
    },
    {
     "name": "stdout",
     "output_type": "stream",
     "text": [
      "Epoch 21/100 - Training loss: 0.109522 | LR: 0.00158\n"
     ]
    },
    {
     "name": "stderr",
     "output_type": "stream",
     "text": [
      "Validation loss: 0.102007: 100%|██████████| 3/3 [00:02<00:00,  1.43it/s] \n",
      "  0%|          | 0/35 [00:00<?, ?it/s]"
     ]
    },
    {
     "name": "stdout",
     "output_type": "stream",
     "text": [
      "Epoch 21/100 - Validation loss: 0.0986063 (Recall: 98.19% | Precision: 98.31% | Mean IoU: 73.00%)\n"
     ]
    },
    {
     "name": "stderr",
     "output_type": "stream",
     "text": [
      "Training loss: 0.0849123 | LR: 0.00156: 100%|██████████| 35/35 [00:20<00:00,  1.68it/s]   \n",
      "  0%|          | 0/3 [00:00<?, ?it/s]"
     ]
    },
    {
     "name": "stdout",
     "output_type": "stream",
     "text": [
      "Epoch 22/100 - Training loss: 0.118301 | LR: 0.00156\n"
     ]
    },
    {
     "name": "stderr",
     "output_type": "stream",
     "text": [
      "Validation loss: 0.0991333: 100%|██████████| 3/3 [00:02<00:00,  1.34it/s]\n",
      "  0%|          | 0/35 [00:00<?, ?it/s]"
     ]
    },
    {
     "name": "stdout",
     "output_type": "stream",
     "text": [
      "Epoch 22/100 - Validation loss: 0.0987378 (Recall: 98.61% | Precision: 98.73% | Mean IoU: 75.00%)\n"
     ]
    },
    {
     "name": "stderr",
     "output_type": "stream",
     "text": [
      "Training loss: 0.0922202 | LR: 0.00154: 100%|██████████| 35/35 [00:23<00:00,  1.47it/s]   \n",
      "  0%|          | 0/3 [00:00<?, ?it/s]"
     ]
    },
    {
     "name": "stdout",
     "output_type": "stream",
     "text": [
      "Epoch 23/100 - Training loss: 0.0961866 | LR: 0.00154\n"
     ]
    },
    {
     "name": "stderr",
     "output_type": "stream",
     "text": [
      "Validation loss: 0.096255: 100%|██████████| 3/3 [00:01<00:00,  1.56it/s] \n"
     ]
    },
    {
     "name": "stdout",
     "output_type": "stream",
     "text": [
      "Validation loss decreased 0.0984531 --> 0.096336: saving state...\n",
      "Epoch 23/100 - Validation loss: 0.096336 (Recall: 98.61% | Precision: 98.73% | Mean IoU: 74.00%)\n"
     ]
    },
    {
     "name": "stderr",
     "output_type": "stream",
     "text": [
      "Training loss: 0.088132 | LR: 0.00152: 100%|██████████| 35/35 [00:23<00:00,  1.48it/s]    \n",
      "  0%|          | 0/3 [00:00<?, ?it/s]"
     ]
    },
    {
     "name": "stdout",
     "output_type": "stream",
     "text": [
      "Epoch 24/100 - Training loss: 0.100611 | LR: 0.00152\n"
     ]
    },
    {
     "name": "stderr",
     "output_type": "stream",
     "text": [
      "Validation loss: 0.0978083: 100%|██████████| 3/3 [00:01<00:00,  1.53it/s]\n"
     ]
    },
    {
     "name": "stdout",
     "output_type": "stream",
     "text": [
      "Validation loss decreased 0.096336 --> 0.0953665: saving state...\n",
      "Epoch 24/100 - Validation loss: 0.0953665 (Recall: 99.28% | Precision: 99.40% | Mean IoU: 75.00%)\n"
     ]
    },
    {
     "name": "stderr",
     "output_type": "stream",
     "text": [
      "Training loss: 0.0973806 | LR: 0.0015: 100%|██████████| 35/35 [00:21<00:00,  1.61it/s]    \n",
      "  0%|          | 0/3 [00:00<?, ?it/s]"
     ]
    },
    {
     "name": "stdout",
     "output_type": "stream",
     "text": [
      "Epoch 25/100 - Training loss: 0.10314 | LR: 0.0015\n"
     ]
    },
    {
     "name": "stderr",
     "output_type": "stream",
     "text": [
      "Validation loss: 0.111171: 100%|██████████| 3/3 [00:03<00:00,  1.26s/it]\n",
      "  0%|          | 0/35 [00:00<?, ?it/s]"
     ]
    },
    {
     "name": "stdout",
     "output_type": "stream",
     "text": [
      "Epoch 25/100 - Validation loss: 0.106181 (Recall: 98.19% | Precision: 98.31% | Mean IoU: 74.00%)\n"
     ]
    },
    {
     "name": "stderr",
     "output_type": "stream",
     "text": [
      "Training loss: 0.0961631 | LR: 0.00148: 100%|██████████| 35/35 [00:22<00:00,  1.59it/s]   \n",
      "  0%|          | 0/3 [00:00<?, ?it/s]"
     ]
    },
    {
     "name": "stdout",
     "output_type": "stream",
     "text": [
      "Epoch 26/100 - Training loss: 0.107438 | LR: 0.00148\n"
     ]
    },
    {
     "name": "stderr",
     "output_type": "stream",
     "text": [
      "Validation loss: 0.1008: 100%|██████████| 3/3 [00:01<00:00,  1.53it/s]  \n",
      "  0%|          | 0/35 [00:00<?, ?it/s]"
     ]
    },
    {
     "name": "stdout",
     "output_type": "stream",
     "text": [
      "Epoch 26/100 - Validation loss: 0.102451 (Recall: 98.31% | Precision: 98.43% | Mean IoU: 74.00%)\n"
     ]
    },
    {
     "name": "stderr",
     "output_type": "stream",
     "text": [
      "Training loss: 0.100605 | LR: 0.00146: 100%|██████████| 35/35 [00:23<00:00,  1.50it/s]    \n",
      "  0%|          | 0/3 [00:00<?, ?it/s]"
     ]
    },
    {
     "name": "stdout",
     "output_type": "stream",
     "text": [
      "Epoch 27/100 - Training loss: 0.102414 | LR: 0.00146\n"
     ]
    },
    {
     "name": "stderr",
     "output_type": "stream",
     "text": [
      "Validation loss: 0.105264: 100%|██████████| 3/3 [00:01<00:00,  1.52it/s] \n",
      "  0%|          | 0/35 [00:00<?, ?it/s]"
     ]
    },
    {
     "name": "stdout",
     "output_type": "stream",
     "text": [
      "Epoch 27/100 - Validation loss: 0.0995723 (Recall: 98.25% | Precision: 98.37% | Mean IoU: 74.00%)\n"
     ]
    },
    {
     "name": "stderr",
     "output_type": "stream",
     "text": [
      "Training loss: 0.0922089 | LR: 0.00144: 100%|██████████| 35/35 [00:23<00:00,  1.46it/s]   \n",
      "  0%|          | 0/3 [00:00<?, ?it/s]"
     ]
    },
    {
     "name": "stdout",
     "output_type": "stream",
     "text": [
      "Epoch 28/100 - Training loss: 0.101375 | LR: 0.00144\n"
     ]
    },
    {
     "name": "stderr",
     "output_type": "stream",
     "text": [
      "Validation loss: 0.0958756: 100%|██████████| 3/3 [00:02<00:00,  1.41it/s]\n"
     ]
    },
    {
     "name": "stdout",
     "output_type": "stream",
     "text": [
      "Validation loss decreased 0.0953665 --> 0.0952688: saving state...\n",
      "Epoch 28/100 - Validation loss: 0.0952688 (Recall: 98.73% | Precision: 98.85% | Mean IoU: 75.00%)\n"
     ]
    },
    {
     "name": "stderr",
     "output_type": "stream",
     "text": [
      "Training loss: 0.0916588 | LR: 0.00142: 100%|██████████| 35/35 [00:22<00:00,  1.54it/s]   \n",
      "  0%|          | 0/3 [00:00<?, ?it/s]"
     ]
    },
    {
     "name": "stdout",
     "output_type": "stream",
     "text": [
      "Epoch 29/100 - Training loss: 0.0909408 | LR: 0.00142\n"
     ]
    },
    {
     "name": "stderr",
     "output_type": "stream",
     "text": [
      "Validation loss: 0.0957705: 100%|██████████| 3/3 [00:03<00:00,  1.26s/it]\n",
      "  0%|          | 0/35 [00:00<?, ?it/s]"
     ]
    },
    {
     "name": "stdout",
     "output_type": "stream",
     "text": [
      "Epoch 29/100 - Validation loss: 0.0962087 (Recall: 99.03% | Precision: 99.15% | Mean IoU: 76.00%)\n"
     ]
    },
    {
     "name": "stderr",
     "output_type": "stream",
     "text": [
      "Training loss: 0.0751731 | LR: 0.0014: 100%|██████████| 35/35 [00:22<00:00,  1.59it/s]    \n",
      "  0%|          | 0/3 [00:00<?, ?it/s]"
     ]
    },
    {
     "name": "stdout",
     "output_type": "stream",
     "text": [
      "Epoch 30/100 - Training loss: 0.0918094 | LR: 0.0014\n"
     ]
    },
    {
     "name": "stderr",
     "output_type": "stream",
     "text": [
      "Validation loss: 0.0961835: 100%|██████████| 3/3 [00:02<00:00,  1.47it/s]\n"
     ]
    },
    {
     "name": "stdout",
     "output_type": "stream",
     "text": [
      "Validation loss decreased 0.0952688 --> 0.0946008: saving state...\n",
      "Epoch 30/100 - Validation loss: 0.0946008 (Recall: 98.91% | Precision: 99.03% | Mean IoU: 75.00%)\n"
     ]
    },
    {
     "name": "stderr",
     "output_type": "stream",
     "text": [
      "Training loss: 0.09371 | LR: 0.00138: 100%|██████████| 35/35 [00:24<00:00,  1.45it/s]     \n",
      "  0%|          | 0/3 [00:00<?, ?it/s]"
     ]
    },
    {
     "name": "stdout",
     "output_type": "stream",
     "text": [
      "Epoch 31/100 - Training loss: 0.0963771 | LR: 0.00138\n"
     ]
    },
    {
     "name": "stderr",
     "output_type": "stream",
     "text": [
      "Validation loss: 0.0934474: 100%|██████████| 3/3 [00:02<00:00,  1.43it/s]\n"
     ]
    },
    {
     "name": "stdout",
     "output_type": "stream",
     "text": [
      "Validation loss decreased 0.0946008 --> 0.0942263: saving state...\n",
      "Epoch 31/100 - Validation loss: 0.0942263 (Recall: 98.85% | Precision: 98.97% | Mean IoU: 76.00%)\n"
     ]
    },
    {
     "name": "stderr",
     "output_type": "stream",
     "text": [
      "Training loss: 0.0980218 | LR: 0.00136: 100%|██████████| 35/35 [00:24<00:00,  1.45it/s]   \n",
      "  0%|          | 0/3 [00:00<?, ?it/s]"
     ]
    },
    {
     "name": "stdout",
     "output_type": "stream",
     "text": [
      "Epoch 32/100 - Training loss: 0.0975618 | LR: 0.00136\n"
     ]
    },
    {
     "name": "stderr",
     "output_type": "stream",
     "text": [
      "Validation loss: 0.0957806: 100%|██████████| 3/3 [00:02<00:00,  1.47it/s]\n"
     ]
    },
    {
     "name": "stdout",
     "output_type": "stream",
     "text": [
      "Validation loss decreased 0.0942263 --> 0.0938923: saving state...\n",
      "Epoch 32/100 - Validation loss: 0.0938923 (Recall: 98.67% | Precision: 98.79% | Mean IoU: 75.00%)\n"
     ]
    },
    {
     "name": "stderr",
     "output_type": "stream",
     "text": [
      "Training loss: 0.112959 | LR: 0.00134: 100%|██████████| 35/35 [00:23<00:00,  1.48it/s]    \n",
      "  0%|          | 0/3 [00:00<?, ?it/s]"
     ]
    },
    {
     "name": "stdout",
     "output_type": "stream",
     "text": [
      "Epoch 33/100 - Training loss: 0.0931106 | LR: 0.00134\n"
     ]
    },
    {
     "name": "stderr",
     "output_type": "stream",
     "text": [
      "Validation loss: 0.0971292: 100%|██████████| 3/3 [00:02<00:00,  1.45it/s]\n",
      "  0%|          | 0/35 [00:00<?, ?it/s]"
     ]
    },
    {
     "name": "stdout",
     "output_type": "stream",
     "text": [
      "Epoch 33/100 - Validation loss: 0.0945058 (Recall: 98.43% | Precision: 98.55% | Mean IoU: 74.00%)\n"
     ]
    },
    {
     "name": "stderr",
     "output_type": "stream",
     "text": [
      "Training loss: 0.0797515 | LR: 0.00132: 100%|██████████| 35/35 [00:21<00:00,  1.64it/s]   \n",
      "  0%|          | 0/3 [00:00<?, ?it/s]"
     ]
    },
    {
     "name": "stdout",
     "output_type": "stream",
     "text": [
      "Epoch 34/100 - Training loss: 0.0942948 | LR: 0.00132\n"
     ]
    },
    {
     "name": "stderr",
     "output_type": "stream",
     "text": [
      "Validation loss: 0.0933654: 100%|██████████| 3/3 [00:02<00:00,  1.44it/s]\n"
     ]
    },
    {
     "name": "stdout",
     "output_type": "stream",
     "text": [
      "Validation loss decreased 0.0938923 --> 0.0928609: saving state...\n",
      "Epoch 34/100 - Validation loss: 0.0928609 (Recall: 99.09% | Precision: 99.21% | Mean IoU: 75.00%)\n"
     ]
    },
    {
     "name": "stderr",
     "output_type": "stream",
     "text": [
      "Training loss: 0.0677587 | LR: 0.0013: 100%|██████████| 35/35 [00:23<00:00,  1.50it/s]    \n",
      "  0%|          | 0/3 [00:00<?, ?it/s]"
     ]
    },
    {
     "name": "stdout",
     "output_type": "stream",
     "text": [
      "Epoch 35/100 - Training loss: 0.0925724 | LR: 0.0013\n"
     ]
    },
    {
     "name": "stderr",
     "output_type": "stream",
     "text": [
      "Validation loss: 0.101922: 100%|██████████| 3/3 [00:02<00:00,  1.31it/s] \n",
      "  0%|          | 0/35 [00:00<?, ?it/s]"
     ]
    },
    {
     "name": "stdout",
     "output_type": "stream",
     "text": [
      "Epoch 35/100 - Validation loss: 0.096471 (Recall: 98.97% | Precision: 99.09% | Mean IoU: 75.00%)\n"
     ]
    },
    {
     "name": "stderr",
     "output_type": "stream",
     "text": [
      "Training loss: 0.0708792 | LR: 0.00128: 100%|██████████| 35/35 [00:23<00:00,  1.48it/s]   \n",
      "  0%|          | 0/3 [00:00<?, ?it/s]"
     ]
    },
    {
     "name": "stdout",
     "output_type": "stream",
     "text": [
      "Epoch 36/100 - Training loss: 0.0917315 | LR: 0.00128\n"
     ]
    },
    {
     "name": "stderr",
     "output_type": "stream",
     "text": [
      "Validation loss: 0.095399: 100%|██████████| 3/3 [00:02<00:00,  1.43it/s] \n"
     ]
    },
    {
     "name": "stdout",
     "output_type": "stream",
     "text": [
      "Validation loss decreased 0.0928609 --> 0.0927586: saving state...\n",
      "Epoch 36/100 - Validation loss: 0.0927586 (Recall: 98.79% | Precision: 98.91% | Mean IoU: 74.00%)\n"
     ]
    },
    {
     "name": "stderr",
     "output_type": "stream",
     "text": [
      "Training loss: 0.067454 | LR: 0.00126: 100%|██████████| 35/35 [00:21<00:00,  1.64it/s]    \n",
      "  0%|          | 0/3 [00:00<?, ?it/s]"
     ]
    },
    {
     "name": "stdout",
     "output_type": "stream",
     "text": [
      "Epoch 37/100 - Training loss: 0.089545 | LR: 0.00126\n"
     ]
    },
    {
     "name": "stderr",
     "output_type": "stream",
     "text": [
      "Validation loss: 0.0972423: 100%|██████████| 3/3 [00:03<00:00,  1.32s/it]\n",
      "  0%|          | 0/35 [00:00<?, ?it/s]"
     ]
    },
    {
     "name": "stdout",
     "output_type": "stream",
     "text": [
      "Epoch 37/100 - Validation loss: 0.0949777 (Recall: 99.03% | Precision: 99.15% | Mean IoU: 76.00%)\n"
     ]
    },
    {
     "name": "stderr",
     "output_type": "stream",
     "text": [
      "Training loss: 0.0805091 | LR: 0.00124: 100%|██████████| 35/35 [00:21<00:00,  1.60it/s]   \n",
      "  0%|          | 0/3 [00:00<?, ?it/s]"
     ]
    },
    {
     "name": "stdout",
     "output_type": "stream",
     "text": [
      "Epoch 38/100 - Training loss: 0.0837957 | LR: 0.00124\n"
     ]
    },
    {
     "name": "stderr",
     "output_type": "stream",
     "text": [
      "Validation loss: 0.0987362: 100%|██████████| 3/3 [00:02<00:00,  1.42it/s]\n",
      "  0%|          | 0/35 [00:00<?, ?it/s]"
     ]
    },
    {
     "name": "stdout",
     "output_type": "stream",
     "text": [
      "Epoch 38/100 - Validation loss: 0.0946578 (Recall: 99.09% | Precision: 99.21% | Mean IoU: 76.00%)\n"
     ]
    },
    {
     "name": "stderr",
     "output_type": "stream",
     "text": [
      "Training loss: 0.0682882 | LR: 0.00122: 100%|██████████| 35/35 [00:23<00:00,  1.49it/s]   \n",
      "  0%|          | 0/3 [00:00<?, ?it/s]"
     ]
    },
    {
     "name": "stdout",
     "output_type": "stream",
     "text": [
      "Epoch 39/100 - Training loss: 0.0873748 | LR: 0.00122\n"
     ]
    },
    {
     "name": "stderr",
     "output_type": "stream",
     "text": [
      "Validation loss: 0.0976379: 100%|██████████| 3/3 [00:02<00:00,  1.41it/s]\n",
      "  0%|          | 0/35 [00:00<?, ?it/s]"
     ]
    },
    {
     "name": "stdout",
     "output_type": "stream",
     "text": [
      "Epoch 39/100 - Validation loss: 0.0935671 (Recall: 99.09% | Precision: 99.21% | Mean IoU: 75.00%)\n"
     ]
    },
    {
     "name": "stderr",
     "output_type": "stream",
     "text": [
      "Training loss: 0.0872894 | LR: 0.0012: 100%|██████████| 35/35 [00:23<00:00,  1.46it/s]    \n",
      "  0%|          | 0/3 [00:00<?, ?it/s]"
     ]
    },
    {
     "name": "stdout",
     "output_type": "stream",
     "text": [
      "Epoch 40/100 - Training loss: 0.0856801 | LR: 0.0012\n"
     ]
    },
    {
     "name": "stderr",
     "output_type": "stream",
     "text": [
      "Validation loss: 0.0930571: 100%|██████████| 3/3 [00:02<00:00,  1.39it/s]\n"
     ]
    },
    {
     "name": "stdout",
     "output_type": "stream",
     "text": [
      "Validation loss decreased 0.0927586 --> 0.0927276: saving state...\n",
      "Epoch 40/100 - Validation loss: 0.0927276 (Recall: 99.15% | Precision: 99.27% | Mean IoU: 75.00%)\n"
     ]
    },
    {
     "name": "stderr",
     "output_type": "stream",
     "text": [
      "Training loss: 0.0795512 | LR: 0.00118: 100%|██████████| 35/35 [00:21<00:00,  1.60it/s]   \n",
      "  0%|          | 0/3 [00:00<?, ?it/s]"
     ]
    },
    {
     "name": "stdout",
     "output_type": "stream",
     "text": [
      "Epoch 41/100 - Training loss: 0.091129 | LR: 0.00118\n"
     ]
    },
    {
     "name": "stderr",
     "output_type": "stream",
     "text": [
      "Validation loss: 0.0943409: 100%|██████████| 3/3 [00:04<00:00,  1.38s/it]\n"
     ]
    },
    {
     "name": "stdout",
     "output_type": "stream",
     "text": [
      "Validation loss decreased 0.0927276 --> 0.0923868: saving state...\n",
      "Epoch 41/100 - Validation loss: 0.0923868 (Recall: 99.15% | Precision: 99.27% | Mean IoU: 76.00%)\n"
     ]
    },
    {
     "name": "stderr",
     "output_type": "stream",
     "text": [
      "Training loss: 0.076791 | LR: 0.00116: 100%|██████████| 35/35 [00:21<00:00,  1.63it/s]    \n",
      "  0%|          | 0/3 [00:00<?, ?it/s]"
     ]
    },
    {
     "name": "stdout",
     "output_type": "stream",
     "text": [
      "Epoch 42/100 - Training loss: 0.0916153 | LR: 0.00116\n"
     ]
    },
    {
     "name": "stderr",
     "output_type": "stream",
     "text": [
      "Validation loss: 0.100681: 100%|██████████| 3/3 [00:02<00:00,  1.27it/s] \n",
      "  0%|          | 0/35 [00:00<?, ?it/s]"
     ]
    },
    {
     "name": "stdout",
     "output_type": "stream",
     "text": [
      "Epoch 42/100 - Validation loss: 0.0962228 (Recall: 98.91% | Precision: 99.03% | Mean IoU: 76.00%)\n"
     ]
    },
    {
     "name": "stderr",
     "output_type": "stream",
     "text": [
      "Training loss: 0.103507 | LR: 0.00114: 100%|██████████| 35/35 [00:23<00:00,  1.51it/s]    \n",
      "  0%|          | 0/3 [00:00<?, ?it/s]"
     ]
    },
    {
     "name": "stdout",
     "output_type": "stream",
     "text": [
      "Epoch 43/100 - Training loss: 0.0929073 | LR: 0.00114\n"
     ]
    },
    {
     "name": "stderr",
     "output_type": "stream",
     "text": [
      "Validation loss: 0.099893: 100%|██████████| 3/3 [00:02<00:00,  1.41it/s] \n",
      "  0%|          | 0/35 [00:00<?, ?it/s]"
     ]
    },
    {
     "name": "stdout",
     "output_type": "stream",
     "text": [
      "Epoch 43/100 - Validation loss: 0.0949438 (Recall: 98.91% | Precision: 98.97% | Mean IoU: 75.00%)\n"
     ]
    },
    {
     "name": "stderr",
     "output_type": "stream",
     "text": [
      "Training loss: 0.0787162 | LR: 0.00112: 100%|██████████| 35/35 [00:23<00:00,  1.50it/s]   \n",
      "  0%|          | 0/3 [00:00<?, ?it/s]"
     ]
    },
    {
     "name": "stdout",
     "output_type": "stream",
     "text": [
      "Epoch 44/100 - Training loss: 0.0885282 | LR: 0.00112\n"
     ]
    },
    {
     "name": "stderr",
     "output_type": "stream",
     "text": [
      "Validation loss: 0.0972627: 100%|██████████| 3/3 [00:02<00:00,  1.44it/s]\n",
      "  0%|          | 0/35 [00:00<?, ?it/s]"
     ]
    },
    {
     "name": "stdout",
     "output_type": "stream",
     "text": [
      "Epoch 44/100 - Validation loss: 0.0931152 (Recall: 99.15% | Precision: 99.27% | Mean IoU: 76.00%)\n"
     ]
    },
    {
     "name": "stderr",
     "output_type": "stream",
     "text": [
      "Training loss: 0.0760437 | LR: 0.0011: 100%|██████████| 35/35 [00:21<00:00,  1.61it/s]    \n",
      "  0%|          | 0/3 [00:00<?, ?it/s]"
     ]
    },
    {
     "name": "stdout",
     "output_type": "stream",
     "text": [
      "Epoch 45/100 - Training loss: 0.0894171 | LR: 0.0011\n"
     ]
    },
    {
     "name": "stderr",
     "output_type": "stream",
     "text": [
      "Validation loss: 0.093978: 100%|██████████| 3/3 [00:02<00:00,  1.46it/s] \n",
      "  0%|          | 0/35 [00:00<?, ?it/s]"
     ]
    },
    {
     "name": "stdout",
     "output_type": "stream",
     "text": [
      "Epoch 45/100 - Validation loss: 0.0932528 (Recall: 99.15% | Precision: 99.27% | Mean IoU: 75.00%)\n"
     ]
    },
    {
     "name": "stderr",
     "output_type": "stream",
     "text": [
      "Training loss: 0.0679668 | LR: 0.00108: 100%|██████████| 35/35 [00:23<00:00,  1.46it/s]   \n",
      "  0%|          | 0/3 [00:00<?, ?it/s]"
     ]
    },
    {
     "name": "stdout",
     "output_type": "stream",
     "text": [
      "Epoch 46/100 - Training loss: 0.0865684 | LR: 0.00108\n"
     ]
    },
    {
     "name": "stderr",
     "output_type": "stream",
     "text": [
      "Validation loss: 0.0932203: 100%|██████████| 3/3 [00:02<00:00,  1.40it/s]\n"
     ]
    },
    {
     "name": "stdout",
     "output_type": "stream",
     "text": [
      "Validation loss decreased 0.0923868 --> 0.0921671: saving state...\n",
      "Epoch 46/100 - Validation loss: 0.0921671 (Recall: 99.03% | Precision: 99.15% | Mean IoU: 76.00%)\n"
     ]
    },
    {
     "name": "stderr",
     "output_type": "stream",
     "text": [
      "Training loss: 0.0814228 | LR: 0.00106: 100%|██████████| 35/35 [00:23<00:00,  1.46it/s]   \n",
      "  0%|          | 0/3 [00:00<?, ?it/s]"
     ]
    },
    {
     "name": "stdout",
     "output_type": "stream",
     "text": [
      "Epoch 47/100 - Training loss: 0.0816903 | LR: 0.00106\n"
     ]
    },
    {
     "name": "stderr",
     "output_type": "stream",
     "text": [
      "Validation loss: 0.09194: 100%|██████████| 3/3 [00:01<00:00,  1.51it/s]  \n"
     ]
    },
    {
     "name": "stdout",
     "output_type": "stream",
     "text": [
      "Validation loss decreased 0.0921671 --> 0.0919149: saving state...\n",
      "Epoch 47/100 - Validation loss: 0.0919149 (Recall: 99.09% | Precision: 99.21% | Mean IoU: 76.00%)\n"
     ]
    },
    {
     "name": "stderr",
     "output_type": "stream",
     "text": [
      "Training loss: 0.125403 | LR: 0.00104: 100%|██████████| 35/35 [00:23<00:00,  1.49it/s]    \n",
      "  0%|          | 0/3 [00:00<?, ?it/s]"
     ]
    },
    {
     "name": "stdout",
     "output_type": "stream",
     "text": [
      "Epoch 48/100 - Training loss: 0.0886719 | LR: 0.00104\n"
     ]
    },
    {
     "name": "stderr",
     "output_type": "stream",
     "text": [
      "Validation loss: 0.0950327: 100%|██████████| 3/3 [00:02<00:00,  1.39it/s]\n",
      "  0%|          | 0/35 [00:00<?, ?it/s]"
     ]
    },
    {
     "name": "stdout",
     "output_type": "stream",
     "text": [
      "Epoch 48/100 - Validation loss: 0.0925441 (Recall: 99.03% | Precision: 99.15% | Mean IoU: 76.00%)\n"
     ]
    },
    {
     "name": "stderr",
     "output_type": "stream",
     "text": [
      "Training loss: 0.0931891 | LR: 0.00102: 100%|██████████| 35/35 [00:21<00:00,  1.62it/s]   \n",
      "  0%|          | 0/3 [00:00<?, ?it/s]"
     ]
    },
    {
     "name": "stdout",
     "output_type": "stream",
     "text": [
      "Epoch 49/100 - Training loss: 0.0859457 | LR: 0.00102\n"
     ]
    },
    {
     "name": "stderr",
     "output_type": "stream",
     "text": [
      "Validation loss: 0.0948276: 100%|██████████| 3/3 [00:02<00:00,  1.26it/s]\n",
      "  0%|          | 0/35 [00:00<?, ?it/s]"
     ]
    },
    {
     "name": "stdout",
     "output_type": "stream",
     "text": [
      "Epoch 49/100 - Validation loss: 0.0920585 (Recall: 99.15% | Precision: 99.27% | Mean IoU: 76.00%)\n"
     ]
    },
    {
     "name": "stderr",
     "output_type": "stream",
     "text": [
      "Training loss: 0.0875437 | LR: 0.001: 100%|██████████| 35/35 [00:23<00:00,  1.47it/s]     \n",
      "  0%|          | 0/3 [00:00<?, ?it/s]"
     ]
    },
    {
     "name": "stdout",
     "output_type": "stream",
     "text": [
      "Epoch 50/100 - Training loss: 0.0820075 | LR: 0.001\n"
     ]
    },
    {
     "name": "stderr",
     "output_type": "stream",
     "text": [
      "Validation loss: 0.0926343: 100%|██████████| 3/3 [00:02<00:00,  1.41it/s]\n",
      "  0%|          | 0/35 [00:00<?, ?it/s]"
     ]
    },
    {
     "name": "stdout",
     "output_type": "stream",
     "text": [
      "Epoch 50/100 - Validation loss: 0.0920084 (Recall: 99.15% | Precision: 99.27% | Mean IoU: 76.00%)\n"
     ]
    },
    {
     "name": "stderr",
     "output_type": "stream",
     "text": [
      "Training loss: 0.0679077 | LR: 0.00098: 100%|██████████| 35/35 [00:23<00:00,  1.48it/s]    \n",
      "  0%|          | 0/3 [00:00<?, ?it/s]"
     ]
    },
    {
     "name": "stdout",
     "output_type": "stream",
     "text": [
      "Epoch 51/100 - Training loss: 0.0966198 | LR: 0.00098\n"
     ]
    },
    {
     "name": "stderr",
     "output_type": "stream",
     "text": [
      "Validation loss: 0.0907309: 100%|██████████| 3/3 [00:01<00:00,  1.52it/s]\n"
     ]
    },
    {
     "name": "stdout",
     "output_type": "stream",
     "text": [
      "Validation loss decreased 0.0919149 --> 0.0916422: saving state...\n",
      "Epoch 51/100 - Validation loss: 0.0916422 (Recall: 99.21% | Precision: 99.33% | Mean IoU: 76.00%)\n"
     ]
    },
    {
     "name": "stderr",
     "output_type": "stream",
     "text": [
      "Training loss: 0.0733222 | LR: 0.00096: 100%|██████████| 35/35 [00:23<00:00,  1.47it/s]    \n",
      "  0%|          | 0/3 [00:00<?, ?it/s]"
     ]
    },
    {
     "name": "stdout",
     "output_type": "stream",
     "text": [
      "Epoch 52/100 - Training loss: 0.0836757 | LR: 0.00096\n"
     ]
    },
    {
     "name": "stderr",
     "output_type": "stream",
     "text": [
      "Validation loss: 0.0916771: 100%|██████████| 3/3 [00:02<00:00,  1.41it/s]\n"
     ]
    },
    {
     "name": "stdout",
     "output_type": "stream",
     "text": [
      "Validation loss decreased 0.0916422 --> 0.0914859: saving state...\n",
      "Epoch 52/100 - Validation loss: 0.0914859 (Recall: 99.09% | Precision: 99.21% | Mean IoU: 76.00%)\n"
     ]
    },
    {
     "name": "stderr",
     "output_type": "stream",
     "text": [
      "Training loss: 0.079887 | LR: 0.00094: 100%|██████████| 35/35 [00:21<00:00,  1.66it/s]     \n",
      "  0%|          | 0/3 [00:00<?, ?it/s]"
     ]
    },
    {
     "name": "stdout",
     "output_type": "stream",
     "text": [
      "Epoch 53/100 - Training loss: 0.0893281 | LR: 0.00094\n"
     ]
    },
    {
     "name": "stderr",
     "output_type": "stream",
     "text": [
      "Validation loss: 0.0999932: 100%|██████████| 3/3 [00:02<00:00,  1.41it/s]\n",
      "  0%|          | 0/35 [00:00<?, ?it/s]"
     ]
    },
    {
     "name": "stdout",
     "output_type": "stream",
     "text": [
      "Epoch 53/100 - Validation loss: 0.0946681 (Recall: 99.09% | Precision: 99.21% | Mean IoU: 76.00%)\n"
     ]
    },
    {
     "name": "stderr",
     "output_type": "stream",
     "text": [
      "Training loss: 0.104274 | LR: 0.00092: 100%|██████████| 35/35 [00:23<00:00,  1.48it/s]     \n",
      "  0%|          | 0/3 [00:00<?, ?it/s]"
     ]
    },
    {
     "name": "stdout",
     "output_type": "stream",
     "text": [
      "Epoch 54/100 - Training loss: 0.0865871 | LR: 0.00092\n"
     ]
    },
    {
     "name": "stderr",
     "output_type": "stream",
     "text": [
      "Validation loss: 0.0968782: 100%|██████████| 3/3 [00:01<00:00,  1.50it/s]\n",
      "  0%|          | 0/35 [00:00<?, ?it/s]"
     ]
    },
    {
     "name": "stdout",
     "output_type": "stream",
     "text": [
      "Epoch 54/100 - Validation loss: 0.0931791 (Recall: 98.85% | Precision: 98.97% | Mean IoU: 76.00%)\n"
     ]
    },
    {
     "name": "stderr",
     "output_type": "stream",
     "text": [
      "Training loss: 0.059708 | LR: 0.0009: 100%|██████████| 35/35 [00:25<00:00,  1.38it/s]      \n",
      "  0%|          | 0/3 [00:00<?, ?it/s]"
     ]
    },
    {
     "name": "stdout",
     "output_type": "stream",
     "text": [
      "Epoch 55/100 - Training loss: 0.083223 | LR: 0.0009\n"
     ]
    },
    {
     "name": "stderr",
     "output_type": "stream",
     "text": [
      "Validation loss: 0.0935881: 100%|██████████| 3/3 [00:02<00:00,  1.43it/s]\n",
      "  0%|          | 0/35 [00:00<?, ?it/s]"
     ]
    },
    {
     "name": "stdout",
     "output_type": "stream",
     "text": [
      "Epoch 55/100 - Validation loss: 0.0929169 (Recall: 99.21% | Precision: 99.27% | Mean IoU: 76.00%)\n"
     ]
    },
    {
     "name": "stderr",
     "output_type": "stream",
     "text": [
      "Training loss: 0.0737797 | LR: 0.00088: 100%|██████████| 35/35 [00:24<00:00,  1.46it/s]    \n",
      "  0%|          | 0/3 [00:00<?, ?it/s]"
     ]
    },
    {
     "name": "stdout",
     "output_type": "stream",
     "text": [
      "Epoch 56/100 - Training loss: 0.0819947 | LR: 0.00088\n"
     ]
    },
    {
     "name": "stderr",
     "output_type": "stream",
     "text": [
      "Validation loss: 0.0965454: 100%|██████████| 3/3 [00:02<00:00,  1.47it/s]\n",
      "  0%|          | 0/35 [00:00<?, ?it/s]"
     ]
    },
    {
     "name": "stdout",
     "output_type": "stream",
     "text": [
      "Epoch 56/100 - Validation loss: 0.0924046 (Recall: 99.15% | Precision: 99.21% | Mean IoU: 76.00%)\n"
     ]
    },
    {
     "name": "stderr",
     "output_type": "stream",
     "text": [
      "Training loss: 0.0768511 | LR: 0.00086: 100%|██████████| 35/35 [00:22<00:00,  1.58it/s]    \n",
      "  0%|          | 0/3 [00:00<?, ?it/s]"
     ]
    },
    {
     "name": "stdout",
     "output_type": "stream",
     "text": [
      "Epoch 57/100 - Training loss: 0.087203 | LR: 0.00086\n"
     ]
    },
    {
     "name": "stderr",
     "output_type": "stream",
     "text": [
      "Validation loss: 0.0925509: 100%|██████████| 3/3 [00:02<00:00,  1.45it/s]\n"
     ]
    },
    {
     "name": "stdout",
     "output_type": "stream",
     "text": [
      "Validation loss decreased 0.0914859 --> 0.0913268: saving state...\n",
      "Epoch 57/100 - Validation loss: 0.0913268 (Recall: 99.28% | Precision: 99.34% | Mean IoU: 77.00%)\n"
     ]
    },
    {
     "name": "stderr",
     "output_type": "stream",
     "text": [
      "Training loss: 0.0629543 | LR: 0.00084: 100%|██████████| 35/35 [00:22<00:00,  1.59it/s]    \n",
      "  0%|          | 0/3 [00:00<?, ?it/s]"
     ]
    },
    {
     "name": "stdout",
     "output_type": "stream",
     "text": [
      "Epoch 58/100 - Training loss: 0.0801154 | LR: 0.00084\n"
     ]
    },
    {
     "name": "stderr",
     "output_type": "stream",
     "text": [
      "Validation loss: 0.0957656: 100%|██████████| 3/3 [00:02<00:00,  1.49it/s]\n",
      "  0%|          | 0/35 [00:00<?, ?it/s]"
     ]
    },
    {
     "name": "stdout",
     "output_type": "stream",
     "text": [
      "Epoch 58/100 - Validation loss: 0.0926273 (Recall: 99.03% | Precision: 99.09% | Mean IoU: 76.00%)\n"
     ]
    },
    {
     "name": "stderr",
     "output_type": "stream",
     "text": [
      "Training loss: 0.063764 | LR: 0.00082: 100%|██████████| 35/35 [00:24<00:00,  1.42it/s]     \n",
      "  0%|          | 0/3 [00:00<?, ?it/s]"
     ]
    },
    {
     "name": "stdout",
     "output_type": "stream",
     "text": [
      "Epoch 59/100 - Training loss: 0.0817928 | LR: 0.00082\n"
     ]
    },
    {
     "name": "stderr",
     "output_type": "stream",
     "text": [
      "Validation loss: 0.0949469: 100%|██████████| 3/3 [00:01<00:00,  1.51it/s]\n",
      "  0%|          | 0/35 [00:00<?, ?it/s]"
     ]
    },
    {
     "name": "stdout",
     "output_type": "stream",
     "text": [
      "Epoch 59/100 - Validation loss: 0.0918299 (Recall: 99.15% | Precision: 99.21% | Mean IoU: 76.00%)\n"
     ]
    },
    {
     "name": "stderr",
     "output_type": "stream",
     "text": [
      "Training loss: 0.0868646 | LR: 0.0008: 100%|██████████| 35/35 [00:24<00:00,  1.42it/s]     \n",
      "  0%|          | 0/3 [00:00<?, ?it/s]"
     ]
    },
    {
     "name": "stdout",
     "output_type": "stream",
     "text": [
      "Epoch 60/100 - Training loss: 0.0772292 | LR: 0.0008\n"
     ]
    },
    {
     "name": "stderr",
     "output_type": "stream",
     "text": [
      "Validation loss: 0.0914559: 100%|██████████| 3/3 [00:01<00:00,  1.54it/s]\n"
     ]
    },
    {
     "name": "stdout",
     "output_type": "stream",
     "text": [
      "Validation loss decreased 0.0913268 --> 0.0909042: saving state...\n",
      "Epoch 60/100 - Validation loss: 0.0909042 (Recall: 99.15% | Precision: 99.21% | Mean IoU: 76.00%)\n"
     ]
    },
    {
     "name": "stderr",
     "output_type": "stream",
     "text": [
      "Training loss: 0.0660456 | LR: 0.00078: 100%|██████████| 35/35 [00:21<00:00,  1.60it/s]    \n",
      "  0%|          | 0/3 [00:00<?, ?it/s]"
     ]
    },
    {
     "name": "stdout",
     "output_type": "stream",
     "text": [
      "Epoch 61/100 - Training loss: 0.0764842 | LR: 0.00078\n"
     ]
    },
    {
     "name": "stderr",
     "output_type": "stream",
     "text": [
      "Validation loss: 0.0948342: 100%|██████████| 3/3 [00:04<00:00,  1.34s/it]\n",
      "  0%|          | 0/35 [00:00<?, ?it/s]"
     ]
    },
    {
     "name": "stdout",
     "output_type": "stream",
     "text": [
      "Epoch 61/100 - Validation loss: 0.0919936 (Recall: 99.15% | Precision: 99.21% | Mean IoU: 76.00%)\n"
     ]
    },
    {
     "name": "stderr",
     "output_type": "stream",
     "text": [
      "Training loss: 0.102783 | LR: 0.00076: 100%|██████████| 35/35 [00:21<00:00,  1.60it/s]     \n",
      "  0%|          | 0/3 [00:00<?, ?it/s]"
     ]
    },
    {
     "name": "stdout",
     "output_type": "stream",
     "text": [
      "Epoch 62/100 - Training loss: 0.0760782 | LR: 0.00076\n"
     ]
    },
    {
     "name": "stderr",
     "output_type": "stream",
     "text": [
      "Validation loss: 0.0923351: 100%|██████████| 3/3 [00:01<00:00,  1.51it/s]\n",
      "  0%|          | 0/35 [00:00<?, ?it/s]"
     ]
    },
    {
     "name": "stdout",
     "output_type": "stream",
     "text": [
      "Epoch 62/100 - Validation loss: 0.0914197 (Recall: 99.15% | Precision: 99.27% | Mean IoU: 76.00%)\n"
     ]
    },
    {
     "name": "stderr",
     "output_type": "stream",
     "text": [
      "Training loss: 0.0632525 | LR: 0.00074: 100%|██████████| 35/35 [00:24<00:00,  1.45it/s]    \n",
      "  0%|          | 0/3 [00:00<?, ?it/s]"
     ]
    },
    {
     "name": "stdout",
     "output_type": "stream",
     "text": [
      "Epoch 63/100 - Training loss: 0.0896412 | LR: 0.00074\n"
     ]
    },
    {
     "name": "stderr",
     "output_type": "stream",
     "text": [
      "Validation loss: 0.0914847: 100%|██████████| 3/3 [00:02<00:00,  1.47it/s]\n",
      "  0%|          | 0/35 [00:00<?, ?it/s]"
     ]
    },
    {
     "name": "stdout",
     "output_type": "stream",
     "text": [
      "Epoch 63/100 - Validation loss: 0.091774 (Recall: 99.15% | Precision: 99.21% | Mean IoU: 76.00%)\n"
     ]
    },
    {
     "name": "stderr",
     "output_type": "stream",
     "text": [
      "Training loss: 0.0742785 | LR: 0.00072: 100%|██████████| 35/35 [00:23<00:00,  1.46it/s]    \n",
      "  0%|          | 0/3 [00:00<?, ?it/s]"
     ]
    },
    {
     "name": "stdout",
     "output_type": "stream",
     "text": [
      "Epoch 64/100 - Training loss: 0.0793192 | LR: 0.00072\n"
     ]
    },
    {
     "name": "stderr",
     "output_type": "stream",
     "text": [
      "Validation loss: 0.103731: 100%|██████████| 3/3 [00:02<00:00,  1.37it/s] \n",
      "  0%|          | 0/35 [00:00<?, ?it/s]"
     ]
    },
    {
     "name": "stdout",
     "output_type": "stream",
     "text": [
      "Epoch 64/100 - Validation loss: 0.0970981 (Recall: 99.09% | Precision: 99.15% | Mean IoU: 76.00%)\n"
     ]
    },
    {
     "name": "stderr",
     "output_type": "stream",
     "text": [
      "Training loss: 0.0648255 | LR: 0.0007: 100%|██████████| 35/35 [00:24<00:00,  1.45it/s]     \n",
      "  0%|          | 0/3 [00:00<?, ?it/s]"
     ]
    },
    {
     "name": "stdout",
     "output_type": "stream",
     "text": [
      "Epoch 65/100 - Training loss: 0.0794546 | LR: 0.0007\n"
     ]
    },
    {
     "name": "stderr",
     "output_type": "stream",
     "text": [
      "Validation loss: 0.091579: 100%|██████████| 3/3 [00:02<00:00,  1.42it/s] \n"
     ]
    },
    {
     "name": "stdout",
     "output_type": "stream",
     "text": [
      "Validation loss decreased 0.0909042 --> 0.0906727: saving state...\n",
      "Epoch 65/100 - Validation loss: 0.0906727 (Recall: 99.34% | Precision: 99.34% | Mean IoU: 76.00%)\n"
     ]
    },
    {
     "name": "stderr",
     "output_type": "stream",
     "text": [
      "Training loss: 0.0792467 | LR: 0.00068: 100%|██████████| 35/35 [00:23<00:00,  1.48it/s]    \n",
      "  0%|          | 0/3 [00:00<?, ?it/s]"
     ]
    },
    {
     "name": "stdout",
     "output_type": "stream",
     "text": [
      "Epoch 66/100 - Training loss: 0.0797982 | LR: 0.00068\n"
     ]
    },
    {
     "name": "stderr",
     "output_type": "stream",
     "text": [
      "Validation loss: 0.0974789: 100%|██████████| 3/3 [00:02<00:00,  1.37it/s]\n",
      "  0%|          | 0/35 [00:00<?, ?it/s]"
     ]
    },
    {
     "name": "stdout",
     "output_type": "stream",
     "text": [
      "Epoch 66/100 - Validation loss: 0.0928432 (Recall: 99.34% | Precision: 99.40% | Mean IoU: 76.00%)\n"
     ]
    },
    {
     "name": "stderr",
     "output_type": "stream",
     "text": [
      "Training loss: 0.0934243 | LR: 0.00066: 100%|██████████| 35/35 [00:24<00:00,  1.41it/s]    \n",
      "  0%|          | 0/3 [00:00<?, ?it/s]"
     ]
    },
    {
     "name": "stdout",
     "output_type": "stream",
     "text": [
      "Epoch 67/100 - Training loss: 0.0779674 | LR: 0.00066\n"
     ]
    },
    {
     "name": "stderr",
     "output_type": "stream",
     "text": [
      "Validation loss: 0.0923091: 100%|██████████| 3/3 [00:02<00:00,  1.37it/s]\n",
      "  0%|          | 0/35 [00:00<?, ?it/s]"
     ]
    },
    {
     "name": "stdout",
     "output_type": "stream",
     "text": [
      "Epoch 67/100 - Validation loss: 0.0916952 (Recall: 99.09% | Precision: 99.21% | Mean IoU: 76.00%)\n"
     ]
    },
    {
     "name": "stderr",
     "output_type": "stream",
     "text": [
      "Training loss: 0.088268 | LR: 0.00064: 100%|██████████| 35/35 [00:25<00:00,  1.36it/s]     \n",
      "  0%|          | 0/3 [00:00<?, ?it/s]"
     ]
    },
    {
     "name": "stdout",
     "output_type": "stream",
     "text": [
      "Epoch 68/100 - Training loss: 0.0830401 | LR: 0.00064\n"
     ]
    },
    {
     "name": "stderr",
     "output_type": "stream",
     "text": [
      "Validation loss: 0.0949751: 100%|██████████| 3/3 [00:02<00:00,  1.39it/s]\n",
      "  0%|          | 0/35 [00:00<?, ?it/s]"
     ]
    },
    {
     "name": "stdout",
     "output_type": "stream",
     "text": [
      "Epoch 68/100 - Validation loss: 0.0918303 (Recall: 99.03% | Precision: 99.15% | Mean IoU: 76.00%)\n"
     ]
    },
    {
     "name": "stderr",
     "output_type": "stream",
     "text": [
      "Training loss: 0.0626962 | LR: 0.00062: 100%|██████████| 35/35 [00:24<00:00,  1.40it/s]    \n",
      "  0%|          | 0/3 [00:00<?, ?it/s]"
     ]
    },
    {
     "name": "stdout",
     "output_type": "stream",
     "text": [
      "Epoch 69/100 - Training loss: 0.083561 | LR: 0.00062\n"
     ]
    },
    {
     "name": "stderr",
     "output_type": "stream",
     "text": [
      "Validation loss: 0.0971021: 100%|██████████| 3/3 [00:02<00:00,  1.42it/s]\n",
      "  0%|          | 0/35 [00:00<?, ?it/s]"
     ]
    },
    {
     "name": "stdout",
     "output_type": "stream",
     "text": [
      "Epoch 69/100 - Validation loss: 0.093208 (Recall: 99.28% | Precision: 99.40% | Mean IoU: 77.00%)\n"
     ]
    },
    {
     "name": "stderr",
     "output_type": "stream",
     "text": [
      "Training loss: 0.0623236 | LR: 0.0006: 100%|██████████| 35/35 [00:22<00:00,  1.56it/s]     \n",
      "  0%|          | 0/3 [00:00<?, ?it/s]"
     ]
    },
    {
     "name": "stdout",
     "output_type": "stream",
     "text": [
      "Epoch 70/100 - Training loss: 0.0721294 | LR: 0.0006\n"
     ]
    },
    {
     "name": "stderr",
     "output_type": "stream",
     "text": [
      "Validation loss: 0.091164: 100%|██████████| 3/3 [00:03<00:00,  1.23s/it] \n",
      "  0%|          | 0/35 [00:00<?, ?it/s]"
     ]
    },
    {
     "name": "stdout",
     "output_type": "stream",
     "text": [
      "Epoch 70/100 - Validation loss: 0.0913666 (Recall: 99.09% | Precision: 99.15% | Mean IoU: 76.00%)\n"
     ]
    },
    {
     "name": "stderr",
     "output_type": "stream",
     "text": [
      "Training loss: 0.0876752 | LR: 0.00058: 100%|██████████| 35/35 [00:22<00:00,  1.58it/s]    \n",
      "  0%|          | 0/3 [00:00<?, ?it/s]"
     ]
    },
    {
     "name": "stdout",
     "output_type": "stream",
     "text": [
      "Epoch 71/100 - Training loss: 0.0805409 | LR: 0.00058\n"
     ]
    },
    {
     "name": "stderr",
     "output_type": "stream",
     "text": [
      "Validation loss: 0.102114: 100%|██████████| 3/3 [00:02<00:00,  1.47it/s] \n",
      "  0%|          | 0/35 [00:00<?, ?it/s]"
     ]
    },
    {
     "name": "stdout",
     "output_type": "stream",
     "text": [
      "Epoch 71/100 - Validation loss: 0.0963238 (Recall: 99.21% | Precision: 99.27% | Mean IoU: 77.00%)\n"
     ]
    },
    {
     "name": "stderr",
     "output_type": "stream",
     "text": [
      "Training loss: 0.174197 | LR: 0.00056: 100%|██████████| 35/35 [00:23<00:00,  1.51it/s]     \n",
      "  0%|          | 0/3 [00:00<?, ?it/s]"
     ]
    },
    {
     "name": "stdout",
     "output_type": "stream",
     "text": [
      "Epoch 72/100 - Training loss: 0.0827936 | LR: 0.00056\n"
     ]
    },
    {
     "name": "stderr",
     "output_type": "stream",
     "text": [
      "Validation loss: 0.0984563: 100%|██████████| 3/3 [00:02<00:00,  1.46it/s]\n",
      "  0%|          | 0/35 [00:00<?, ?it/s]"
     ]
    },
    {
     "name": "stdout",
     "output_type": "stream",
     "text": [
      "Epoch 72/100 - Validation loss: 0.0945161 (Recall: 99.03% | Precision: 99.15% | Mean IoU: 77.00%)\n"
     ]
    },
    {
     "name": "stderr",
     "output_type": "stream",
     "text": [
      "Training loss: 0.0672719 | LR: 0.00054: 100%|██████████| 35/35 [00:23<00:00,  1.47it/s]    \n",
      "  0%|          | 0/3 [00:00<?, ?it/s]"
     ]
    },
    {
     "name": "stdout",
     "output_type": "stream",
     "text": [
      "Epoch 73/100 - Training loss: 0.0717874 | LR: 0.00054\n"
     ]
    },
    {
     "name": "stderr",
     "output_type": "stream",
     "text": [
      "Validation loss: 0.0969154: 100%|██████████| 3/3 [00:02<00:00,  1.46it/s]\n",
      "  0%|          | 0/35 [00:00<?, ?it/s]"
     ]
    },
    {
     "name": "stdout",
     "output_type": "stream",
     "text": [
      "Epoch 73/100 - Validation loss: 0.0929761 (Recall: 99.09% | Precision: 99.21% | Mean IoU: 77.00%)\n"
     ]
    },
    {
     "name": "stderr",
     "output_type": "stream",
     "text": [
      "Training loss: 0.100657 | LR: 0.00052: 100%|██████████| 35/35 [00:22<00:00,  1.58it/s]     \n",
      "  0%|          | 0/3 [00:00<?, ?it/s]"
     ]
    },
    {
     "name": "stdout",
     "output_type": "stream",
     "text": [
      "Epoch 74/100 - Training loss: 0.0750236 | LR: 0.00052\n"
     ]
    },
    {
     "name": "stderr",
     "output_type": "stream",
     "text": [
      "Validation loss: 0.0967725: 100%|██████████| 3/3 [00:03<00:00,  1.23s/it]\n",
      "  0%|          | 0/35 [00:00<?, ?it/s]"
     ]
    },
    {
     "name": "stdout",
     "output_type": "stream",
     "text": [
      "Epoch 74/100 - Validation loss: 0.0934301 (Recall: 99.03% | Precision: 99.15% | Mean IoU: 77.00%)\n"
     ]
    },
    {
     "name": "stderr",
     "output_type": "stream",
     "text": [
      "Training loss: 0.0584349 | LR: 0.0005: 100%|██████████| 35/35 [00:22<00:00,  1.57it/s]     \n",
      "  0%|          | 0/3 [00:00<?, ?it/s]"
     ]
    },
    {
     "name": "stdout",
     "output_type": "stream",
     "text": [
      "Epoch 75/100 - Training loss: 0.0770787 | LR: 0.0005\n"
     ]
    },
    {
     "name": "stderr",
     "output_type": "stream",
     "text": [
      "Validation loss: 0.0924424: 100%|██████████| 3/3 [00:02<00:00,  1.47it/s]\n",
      "  0%|          | 0/35 [00:00<?, ?it/s]"
     ]
    },
    {
     "name": "stdout",
     "output_type": "stream",
     "text": [
      "Epoch 75/100 - Validation loss: 0.0922441 (Recall: 99.03% | Precision: 99.15% | Mean IoU: 77.00%)\n"
     ]
    },
    {
     "name": "stderr",
     "output_type": "stream",
     "text": [
      "Training loss: 0.0601559 | LR: 0.00048: 100%|██████████| 35/35 [00:24<00:00,  1.45it/s]    \n",
      "  0%|          | 0/3 [00:00<?, ?it/s]"
     ]
    },
    {
     "name": "stdout",
     "output_type": "stream",
     "text": [
      "Epoch 76/100 - Training loss: 0.0709429 | LR: 0.00048\n"
     ]
    },
    {
     "name": "stderr",
     "output_type": "stream",
     "text": [
      "Validation loss: 0.0952252: 100%|██████████| 3/3 [00:01<00:00,  1.52it/s]\n",
      "  0%|          | 0/35 [00:00<?, ?it/s]"
     ]
    },
    {
     "name": "stdout",
     "output_type": "stream",
     "text": [
      "Epoch 76/100 - Validation loss: 0.0922837 (Recall: 98.97% | Precision: 99.09% | Mean IoU: 76.00%)\n"
     ]
    },
    {
     "name": "stderr",
     "output_type": "stream",
     "text": [
      "Training loss: 0.0504217 | LR: 0.00046: 100%|██████████| 35/35 [00:23<00:00,  1.48it/s]    \n",
      "  0%|          | 0/3 [00:00<?, ?it/s]"
     ]
    },
    {
     "name": "stdout",
     "output_type": "stream",
     "text": [
      "Epoch 77/100 - Training loss: 0.0776185 | LR: 0.00046\n"
     ]
    },
    {
     "name": "stderr",
     "output_type": "stream",
     "text": [
      "Validation loss: 0.0957476: 100%|██████████| 3/3 [00:02<00:00,  1.43it/s]\n",
      "  0%|          | 0/35 [00:00<?, ?it/s]"
     ]
    },
    {
     "name": "stdout",
     "output_type": "stream",
     "text": [
      "Epoch 77/100 - Validation loss: 0.0928016 (Recall: 98.97% | Precision: 99.09% | Mean IoU: 77.00%)\n"
     ]
    },
    {
     "name": "stderr",
     "output_type": "stream",
     "text": [
      "Training loss: 0.054427 | LR: 0.00044: 100%|██████████| 35/35 [00:21<00:00,  1.64it/s]     \n",
      "  0%|          | 0/3 [00:00<?, ?it/s]"
     ]
    },
    {
     "name": "stdout",
     "output_type": "stream",
     "text": [
      "Epoch 78/100 - Training loss: 0.0803418 | LR: 0.00044\n"
     ]
    },
    {
     "name": "stderr",
     "output_type": "stream",
     "text": [
      "Validation loss: 0.0920916: 100%|██████████| 3/3 [00:03<00:00,  1.23s/it]\n",
      "  0%|          | 0/35 [00:00<?, ?it/s]"
     ]
    },
    {
     "name": "stdout",
     "output_type": "stream",
     "text": [
      "Epoch 78/100 - Validation loss: 0.0921549 (Recall: 98.97% | Precision: 99.09% | Mean IoU: 77.00%)\n"
     ]
    },
    {
     "name": "stderr",
     "output_type": "stream",
     "text": [
      "Training loss: 0.0541068 | LR: 0.00042: 100%|██████████| 35/35 [00:22<00:00,  1.58it/s]    \n",
      "  0%|          | 0/3 [00:00<?, ?it/s]"
     ]
    },
    {
     "name": "stdout",
     "output_type": "stream",
     "text": [
      "Epoch 79/100 - Training loss: 0.0770853 | LR: 0.00042\n"
     ]
    },
    {
     "name": "stderr",
     "output_type": "stream",
     "text": [
      "Validation loss: 0.0920274: 100%|██████████| 3/3 [00:02<00:00,  1.48it/s]\n",
      "  0%|          | 0/35 [00:00<?, ?it/s]"
     ]
    },
    {
     "name": "stdout",
     "output_type": "stream",
     "text": [
      "Epoch 79/100 - Validation loss: 0.0916265 (Recall: 99.15% | Precision: 99.21% | Mean IoU: 77.00%)\n"
     ]
    },
    {
     "name": "stderr",
     "output_type": "stream",
     "text": [
      "Training loss: 0.0634553 | LR: 0.0004: 100%|██████████| 35/35 [00:23<00:00,  1.49it/s]     \n",
      "  0%|          | 0/3 [00:00<?, ?it/s]"
     ]
    },
    {
     "name": "stdout",
     "output_type": "stream",
     "text": [
      "Epoch 80/100 - Training loss: 0.0769044 | LR: 0.0004\n"
     ]
    },
    {
     "name": "stderr",
     "output_type": "stream",
     "text": [
      "Validation loss: 0.0972419: 100%|██████████| 3/3 [00:01<00:00,  1.50it/s]\n",
      "  0%|          | 0/35 [00:00<?, ?it/s]"
     ]
    },
    {
     "name": "stdout",
     "output_type": "stream",
     "text": [
      "Epoch 80/100 - Validation loss: 0.0935967 (Recall: 99.03% | Precision: 99.15% | Mean IoU: 77.00%)\n"
     ]
    },
    {
     "name": "stderr",
     "output_type": "stream",
     "text": [
      "Training loss: 0.0556837 | LR: 0.00038: 100%|██████████| 35/35 [00:23<00:00,  1.51it/s]    \n",
      "  0%|          | 0/3 [00:00<?, ?it/s]"
     ]
    },
    {
     "name": "stdout",
     "output_type": "stream",
     "text": [
      "Epoch 81/100 - Training loss: 0.0962579 | LR: 0.00038\n"
     ]
    },
    {
     "name": "stderr",
     "output_type": "stream",
     "text": [
      "Validation loss: 0.0955133: 100%|██████████| 3/3 [00:02<00:00,  1.46it/s]\n",
      "  0%|          | 0/35 [00:00<?, ?it/s]"
     ]
    },
    {
     "name": "stdout",
     "output_type": "stream",
     "text": [
      "Epoch 81/100 - Validation loss: 0.0927092 (Recall: 99.03% | Precision: 99.09% | Mean IoU: 77.00%)\n"
     ]
    },
    {
     "name": "stderr",
     "output_type": "stream",
     "text": [
      "Training loss: 0.0942074 | LR: 0.00036: 100%|██████████| 35/35 [00:21<00:00,  1.65it/s]    \n",
      "  0%|          | 0/3 [00:00<?, ?it/s]"
     ]
    },
    {
     "name": "stdout",
     "output_type": "stream",
     "text": [
      "Epoch 82/100 - Training loss: 0.0721364 | LR: 0.00036\n"
     ]
    },
    {
     "name": "stderr",
     "output_type": "stream",
     "text": [
      "Validation loss: 0.093728: 100%|██████████| 3/3 [00:01<00:00,  1.58it/s] \n",
      "  0%|          | 0/35 [00:00<?, ?it/s]"
     ]
    },
    {
     "name": "stdout",
     "output_type": "stream",
     "text": [
      "Epoch 82/100 - Validation loss: 0.0920699 (Recall: 98.97% | Precision: 99.09% | Mean IoU: 76.00%)\n"
     ]
    },
    {
     "name": "stderr",
     "output_type": "stream",
     "text": [
      "Training loss: 0.0566904 | LR: 0.00034: 100%|██████████| 35/35 [00:23<00:00,  1.50it/s]    \n",
      "  0%|          | 0/3 [00:00<?, ?it/s]"
     ]
    },
    {
     "name": "stdout",
     "output_type": "stream",
     "text": [
      "Epoch 83/100 - Training loss: 0.0713742 | LR: 0.00034\n"
     ]
    },
    {
     "name": "stderr",
     "output_type": "stream",
     "text": [
      "Validation loss: 0.0922769: 100%|██████████| 3/3 [00:02<00:00,  1.46it/s]\n",
      "  0%|          | 0/35 [00:00<?, ?it/s]"
     ]
    },
    {
     "name": "stdout",
     "output_type": "stream",
     "text": [
      "Epoch 83/100 - Validation loss: 0.0922482 (Recall: 99.03% | Precision: 99.15% | Mean IoU: 77.00%)\n"
     ]
    },
    {
     "name": "stderr",
     "output_type": "stream",
     "text": [
      "Training loss: 0.0717687 | LR: 0.00032: 100%|██████████| 35/35 [00:23<00:00,  1.47it/s]    \n",
      "  0%|          | 0/3 [00:00<?, ?it/s]"
     ]
    },
    {
     "name": "stdout",
     "output_type": "stream",
     "text": [
      "Epoch 84/100 - Training loss: 0.0678853 | LR: 0.00032\n"
     ]
    },
    {
     "name": "stderr",
     "output_type": "stream",
     "text": [
      "Validation loss: 0.0932981: 100%|██████████| 3/3 [00:02<00:00,  1.48it/s]\n",
      "  0%|          | 0/35 [00:00<?, ?it/s]"
     ]
    },
    {
     "name": "stdout",
     "output_type": "stream",
     "text": [
      "Epoch 84/100 - Validation loss: 0.0922878 (Recall: 99.03% | Precision: 99.15% | Mean IoU: 77.00%)\n"
     ]
    },
    {
     "name": "stderr",
     "output_type": "stream",
     "text": [
      "Training loss: 0.052505 | LR: 0.0003: 100%|██████████| 35/35 [00:23<00:00,  1.49it/s]      \n",
      "  0%|          | 0/3 [00:00<?, ?it/s]"
     ]
    },
    {
     "name": "stdout",
     "output_type": "stream",
     "text": [
      "Epoch 85/100 - Training loss: 0.0747232 | LR: 0.0003\n"
     ]
    },
    {
     "name": "stderr",
     "output_type": "stream",
     "text": [
      "Validation loss: 0.0919953: 100%|██████████| 3/3 [00:01<00:00,  1.51it/s]\n",
      "  0%|          | 0/35 [00:00<?, ?it/s]"
     ]
    },
    {
     "name": "stdout",
     "output_type": "stream",
     "text": [
      "Epoch 85/100 - Validation loss: 0.0920174 (Recall: 99.15% | Precision: 99.27% | Mean IoU: 77.00%)\n"
     ]
    },
    {
     "name": "stderr",
     "output_type": "stream",
     "text": [
      "Training loss: 0.0566457 | LR: 0.00028: 100%|██████████| 35/35 [00:21<00:00,  1.62it/s]    \n",
      "  0%|          | 0/3 [00:00<?, ?it/s]"
     ]
    },
    {
     "name": "stdout",
     "output_type": "stream",
     "text": [
      "Epoch 86/100 - Training loss: 0.0768747 | LR: 0.00028\n"
     ]
    },
    {
     "name": "stderr",
     "output_type": "stream",
     "text": [
      "Validation loss: 0.0947596: 100%|██████████| 3/3 [00:02<00:00,  1.46it/s]\n",
      "  0%|          | 0/35 [00:00<?, ?it/s]"
     ]
    },
    {
     "name": "stdout",
     "output_type": "stream",
     "text": [
      "Epoch 86/100 - Validation loss: 0.0924662 (Recall: 98.91% | Precision: 99.03% | Mean IoU: 76.00%)\n"
     ]
    },
    {
     "name": "stderr",
     "output_type": "stream",
     "text": [
      "Training loss: 0.0675711 | LR: 0.00026: 100%|██████████| 35/35 [00:23<00:00,  1.48it/s]    \n",
      "  0%|          | 0/3 [00:00<?, ?it/s]"
     ]
    },
    {
     "name": "stdout",
     "output_type": "stream",
     "text": [
      "Epoch 87/100 - Training loss: 0.0680786 | LR: 0.00026\n"
     ]
    },
    {
     "name": "stderr",
     "output_type": "stream",
     "text": [
      "Validation loss: 0.0951568: 100%|██████████| 3/3 [00:02<00:00,  1.38it/s]\n",
      "  0%|          | 0/35 [00:00<?, ?it/s]"
     ]
    },
    {
     "name": "stdout",
     "output_type": "stream",
     "text": [
      "Epoch 87/100 - Validation loss: 0.0926893 (Recall: 99.15% | Precision: 99.27% | Mean IoU: 76.00%)\n"
     ]
    },
    {
     "name": "stderr",
     "output_type": "stream",
     "text": [
      "Training loss: 0.0687612 | LR: 0.00024: 100%|██████████| 35/35 [00:23<00:00,  1.49it/s]    \n",
      "  0%|          | 0/3 [00:00<?, ?it/s]"
     ]
    },
    {
     "name": "stdout",
     "output_type": "stream",
     "text": [
      "Epoch 88/100 - Training loss: 0.0771455 | LR: 0.00024\n"
     ]
    },
    {
     "name": "stderr",
     "output_type": "stream",
     "text": [
      "Validation loss: 0.0930882: 100%|██████████| 3/3 [00:01<00:00,  1.57it/s]\n",
      "  0%|          | 0/35 [00:00<?, ?it/s]"
     ]
    },
    {
     "name": "stdout",
     "output_type": "stream",
     "text": [
      "Epoch 88/100 - Validation loss: 0.0915671 (Recall: 99.21% | Precision: 99.27% | Mean IoU: 76.00%)\n"
     ]
    },
    {
     "name": "stderr",
     "output_type": "stream",
     "text": [
      "Training loss: 0.111346 | LR: 0.00022: 100%|██████████| 35/35 [00:24<00:00,  1.45it/s]     \n",
      "  0%|          | 0/3 [00:00<?, ?it/s]"
     ]
    },
    {
     "name": "stdout",
     "output_type": "stream",
     "text": [
      "Epoch 89/100 - Training loss: 0.081815 | LR: 0.00022\n"
     ]
    },
    {
     "name": "stderr",
     "output_type": "stream",
     "text": [
      "Validation loss: 0.0950369: 100%|██████████| 3/3 [00:02<00:00,  1.38it/s]\n",
      "  0%|          | 0/35 [00:00<?, ?it/s]"
     ]
    },
    {
     "name": "stdout",
     "output_type": "stream",
     "text": [
      "Epoch 89/100 - Validation loss: 0.0919727 (Recall: 99.28% | Precision: 99.40% | Mean IoU: 77.00%)\n"
     ]
    },
    {
     "name": "stderr",
     "output_type": "stream",
     "text": [
      "Training loss: 0.0564527 | LR: 0.0002: 100%|██████████| 35/35 [00:20<00:00,  1.72it/s]     \n",
      "  0%|          | 0/3 [00:00<?, ?it/s]"
     ]
    },
    {
     "name": "stdout",
     "output_type": "stream",
     "text": [
      "Epoch 90/100 - Training loss: 0.072539 | LR: 0.0002\n"
     ]
    },
    {
     "name": "stderr",
     "output_type": "stream",
     "text": [
      "Validation loss: 0.0956201: 100%|██████████| 3/3 [00:01<00:00,  1.57it/s]\n",
      "  0%|          | 0/35 [00:00<?, ?it/s]"
     ]
    },
    {
     "name": "stdout",
     "output_type": "stream",
     "text": [
      "Epoch 90/100 - Validation loss: 0.0925477 (Recall: 99.15% | Precision: 99.21% | Mean IoU: 77.00%)\n"
     ]
    },
    {
     "name": "stderr",
     "output_type": "stream",
     "text": [
      "Training loss: 0.0524229 | LR: 0.00018: 100%|██████████| 35/35 [00:22<00:00,  1.56it/s]    \n",
      "  0%|          | 0/3 [00:00<?, ?it/s]"
     ]
    },
    {
     "name": "stdout",
     "output_type": "stream",
     "text": [
      "Epoch 91/100 - Training loss: 0.0727892 | LR: 0.00018\n"
     ]
    },
    {
     "name": "stderr",
     "output_type": "stream",
     "text": [
      "Validation loss: 0.0939278: 100%|██████████| 3/3 [00:01<00:00,  1.63it/s]\n",
      "  0%|          | 0/35 [00:00<?, ?it/s]"
     ]
    },
    {
     "name": "stdout",
     "output_type": "stream",
     "text": [
      "Epoch 91/100 - Validation loss: 0.0916831 (Recall: 99.34% | Precision: 99.40% | Mean IoU: 76.00%)\n"
     ]
    },
    {
     "name": "stderr",
     "output_type": "stream",
     "text": [
      "Training loss: 0.0786931 | LR: 0.00016: 100%|██████████| 35/35 [00:22<00:00,  1.53it/s]    \n",
      "  0%|          | 0/3 [00:00<?, ?it/s]"
     ]
    },
    {
     "name": "stdout",
     "output_type": "stream",
     "text": [
      "Epoch 92/100 - Training loss: 0.0739484 | LR: 0.00016\n"
     ]
    },
    {
     "name": "stderr",
     "output_type": "stream",
     "text": [
      "Validation loss: 0.0955419: 100%|██████████| 3/3 [00:02<00:00,  1.49it/s]\n",
      "  0%|          | 0/35 [00:00<?, ?it/s]"
     ]
    },
    {
     "name": "stdout",
     "output_type": "stream",
     "text": [
      "Epoch 92/100 - Validation loss: 0.0922312 (Recall: 99.03% | Precision: 99.15% | Mean IoU: 77.00%)\n"
     ]
    },
    {
     "name": "stderr",
     "output_type": "stream",
     "text": [
      "Training loss: 0.0571342 | LR: 0.00014: 100%|██████████| 35/35 [00:19<00:00,  1.79it/s]    \n",
      "  0%|          | 0/3 [00:00<?, ?it/s]"
     ]
    },
    {
     "name": "stdout",
     "output_type": "stream",
     "text": [
      "Epoch 93/100 - Training loss: 0.0841011 | LR: 0.00014\n"
     ]
    },
    {
     "name": "stderr",
     "output_type": "stream",
     "text": [
      "Validation loss: 0.091881: 100%|██████████| 3/3 [00:01<00:00,  1.58it/s] \n",
      "  0%|          | 0/35 [00:00<?, ?it/s]"
     ]
    },
    {
     "name": "stdout",
     "output_type": "stream",
     "text": [
      "Epoch 93/100 - Validation loss: 0.0908919 (Recall: 99.03% | Precision: 99.15% | Mean IoU: 76.00%)\n"
     ]
    },
    {
     "name": "stderr",
     "output_type": "stream",
     "text": [
      "Training loss: 0.150296 | LR: 0.00012: 100%|██████████| 35/35 [00:22<00:00,  1.54it/s]     \n",
      "  0%|          | 0/3 [00:00<?, ?it/s]"
     ]
    },
    {
     "name": "stdout",
     "output_type": "stream",
     "text": [
      "Epoch 94/100 - Training loss: 0.0690167 | LR: 0.00012\n"
     ]
    },
    {
     "name": "stderr",
     "output_type": "stream",
     "text": [
      "Validation loss: 0.0945725: 100%|██████████| 3/3 [00:01<00:00,  1.62it/s]\n",
      "  0%|          | 0/35 [00:00<?, ?it/s]"
     ]
    },
    {
     "name": "stdout",
     "output_type": "stream",
     "text": [
      "Epoch 94/100 - Validation loss: 0.0918742 (Recall: 99.09% | Precision: 99.21% | Mean IoU: 77.00%)\n"
     ]
    },
    {
     "name": "stderr",
     "output_type": "stream",
     "text": [
      "Training loss: 0.116415 | LR: 0.0001: 100%|██████████| 35/35 [00:22<00:00,  1.55it/s]      \n",
      "  0%|          | 0/3 [00:00<?, ?it/s]"
     ]
    },
    {
     "name": "stdout",
     "output_type": "stream",
     "text": [
      "Epoch 95/100 - Training loss: 0.0821543 | LR: 0.0001\n"
     ]
    },
    {
     "name": "stderr",
     "output_type": "stream",
     "text": [
      "Validation loss: 0.0944486: 100%|██████████| 3/3 [00:01<00:00,  1.62it/s]\n",
      "  0%|          | 0/35 [00:00<?, ?it/s]"
     ]
    },
    {
     "name": "stdout",
     "output_type": "stream",
     "text": [
      "Epoch 95/100 - Validation loss: 0.091639 (Recall: 98.97% | Precision: 99.09% | Mean IoU: 76.00%)\n"
     ]
    },
    {
     "name": "stderr",
     "output_type": "stream",
     "text": [
      "Training loss: 0.129528 | LR: 8e-05: 100%|██████████| 35/35 [00:19<00:00,  1.81it/s]       \n",
      "  0%|          | 0/3 [00:00<?, ?it/s]"
     ]
    },
    {
     "name": "stdout",
     "output_type": "stream",
     "text": [
      "Epoch 96/100 - Training loss: 0.0703448 | LR: 8e-05\n"
     ]
    },
    {
     "name": "stderr",
     "output_type": "stream",
     "text": [
      "Validation loss: 0.0945488: 100%|██████████| 3/3 [00:01<00:00,  1.56it/s]\n",
      "  0%|          | 0/35 [00:00<?, ?it/s]"
     ]
    },
    {
     "name": "stdout",
     "output_type": "stream",
     "text": [
      "Epoch 96/100 - Validation loss: 0.0921477 (Recall: 99.15% | Precision: 99.27% | Mean IoU: 77.00%)\n"
     ]
    },
    {
     "name": "stderr",
     "output_type": "stream",
     "text": [
      "Training loss: 0.0493139 | LR: 6e-05: 100%|██████████| 35/35 [00:22<00:00,  1.55it/s]      \n",
      "  0%|          | 0/3 [00:00<?, ?it/s]"
     ]
    },
    {
     "name": "stdout",
     "output_type": "stream",
     "text": [
      "Epoch 97/100 - Training loss: 0.0720293 | LR: 6e-05\n"
     ]
    },
    {
     "name": "stderr",
     "output_type": "stream",
     "text": [
      "Validation loss: 0.0970899: 100%|██████████| 3/3 [00:01<00:00,  1.62it/s]\n",
      "  0%|          | 0/35 [00:00<?, ?it/s]"
     ]
    },
    {
     "name": "stdout",
     "output_type": "stream",
     "text": [
      "Epoch 97/100 - Validation loss: 0.093036 (Recall: 99.03% | Precision: 99.15% | Mean IoU: 76.00%)\n"
     ]
    },
    {
     "name": "stderr",
     "output_type": "stream",
     "text": [
      "Training loss: 0.0557398 | LR: 4e-05: 100%|██████████| 35/35 [00:22<00:00,  1.52it/s]      \n",
      "  0%|          | 0/3 [00:00<?, ?it/s]"
     ]
    },
    {
     "name": "stdout",
     "output_type": "stream",
     "text": [
      "Epoch 98/100 - Training loss: 0.0714448 | LR: 4e-05\n"
     ]
    },
    {
     "name": "stderr",
     "output_type": "stream",
     "text": [
      "Validation loss: 0.0944194: 100%|██████████| 3/3 [00:01<00:00,  1.60it/s]\n",
      "  0%|          | 0/35 [00:00<?, ?it/s]"
     ]
    },
    {
     "name": "stdout",
     "output_type": "stream",
     "text": [
      "Epoch 98/100 - Validation loss: 0.0919251 (Recall: 99.15% | Precision: 99.27% | Mean IoU: 77.00%)\n"
     ]
    },
    {
     "name": "stderr",
     "output_type": "stream",
     "text": [
      "Training loss: 0.0479931 | LR: 2e-05: 100%|██████████| 35/35 [00:19<00:00,  1.79it/s]      \n",
      "  0%|          | 0/3 [00:00<?, ?it/s]"
     ]
    },
    {
     "name": "stdout",
     "output_type": "stream",
     "text": [
      "Epoch 99/100 - Training loss: 0.0702848 | LR: 2e-05\n"
     ]
    },
    {
     "name": "stderr",
     "output_type": "stream",
     "text": [
      "Validation loss: 0.0946068: 100%|██████████| 3/3 [00:01<00:00,  1.57it/s]\n",
      "  0%|          | 0/35 [00:00<?, ?it/s]"
     ]
    },
    {
     "name": "stdout",
     "output_type": "stream",
     "text": [
      "Epoch 99/100 - Validation loss: 0.0918447 (Recall: 99.15% | Precision: 99.27% | Mean IoU: 77.00%)\n"
     ]
    },
    {
     "name": "stderr",
     "output_type": "stream",
     "text": [
      "Training loss: 0.062201 | LR: 0.0: 100%|██████████| 35/35 [00:21<00:00,  1.59it/s]         \n",
      "  0%|          | 0/3 [00:00<?, ?it/s]"
     ]
    },
    {
     "name": "stdout",
     "output_type": "stream",
     "text": [
      "Epoch 100/100 - Training loss: 0.0736468 | LR: 0.0\n"
     ]
    },
    {
     "name": "stderr",
     "output_type": "stream",
     "text": [
      "Validation loss: 0.0948701: 100%|██████████| 3/3 [00:01<00:00,  1.65it/s]\n"
     ]
    },
    {
     "name": "stdout",
     "output_type": "stream",
     "text": [
      "Epoch 100/100 - Validation loss: 0.0919925 (Recall: 99.15% | Precision: 99.27% | Mean IoU: 77.00%)\n",
      "Namespace(backend='nccl', arch='crnn_vgg16_bn', output_dir='.', train_path='ml-training/recognition', val_path='ml-validation/recognition', train_datasets=None, val_datasets=None, train_samples=1000, val_samples=20, font='FreeMono.ttf,FreeSans.ttf,FreeSerif.ttf', min_chars=1, max_chars=12, name='ml-models/recognition-model-finetuned', epochs=100, batch_size=64, input_size=32, device=0, lr=0.001, weight_decay=0, workers=None, resume=None, vocab='CUSTOM:0123456789abcdefghijklmnopqrstuvwxyzABCDEFGHIJKLMNOPQRSTUVWXYZ!\"#$%&\\'()*+,-./:;<=>?@[\\\\]^_`{|}~°£€¥¢฿çëÇËèïîôûêÈÏÎÔÛÊəğöşüƏĞÖŞÜ₼ñÑčćđšžČĆĐŠŽàéíòóúÀÉÍÒÓÚáďěňřťůýÁĎĚŇŘŤŮÝæøåÆØÅõäÕÄĉĝĥĵŝŭĈĜĤĴŜŬ₷âùÂÙƒƑßẞɓɗƙƴƁƊƘƳ₦ðþÐÞìÌāēģīķļņūĀĒĢĪĶĻŅŪąęėįųĄĘĖĮŲōŌċġħżĊĠĦŻźŚŹłńśŁŃãÃășțĂȘȚľĺŕĽĹŔ¡¿₱ıİ₺ɉɈảạắằẳẵặấầẩẫậẻẽẹếềểễệỏọố���ổộỗơớờởợỡủũụưứừửữựỉĩịỳỷỹỵẢẠẮẰẲẴẶẤẦẨẪẬẺẼẸẾỀỂỄỆỎỌỐỒỔỘỖƠỚỜỞỢỠỦŨỤƯỨỪỬỮỰỈĨỊỲỶỸỴ₫ŵŷŴŶṣṢ§абвгдежзийклмнопрстуфхцчшщьюяАБВГДЕЖЗИЙКЛМНОПРСТУФХЦЧШЩЬЮЯёыэЁЫЭъЪ₽ўЎґіїєҐІЇЄ₴ӘәҖҗҢңӨөҮүҒғҚқҲҳҶҷӢӣӮӯҰұҺһ₸ЃѓЅѕЈјЉљЊњЌќЏџ᠐᠑᠒᠓᠔᠕᠖᠗᠘᠙₮ҔҕҤҥЂђЋћαβγδεζηθικλμνξοπρστςυφχψωΑΒΓΔΕΖΗΘΙΚΛΜΝΞΟΠΡΣΤΥΦΧΨΩάέήίϊΐόύϋΰώΆΈΉΊΪΌΎΫΏאבגדהוזחטיךכלםמןנסעףפץצקרשתְֱֲֳִֵֶַָׇֹֺֻֽ־ֿ׀ׁׂ׃ׅׄ׆׳״֑֖֛֢֣֤֥֦֧֪֚֭֮֒֓֔֕֗֘֙֜֝֞֟֠֡֨֩֫֬֯ׯװױײיִﬞײַﬠﬡﬢﬣﬤﬥﬦﬧﬨ﬩שׁשׂשּׁשּׂאַאָאּבּגּדּהּוּזּטּיּךּכּלּמּנּסּףּפּצּקּרּשּתּוֹבֿכֿפֿﭏ₪⸺¡¿—‘’“”′″£€¥¢฿', test_only=False, freeze_backbone=False, show_samples=False, wb=False, clearml=False, push_to_hub=False, pretrained=True, optim='adam', sched='cosine', amp=False, find_lr=False, early_stop=False, early_stop_epochs=5, early_stop_delta=0.01)\n",
      "Validation set loaded in 0.00495s (1656 samples in 26 batches)\n",
      "Train set loaded in 0.04787s (19295 samples in 301 batches)\n"
     ]
    },
    {
     "name": "stderr",
     "output_type": "stream",
     "text": [
      "Training loss: 0.171666 | LR: 0.000999753: 100%|██████████| 301/301 [00:39<00:00,  7.64it/s]\n",
      "  0%|          | 0/26 [00:00<?, ?it/s]"
     ]
    },
    {
     "name": "stdout",
     "output_type": "stream",
     "text": [
      "Epoch 1/100 - Training loss: 4.24993 | LR: 0.000999753\n"
     ]
    },
    {
     "name": "stderr",
     "output_type": "stream",
     "text": [
      "Validation loss: 0.154828: 100%|██████████| 26/26 [00:04<00:00,  5.69it/s] \n",
      "  0%|          | 0/301 [00:00<?, ?it/s]"
     ]
    },
    {
     "name": "stdout",
     "output_type": "stream",
     "text": [
      "Validation loss decreased inf --> 0.143974: saving state...\n",
      "Epoch 1/100 - Validation loss: 0.143974 (Exact: 91.91% | Partial: 92.27%)\n"
     ]
    },
    {
     "name": "stderr",
     "output_type": "stream",
     "text": [
      "Training loss: 0.0548518 | LR: 0.000999013: 100%|██████████| 301/301 [00:40<00:00,  7.52it/s]\n",
      "  0%|          | 0/26 [00:00<?, ?it/s]"
     ]
    },
    {
     "name": "stdout",
     "output_type": "stream",
     "text": [
      "Epoch 2/100 - Training loss: 0.0950099 | LR: 0.000999013\n"
     ]
    },
    {
     "name": "stderr",
     "output_type": "stream",
     "text": [
      "Validation loss: 0.0223137: 100%|██████████| 26/26 [00:01<00:00, 15.25it/s]\n",
      "  0%|          | 0/301 [00:00<?, ?it/s]"
     ]
    },
    {
     "name": "stdout",
     "output_type": "stream",
     "text": [
      "Validation loss decreased 0.143974 --> 0.0258437: saving state...\n",
      "Epoch 2/100 - Validation loss: 0.0258437 (Exact: 99.21% | Partial: 99.34%)\n"
     ]
    },
    {
     "name": "stderr",
     "output_type": "stream",
     "text": [
      "Training loss: 0.0426563 | LR: 0.000997781: 100%|██████████| 301/301 [00:40<00:00,  7.48it/s] \n",
      "  0%|          | 0/26 [00:00<?, ?it/s]"
     ]
    },
    {
     "name": "stdout",
     "output_type": "stream",
     "text": [
      "Epoch 3/100 - Training loss: 0.0340552 | LR: 0.000997781\n"
     ]
    },
    {
     "name": "stderr",
     "output_type": "stream",
     "text": [
      "Validation loss: 0.00948704: 100%|██████████| 26/26 [00:01<00:00, 15.66it/s]\n"
     ]
    },
    {
     "name": "stdout",
     "output_type": "stream",
     "text": [
      "Validation loss decreased 0.0258437 --> 0.0141183: saving state...\n",
      "Epoch 3/100 - Validation loss: 0.0141183 (Exact: 99.40% | Partial: 99.64%)\n"
     ]
    },
    {
     "name": "stderr",
     "output_type": "stream",
     "text": [
      "Training loss: 0.0203482 | LR: 0.000996057: 100%|██████████| 301/301 [00:40<00:00,  7.52it/s] \n",
      "  0%|          | 0/26 [00:00<?, ?it/s]"
     ]
    },
    {
     "name": "stdout",
     "output_type": "stream",
     "text": [
      "Epoch 4/100 - Training loss: 0.0209183 | LR: 0.000996057\n"
     ]
    },
    {
     "name": "stderr",
     "output_type": "stream",
     "text": [
      "Validation loss: 0.00537343: 100%|██████████| 26/26 [00:01<00:00, 14.76it/s]\n",
      "  0%|          | 0/301 [00:00<?, ?it/s]"
     ]
    },
    {
     "name": "stdout",
     "output_type": "stream",
     "text": [
      "Validation loss decreased 0.0141183 --> 0.00851078: saving state...\n",
      "Epoch 4/100 - Validation loss: 0.00851078 (Exact: 99.58% | Partial: 99.64%)\n"
     ]
    },
    {
     "name": "stderr",
     "output_type": "stream",
     "text": [
      "Training loss: 0.014111 | LR: 0.000993844: 100%|██████████| 301/301 [00:40<00:00,  7.41it/s]  \n",
      "  0%|          | 0/26 [00:00<?, ?it/s]"
     ]
    },
    {
     "name": "stdout",
     "output_type": "stream",
     "text": [
      "Epoch 5/100 - Training loss: 0.0152954 | LR: 0.000993844\n"
     ]
    },
    {
     "name": "stderr",
     "output_type": "stream",
     "text": [
      "Validation loss: 0.00472854: 100%|██████████| 26/26 [00:04<00:00,  6.06it/s]\n",
      "  0%|          | 0/301 [00:00<?, ?it/s]"
     ]
    },
    {
     "name": "stdout",
     "output_type": "stream",
     "text": [
      "Validation loss decreased 0.00851078 --> 0.00719706: saving state...\n",
      "Epoch 5/100 - Validation loss: 0.00719706 (Exact: 99.58% | Partial: 99.70%)\n"
     ]
    },
    {
     "name": "stderr",
     "output_type": "stream",
     "text": [
      "Training loss: 0.025441 | LR: 0.000991144: 100%|██████████| 301/301 [00:41<00:00,  7.32it/s]  \n",
      "  0%|          | 0/26 [00:00<?, ?it/s]"
     ]
    },
    {
     "name": "stdout",
     "output_type": "stream",
     "text": [
      "Epoch 6/100 - Training loss: 0.0118386 | LR: 0.000991144\n"
     ]
    },
    {
     "name": "stderr",
     "output_type": "stream",
     "text": [
      "Validation loss: 0.00301223: 100%|██████████| 26/26 [00:01<00:00, 15.06it/s]\n",
      "  0%|          | 0/301 [00:00<?, ?it/s]"
     ]
    },
    {
     "name": "stdout",
     "output_type": "stream",
     "text": [
      "Validation loss decreased 0.00719706 --> 0.00644258: saving state...\n",
      "Epoch 6/100 - Validation loss: 0.00644258 (Exact: 99.34% | Partial: 99.52%)\n"
     ]
    },
    {
     "name": "stderr",
     "output_type": "stream",
     "text": [
      "Training loss: 0.00332872 | LR: 0.000987958: 100%|██████████| 301/301 [00:40<00:00,  7.46it/s]\n",
      "  0%|          | 0/26 [00:00<?, ?it/s]"
     ]
    },
    {
     "name": "stdout",
     "output_type": "stream",
     "text": [
      "Epoch 7/100 - Training loss: 0.0100815 | LR: 0.000987958\n"
     ]
    },
    {
     "name": "stderr",
     "output_type": "stream",
     "text": [
      "Validation loss: 0.00217094: 100%|██████████| 26/26 [00:01<00:00, 15.66it/s]\n"
     ]
    },
    {
     "name": "stdout",
     "output_type": "stream",
     "text": [
      "Validation loss decreased 0.00644258 --> 0.00391816: saving state...\n",
      "Epoch 7/100 - Validation loss: 0.00391816 (Exact: 99.82% | Partial: 99.88%)\n"
     ]
    },
    {
     "name": "stderr",
     "output_type": "stream",
     "text": [
      "Training loss: 0.00888826 | LR: 0.000984292: 100%|██████████| 301/301 [00:41<00:00,  7.28it/s]\n",
      "  0%|          | 0/26 [00:00<?, ?it/s]"
     ]
    },
    {
     "name": "stdout",
     "output_type": "stream",
     "text": [
      "Epoch 8/100 - Training loss: 0.0078901 | LR: 0.000984292\n"
     ]
    },
    {
     "name": "stderr",
     "output_type": "stream",
     "text": [
      "Validation loss: 0.00165311: 100%|██████████| 26/26 [00:01<00:00, 13.68it/s] \n",
      "  0%|          | 0/301 [00:00<?, ?it/s]"
     ]
    },
    {
     "name": "stdout",
     "output_type": "stream",
     "text": [
      "Epoch 8/100 - Validation loss: 0.00439983 (Exact: 99.76% | Partial: 99.82%)\n"
     ]
    },
    {
     "name": "stderr",
     "output_type": "stream",
     "text": [
      "Training loss: 0.00810909 | LR: 0.000980147: 100%|██████████| 301/301 [00:42<00:00,  7.09it/s]\n",
      "  0%|          | 0/26 [00:00<?, ?it/s]"
     ]
    },
    {
     "name": "stdout",
     "output_type": "stream",
     "text": [
      "Epoch 9/100 - Training loss: 0.00818867 | LR: 0.000980147\n"
     ]
    },
    {
     "name": "stderr",
     "output_type": "stream",
     "text": [
      "Validation loss: 0.00156688: 100%|██████████| 26/26 [00:01<00:00, 13.55it/s]\n",
      "  0%|          | 0/301 [00:00<?, ?it/s]"
     ]
    },
    {
     "name": "stdout",
     "output_type": "stream",
     "text": [
      "Epoch 9/100 - Validation loss: 0.00498053 (Exact: 99.70% | Partial: 99.70%)\n"
     ]
    },
    {
     "name": "stderr",
     "output_type": "stream",
     "text": [
      "Training loss: 0.00234817 | LR: 0.000975528: 100%|██████████| 301/301 [00:41<00:00,  7.31it/s]\n",
      "  0%|          | 0/26 [00:00<?, ?it/s]"
     ]
    },
    {
     "name": "stdout",
     "output_type": "stream",
     "text": [
      "Epoch 10/100 - Training loss: 0.00957186 | LR: 0.000975528\n"
     ]
    },
    {
     "name": "stderr",
     "output_type": "stream",
     "text": [
      "Validation loss: 0.00155616: 100%|██████████| 26/26 [00:01<00:00, 15.69it/s] \n"
     ]
    },
    {
     "name": "stdout",
     "output_type": "stream",
     "text": [
      "Validation loss decreased 0.00498053 --> 0.0025899: saving state...\n",
      "Epoch 10/100 - Validation loss: 0.0025899 (Exact: 99.76% | Partial: 99.88%)\n"
     ]
    },
    {
     "name": "stderr",
     "output_type": "stream",
     "text": [
      "Training loss: 0.0042403 | LR: 0.000970441: 100%|██████████| 301/301 [00:39<00:00,  7.55it/s] \n",
      "  0%|          | 0/26 [00:00<?, ?it/s]"
     ]
    },
    {
     "name": "stdout",
     "output_type": "stream",
     "text": [
      "Epoch 11/100 - Training loss: 0.00994398 | LR: 0.000970441\n"
     ]
    },
    {
     "name": "stderr",
     "output_type": "stream",
     "text": [
      "Validation loss: 0.00202188: 100%|██████████| 26/26 [00:01<00:00, 15.67it/s]\n",
      "  0%|          | 0/301 [00:00<?, ?it/s]"
     ]
    },
    {
     "name": "stdout",
     "output_type": "stream",
     "text": [
      "Epoch 11/100 - Validation loss: 0.00535309 (Exact: 99.76% | Partial: 99.94%)\n"
     ]
    },
    {
     "name": "stderr",
     "output_type": "stream",
     "text": [
      "Training loss: 0.00348931 | LR: 0.000964888: 100%|██████████| 301/301 [00:40<00:00,  7.44it/s] \n",
      "  0%|          | 0/26 [00:00<?, ?it/s]"
     ]
    },
    {
     "name": "stdout",
     "output_type": "stream",
     "text": [
      "Epoch 12/100 - Training loss: 0.00657245 | LR: 0.000964888\n"
     ]
    },
    {
     "name": "stderr",
     "output_type": "stream",
     "text": [
      "Validation loss: 0.00110885: 100%|██████████| 26/26 [00:01<00:00, 13.70it/s] \n",
      "  0%|          | 0/301 [00:00<?, ?it/s]"
     ]
    },
    {
     "name": "stdout",
     "output_type": "stream",
     "text": [
      "Validation loss decreased 0.00535309 --> 0.00403: saving state...\n",
      "Epoch 12/100 - Validation loss: 0.00403 (Exact: 99.76% | Partial: 99.88%)\n"
     ]
    },
    {
     "name": "stderr",
     "output_type": "stream",
     "text": [
      "Training loss: 0.00148972 | LR: 0.000958877: 100%|██████████| 301/301 [00:42<00:00,  7.04it/s] \n",
      "  0%|          | 0/26 [00:00<?, ?it/s]"
     ]
    },
    {
     "name": "stdout",
     "output_type": "stream",
     "text": [
      "Epoch 13/100 - Training loss: 0.00497016 | LR: 0.000958877\n"
     ]
    },
    {
     "name": "stderr",
     "output_type": "stream",
     "text": [
      "Validation loss: 0.000900528: 100%|██████████| 26/26 [00:01<00:00, 13.32it/s]\n",
      "  0%|          | 0/301 [00:00<?, ?it/s]"
     ]
    },
    {
     "name": "stdout",
     "output_type": "stream",
     "text": [
      "Validation loss decreased 0.00403 --> 0.00332673: saving state...\n",
      "Epoch 13/100 - Validation loss: 0.00332673 (Exact: 99.76% | Partial: 99.94%)\n"
     ]
    },
    {
     "name": "stderr",
     "output_type": "stream",
     "text": [
      "Training loss: 0.00378546 | LR: 0.000952414: 100%|██████████| 301/301 [00:40<00:00,  7.50it/s] \n",
      "  0%|          | 0/26 [00:00<?, ?it/s]"
     ]
    },
    {
     "name": "stdout",
     "output_type": "stream",
     "text": [
      "Epoch 14/100 - Training loss: 0.00384392 | LR: 0.000952414\n"
     ]
    },
    {
     "name": "stderr",
     "output_type": "stream",
     "text": [
      "Validation loss: 0.000639927: 100%|██████████| 26/26 [00:01<00:00, 15.31it/s]\n",
      "  0%|          | 0/301 [00:00<?, ?it/s]"
     ]
    },
    {
     "name": "stdout",
     "output_type": "stream",
     "text": [
      "Validation loss decreased 0.00332673 --> 0.00330588: saving state...\n",
      "Epoch 14/100 - Validation loss: 0.00330588 (Exact: 99.82% | Partial: 99.94%)\n"
     ]
    },
    {
     "name": "stderr",
     "output_type": "stream",
     "text": [
      "Training loss: 0.0010412 | LR: 0.000945503: 100%|██████████| 301/301 [00:41<00:00,  7.30it/s]  \n",
      "  0%|          | 0/26 [00:00<?, ?it/s]"
     ]
    },
    {
     "name": "stdout",
     "output_type": "stream",
     "text": [
      "Epoch 15/100 - Training loss: 0.00319278 | LR: 0.000945503\n"
     ]
    },
    {
     "name": "stderr",
     "output_type": "stream",
     "text": [
      "Validation loss: 0.00046785: 100%|██████████| 26/26 [00:01<00:00, 14.42it/s] \n",
      "  0%|          | 0/301 [00:00<?, ?it/s]"
     ]
    },
    {
     "name": "stdout",
     "output_type": "stream",
     "text": [
      "Validation loss decreased 0.00330588 --> 0.00289652: saving state...\n",
      "Epoch 15/100 - Validation loss: 0.00289652 (Exact: 99.82% | Partial: 99.94%)\n"
     ]
    },
    {
     "name": "stderr",
     "output_type": "stream",
     "text": [
      "Training loss: 0.0113184 | LR: 0.000938154: 100%|██████████| 301/301 [00:40<00:00,  7.50it/s]  \n",
      "  0%|          | 0/26 [00:00<?, ?it/s]"
     ]
    },
    {
     "name": "stdout",
     "output_type": "stream",
     "text": [
      "Epoch 16/100 - Training loss: 0.00467477 | LR: 0.000938154\n"
     ]
    },
    {
     "name": "stderr",
     "output_type": "stream",
     "text": [
      "Validation loss: 0.001368: 100%|██████████| 26/26 [00:01<00:00, 14.37it/s]   \n",
      "  0%|          | 0/301 [00:00<?, ?it/s]"
     ]
    },
    {
     "name": "stdout",
     "output_type": "stream",
     "text": [
      "Epoch 16/100 - Validation loss: 0.00470747 (Exact: 99.76% | Partial: 99.82%)\n"
     ]
    },
    {
     "name": "stderr",
     "output_type": "stream",
     "text": [
      "Training loss: 0.00203666 | LR: 0.000930371: 100%|██████████| 301/301 [00:42<00:00,  7.04it/s] \n",
      "  0%|          | 0/26 [00:00<?, ?it/s]"
     ]
    },
    {
     "name": "stdout",
     "output_type": "stream",
     "text": [
      "Epoch 17/100 - Training loss: 0.00873912 | LR: 0.000930371\n"
     ]
    },
    {
     "name": "stderr",
     "output_type": "stream",
     "text": [
      "Validation loss: 0.0010256: 100%|██████████| 26/26 [00:01<00:00, 14.09it/s]  \n",
      "  0%|          | 0/301 [00:00<?, ?it/s]"
     ]
    },
    {
     "name": "stdout",
     "output_type": "stream",
     "text": [
      "Validation loss decreased 0.00470747 --> 0.00421346: saving state...\n",
      "Epoch 17/100 - Validation loss: 0.00421346 (Exact: 99.64% | Partial: 99.76%)\n"
     ]
    },
    {
     "name": "stderr",
     "output_type": "stream",
     "text": [
      "Training loss: 0.00223448 | LR: 0.000922164: 100%|██████████| 301/301 [00:39<00:00,  7.55it/s] \n",
      "  0%|          | 0/26 [00:00<?, ?it/s]"
     ]
    },
    {
     "name": "stdout",
     "output_type": "stream",
     "text": [
      "Epoch 18/100 - Training loss: 0.00450319 | LR: 0.000922164\n"
     ]
    },
    {
     "name": "stderr",
     "output_type": "stream",
     "text": [
      "Validation loss: 0.000507196: 100%|██████████| 26/26 [00:01<00:00, 14.85it/s]\n",
      "  0%|          | 0/301 [00:00<?, ?it/s]"
     ]
    },
    {
     "name": "stdout",
     "output_type": "stream",
     "text": [
      "Validation loss decreased 0.00421346 --> 0.00279935: saving state...\n",
      "Epoch 18/100 - Validation loss: 0.00279935 (Exact: 99.82% | Partial: 99.88%)\n"
     ]
    },
    {
     "name": "stderr",
     "output_type": "stream",
     "text": [
      "Training loss: 0.0300087 | LR: 0.000913541: 100%|██████████| 301/301 [00:40<00:00,  7.38it/s]  \n",
      "  0%|          | 0/26 [00:00<?, ?it/s]"
     ]
    },
    {
     "name": "stdout",
     "output_type": "stream",
     "text": [
      "Epoch 19/100 - Training loss: 0.00458321 | LR: 0.000913541\n"
     ]
    },
    {
     "name": "stderr",
     "output_type": "stream",
     "text": [
      "Validation loss: 0.000671327: 100%|██████████| 26/26 [00:01<00:00, 14.42it/s]\n",
      "  0%|          | 0/301 [00:00<?, ?it/s]"
     ]
    },
    {
     "name": "stdout",
     "output_type": "stream",
     "text": [
      "Epoch 19/100 - Validation loss: 0.00505671 (Exact: 99.58% | Partial: 99.76%)\n"
     ]
    },
    {
     "name": "stderr",
     "output_type": "stream",
     "text": [
      "Training loss: 0.000526369 | LR: 0.000904509: 100%|██████████| 301/301 [00:40<00:00,  7.51it/s]\n",
      "  0%|          | 0/26 [00:00<?, ?it/s]"
     ]
    },
    {
     "name": "stdout",
     "output_type": "stream",
     "text": [
      "Epoch 20/100 - Training loss: 0.00486071 | LR: 0.000904509\n"
     ]
    },
    {
     "name": "stderr",
     "output_type": "stream",
     "text": [
      "Validation loss: 0.00046819: 100%|██████████| 26/26 [00:01<00:00, 14.39it/s] \n",
      "  0%|          | 0/301 [00:00<?, ?it/s]"
     ]
    },
    {
     "name": "stdout",
     "output_type": "stream",
     "text": [
      "Validation loss decreased 0.00505671 --> 0.00290021: saving state...\n",
      "Epoch 20/100 - Validation loss: 0.00290021 (Exact: 99.70% | Partial: 99.82%)\n"
     ]
    },
    {
     "name": "stderr",
     "output_type": "stream",
     "text": [
      "Training loss: 0.0235202 | LR: 0.000895078: 100%|██████████| 301/301 [00:43<00:00,  6.95it/s]  \n",
      "  0%|          | 0/26 [00:00<?, ?it/s]"
     ]
    },
    {
     "name": "stdout",
     "output_type": "stream",
     "text": [
      "Epoch 21/100 - Training loss: 0.00479658 | LR: 0.000895078\n"
     ]
    },
    {
     "name": "stderr",
     "output_type": "stream",
     "text": [
      "Validation loss: 0.000500037: 100%|██████████| 26/26 [00:01<00:00, 14.80it/s]\n",
      "  0%|          | 0/301 [00:00<?, ?it/s]"
     ]
    },
    {
     "name": "stdout",
     "output_type": "stream",
     "text": [
      "Validation loss decreased 0.00290021 --> 0.00262296: saving state...\n",
      "Epoch 21/100 - Validation loss: 0.00262296 (Exact: 99.76% | Partial: 99.88%)\n"
     ]
    },
    {
     "name": "stderr",
     "output_type": "stream",
     "text": [
      "Training loss: 0.000903039 | LR: 0.000885257: 100%|██████████| 301/301 [00:40<00:00,  7.52it/s]\n",
      "  0%|          | 0/26 [00:00<?, ?it/s]"
     ]
    },
    {
     "name": "stdout",
     "output_type": "stream",
     "text": [
      "Epoch 22/100 - Training loss: 0.00604534 | LR: 0.000885257\n"
     ]
    },
    {
     "name": "stderr",
     "output_type": "stream",
     "text": [
      "Validation loss: 0.000472315: 100%|██████████| 26/26 [00:01<00:00, 14.42it/s]\n",
      "  0%|          | 0/301 [00:00<?, ?it/s]"
     ]
    },
    {
     "name": "stdout",
     "output_type": "stream",
     "text": [
      "Epoch 22/100 - Validation loss: 0.00317295 (Exact: 99.82% | Partial: 99.88%)\n"
     ]
    },
    {
     "name": "stderr",
     "output_type": "stream",
     "text": [
      "Training loss: 0.00546091 | LR: 0.000875056: 100%|██████████| 301/301 [00:40<00:00,  7.37it/s] \n",
      "  0%|          | 0/26 [00:00<?, ?it/s]"
     ]
    },
    {
     "name": "stdout",
     "output_type": "stream",
     "text": [
      "Epoch 23/100 - Training loss: 0.0067268 | LR: 0.000875056\n"
     ]
    },
    {
     "name": "stderr",
     "output_type": "stream",
     "text": [
      "Validation loss: 0.00101709: 100%|██████████| 26/26 [00:01<00:00, 14.75it/s] \n",
      "  0%|          | 0/301 [00:00<?, ?it/s]"
     ]
    },
    {
     "name": "stdout",
     "output_type": "stream",
     "text": [
      "Validation loss decreased 0.00317295 --> 0.00297283: saving state...\n",
      "Epoch 23/100 - Validation loss: 0.00297283 (Exact: 99.82% | Partial: 99.88%)\n"
     ]
    },
    {
     "name": "stderr",
     "output_type": "stream",
     "text": [
      "Training loss: 0.000433755 | LR: 0.000864485: 100%|██████████| 301/301 [00:42<00:00,  7.04it/s]\n",
      "  0%|          | 0/26 [00:00<?, ?it/s]"
     ]
    },
    {
     "name": "stdout",
     "output_type": "stream",
     "text": [
      "Epoch 24/100 - Training loss: 0.00292715 | LR: 0.000864485\n"
     ]
    },
    {
     "name": "stderr",
     "output_type": "stream",
     "text": [
      "Validation loss: 0.000345569: 100%|██████████| 26/26 [00:01<00:00, 14.84it/s]\n",
      "  0%|          | 0/301 [00:00<?, ?it/s]"
     ]
    },
    {
     "name": "stdout",
     "output_type": "stream",
     "text": [
      "Validation loss decreased 0.00297283 --> 0.00286339: saving state...\n",
      "Epoch 24/100 - Validation loss: 0.00286339 (Exact: 99.94% | Partial: 99.94%)\n"
     ]
    },
    {
     "name": "stderr",
     "output_type": "stream",
     "text": [
      "Training loss: 0.0315594 | LR: 0.000853554: 100%|██████████| 301/301 [00:43<00:00,  6.98it/s]  \n",
      "  0%|          | 0/26 [00:00<?, ?it/s]"
     ]
    },
    {
     "name": "stdout",
     "output_type": "stream",
     "text": [
      "Epoch 25/100 - Training loss: 0.0048215 | LR: 0.000853554\n"
     ]
    },
    {
     "name": "stderr",
     "output_type": "stream",
     "text": [
      "Validation loss: 0.000560905: 100%|██████████| 26/26 [00:01<00:00, 14.75it/s]\n",
      "  0%|          | 0/301 [00:00<?, ?it/s]"
     ]
    },
    {
     "name": "stdout",
     "output_type": "stream",
     "text": [
      "Epoch 25/100 - Validation loss: 0.00405096 (Exact: 99.64% | Partial: 99.70%)\n"
     ]
    },
    {
     "name": "stderr",
     "output_type": "stream",
     "text": [
      "Training loss: 0.000232791 | LR: 0.000842274: 100%|██████████| 301/301 [00:40<00:00,  7.36it/s]\n",
      "  0%|          | 0/26 [00:00<?, ?it/s]"
     ]
    },
    {
     "name": "stdout",
     "output_type": "stream",
     "text": [
      "Epoch 26/100 - Training loss: 0.0031761 | LR: 0.000842274\n"
     ]
    },
    {
     "name": "stderr",
     "output_type": "stream",
     "text": [
      "Validation loss: 0.000259645: 100%|██████████| 26/26 [00:01<00:00, 14.79it/s]\n",
      "  0%|          | 0/301 [00:00<?, ?it/s]"
     ]
    },
    {
     "name": "stdout",
     "output_type": "stream",
     "text": [
      "Validation loss decreased 0.00405096 --> 0.00246411: saving state...\n",
      "Epoch 26/100 - Validation loss: 0.00246411 (Exact: 99.94% | Partial: 99.94%)\n"
     ]
    },
    {
     "name": "stderr",
     "output_type": "stream",
     "text": [
      "Training loss: 0.00383116 | LR: 0.000830657: 100%|██████████| 301/301 [00:40<00:00,  7.50it/s] \n",
      "  0%|          | 0/26 [00:00<?, ?it/s]"
     ]
    },
    {
     "name": "stdout",
     "output_type": "stream",
     "text": [
      "Epoch 27/100 - Training loss: 0.00207398 | LR: 0.000830657\n"
     ]
    },
    {
     "name": "stderr",
     "output_type": "stream",
     "text": [
      "Validation loss: 0.00105527: 100%|██████████| 26/26 [00:01<00:00, 14.79it/s] \n",
      "  0%|          | 0/301 [00:00<?, ?it/s]"
     ]
    },
    {
     "name": "stdout",
     "output_type": "stream",
     "text": [
      "Epoch 27/100 - Validation loss: 0.00303335 (Exact: 99.82% | Partial: 99.94%)\n"
     ]
    },
    {
     "name": "stderr",
     "output_type": "stream",
     "text": [
      "Training loss: 0.000917974 | LR: 0.000818713: 100%|██████████| 301/301 [00:38<00:00,  7.85it/s]\n",
      "  0%|          | 0/26 [00:00<?, ?it/s]"
     ]
    },
    {
     "name": "stdout",
     "output_type": "stream",
     "text": [
      "Epoch 28/100 - Training loss: 0.00226754 | LR: 0.000818713\n"
     ]
    },
    {
     "name": "stderr",
     "output_type": "stream",
     "text": [
      "Validation loss: 0.000238471: 100%|██████████| 26/26 [00:01<00:00, 14.55it/s]\n",
      "  0%|          | 0/301 [00:00<?, ?it/s]"
     ]
    },
    {
     "name": "stdout",
     "output_type": "stream",
     "text": [
      "Validation loss decreased 0.00303335 --> 0.00298289: saving state...\n",
      "Epoch 28/100 - Validation loss: 0.00298289 (Exact: 99.88% | Partial: 99.94%)\n"
     ]
    },
    {
     "name": "stderr",
     "output_type": "stream",
     "text": [
      "Training loss: 0.00177399 | LR: 0.000806454: 100%|██████████| 301/301 [00:43<00:00,  7.00it/s] \n",
      "  0%|          | 0/26 [00:00<?, ?it/s]"
     ]
    },
    {
     "name": "stdout",
     "output_type": "stream",
     "text": [
      "Epoch 29/100 - Training loss: 0.0029165 | LR: 0.000806454\n"
     ]
    },
    {
     "name": "stderr",
     "output_type": "stream",
     "text": [
      "Validation loss: 0.000540118: 100%|██████████| 26/26 [00:01<00:00, 14.15it/s]\n",
      "  0%|          | 0/301 [00:00<?, ?it/s]"
     ]
    },
    {
     "name": "stdout",
     "output_type": "stream",
     "text": [
      "Epoch 29/100 - Validation loss: 0.00318603 (Exact: 99.64% | Partial: 99.70%)\n"
     ]
    },
    {
     "name": "stderr",
     "output_type": "stream",
     "text": [
      "Training loss: 0.00075172 | LR: 0.000793893: 100%|██████████| 301/301 [00:41<00:00,  7.25it/s] \n",
      "  0%|          | 0/26 [00:00<?, ?it/s]"
     ]
    },
    {
     "name": "stdout",
     "output_type": "stream",
     "text": [
      "Epoch 30/100 - Training loss: 0.00735003 | LR: 0.000793893\n"
     ]
    },
    {
     "name": "stderr",
     "output_type": "stream",
     "text": [
      "Validation loss: 0.00101497: 100%|██████████| 26/26 [00:01<00:00, 14.57it/s] \n",
      "  0%|          | 0/301 [00:00<?, ?it/s]"
     ]
    },
    {
     "name": "stdout",
     "output_type": "stream",
     "text": [
      "Epoch 30/100 - Validation loss: 0.00318628 (Exact: 99.70% | Partial: 99.70%)\n"
     ]
    },
    {
     "name": "stderr",
     "output_type": "stream",
     "text": [
      "Training loss: 0.000211639 | LR: 0.000781043: 100%|██████████| 301/301 [00:39<00:00,  7.68it/s]\n",
      "  0%|          | 0/26 [00:00<?, ?it/s]"
     ]
    },
    {
     "name": "stdout",
     "output_type": "stream",
     "text": [
      "Epoch 31/100 - Training loss: 0.00310604 | LR: 0.000781043\n"
     ]
    },
    {
     "name": "stderr",
     "output_type": "stream",
     "text": [
      "Validation loss: 0.000210479: 100%|██████████| 26/26 [00:01<00:00, 15.52it/s]\n",
      "  0%|          | 0/301 [00:00<?, ?it/s]"
     ]
    },
    {
     "name": "stdout",
     "output_type": "stream",
     "text": [
      "Validation loss decreased 0.00318628 --> 0.00279214: saving state...\n",
      "Epoch 31/100 - Validation loss: 0.00279214 (Exact: 99.76% | Partial: 99.82%)\n"
     ]
    },
    {
     "name": "stderr",
     "output_type": "stream",
     "text": [
      "Training loss: 0.000130383 | LR: 0.000767914: 100%|██████████| 301/301 [00:40<00:00,  7.42it/s]\n",
      "  0%|          | 0/26 [00:00<?, ?it/s]"
     ]
    },
    {
     "name": "stdout",
     "output_type": "stream",
     "text": [
      "Epoch 32/100 - Training loss: 0.0022224 | LR: 0.000767914\n"
     ]
    },
    {
     "name": "stderr",
     "output_type": "stream",
     "text": [
      "Validation loss: 0.000349475: 100%|██████████| 26/26 [00:01<00:00, 14.86it/s]\n",
      "  0%|          | 0/301 [00:00<?, ?it/s]"
     ]
    },
    {
     "name": "stdout",
     "output_type": "stream",
     "text": [
      "Epoch 32/100 - Validation loss: 0.00299016 (Exact: 99.76% | Partial: 99.76%)\n"
     ]
    },
    {
     "name": "stderr",
     "output_type": "stream",
     "text": [
      "Training loss: 0.000481044 | LR: 0.000754522: 100%|██████████| 301/301 [00:39<00:00,  7.64it/s]\n",
      "  0%|          | 0/26 [00:00<?, ?it/s]"
     ]
    },
    {
     "name": "stdout",
     "output_type": "stream",
     "text": [
      "Epoch 33/100 - Training loss: 0.00305729 | LR: 0.000754522\n"
     ]
    },
    {
     "name": "stderr",
     "output_type": "stream",
     "text": [
      "Validation loss: 0.000179245: 100%|██████████| 26/26 [00:04<00:00,  5.95it/s]\n",
      "  0%|          | 0/301 [00:00<?, ?it/s]"
     ]
    },
    {
     "name": "stdout",
     "output_type": "stream",
     "text": [
      "Epoch 33/100 - Validation loss: 0.00331023 (Exact: 99.64% | Partial: 99.76%)\n"
     ]
    },
    {
     "name": "stderr",
     "output_type": "stream",
     "text": [
      "Training loss: 0.000437295 | LR: 0.000740878: 100%|██████████| 301/301 [00:39<00:00,  7.54it/s]\n",
      "  0%|          | 0/26 [00:00<?, ?it/s]"
     ]
    },
    {
     "name": "stdout",
     "output_type": "stream",
     "text": [
      "Epoch 34/100 - Training loss: 0.00227395 | LR: 0.000740878\n"
     ]
    },
    {
     "name": "stderr",
     "output_type": "stream",
     "text": [
      "Validation loss: 0.00022701: 100%|██████████| 26/26 [00:01<00:00, 15.17it/s] \n",
      "  0%|          | 0/301 [00:00<?, ?it/s]"
     ]
    },
    {
     "name": "stdout",
     "output_type": "stream",
     "text": [
      "Epoch 34/100 - Validation loss: 0.00358329 (Exact: 99.76% | Partial: 99.82%)\n"
     ]
    },
    {
     "name": "stderr",
     "output_type": "stream",
     "text": [
      "Training loss: 0.00168227 | LR: 0.000726996: 100%|██████████| 301/301 [00:40<00:00,  7.39it/s] \n",
      "  0%|          | 0/26 [00:00<?, ?it/s]"
     ]
    },
    {
     "name": "stdout",
     "output_type": "stream",
     "text": [
      "Epoch 35/100 - Training loss: 0.00220654 | LR: 0.000726996\n"
     ]
    },
    {
     "name": "stderr",
     "output_type": "stream",
     "text": [
      "Validation loss: 0.00011147: 100%|██████████| 26/26 [00:01<00:00, 15.05it/s] \n"
     ]
    },
    {
     "name": "stdout",
     "output_type": "stream",
     "text": [
      "Validation loss decreased 0.00358329 --> 0.00273908: saving state...\n",
      "Epoch 35/100 - Validation loss: 0.00273908 (Exact: 99.76% | Partial: 99.82%)\n"
     ]
    },
    {
     "name": "stderr",
     "output_type": "stream",
     "text": [
      "Training loss: 0.000267914 | LR: 0.000712891: 100%|██████████| 301/301 [00:40<00:00,  7.42it/s]\n",
      "  0%|          | 0/26 [00:00<?, ?it/s]"
     ]
    },
    {
     "name": "stdout",
     "output_type": "stream",
     "text": [
      "Epoch 36/100 - Training loss: 0.00271061 | LR: 0.000712891\n"
     ]
    },
    {
     "name": "stderr",
     "output_type": "stream",
     "text": [
      "Validation loss: 0.000136239: 100%|██████████| 26/26 [00:01<00:00, 14.51it/s]\n",
      "  0%|          | 0/301 [00:00<?, ?it/s]"
     ]
    },
    {
     "name": "stdout",
     "output_type": "stream",
     "text": [
      "Epoch 36/100 - Validation loss: 0.00316638 (Exact: 99.76% | Partial: 99.82%)\n"
     ]
    },
    {
     "name": "stderr",
     "output_type": "stream",
     "text": [
      "Training loss: 0.00024709 | LR: 0.000698575: 100%|██████████| 301/301 [00:40<00:00,  7.35it/s] \n",
      "  0%|          | 0/26 [00:00<?, ?it/s]"
     ]
    },
    {
     "name": "stdout",
     "output_type": "stream",
     "text": [
      "Epoch 37/100 - Training loss: 0.00193511 | LR: 0.000698575\n"
     ]
    },
    {
     "name": "stderr",
     "output_type": "stream",
     "text": [
      "Validation loss: 8.18973e-05: 100%|██████████| 26/26 [00:01<00:00, 13.66it/s]\n",
      "  0%|          | 0/301 [00:00<?, ?it/s]"
     ]
    },
    {
     "name": "stdout",
     "output_type": "stream",
     "text": [
      "Validation loss decreased 0.00316638 --> 0.00283264: saving state...\n",
      "Epoch 37/100 - Validation loss: 0.00283264 (Exact: 99.76% | Partial: 99.82%)\n"
     ]
    },
    {
     "name": "stderr",
     "output_type": "stream",
     "text": [
      "Training loss: 0.000310988 | LR: 0.000684064: 100%|██████████| 301/301 [00:43<00:00,  6.90it/s]\n",
      "  0%|          | 0/26 [00:00<?, ?it/s]"
     ]
    },
    {
     "name": "stdout",
     "output_type": "stream",
     "text": [
      "Epoch 38/100 - Training loss: 0.00191321 | LR: 0.000684064\n"
     ]
    },
    {
     "name": "stderr",
     "output_type": "stream",
     "text": [
      "Validation loss: 0.000101306: 100%|██████████| 26/26 [00:01<00:00, 15.65it/s]\n"
     ]
    },
    {
     "name": "stdout",
     "output_type": "stream",
     "text": [
      "Validation loss decreased 0.00283264 --> 0.00234006: saving state...\n",
      "Epoch 38/100 - Validation loss: 0.00234006 (Exact: 99.76% | Partial: 99.82%)\n"
     ]
    },
    {
     "name": "stderr",
     "output_type": "stream",
     "text": [
      "Training loss: 0.000927494 | LR: 0.00066937: 100%|██████████| 301/301 [00:39<00:00,  7.55it/s] \n",
      "  0%|          | 0/26 [00:00<?, ?it/s]"
     ]
    },
    {
     "name": "stdout",
     "output_type": "stream",
     "text": [
      "Epoch 39/100 - Training loss: 0.00126701 | LR: 0.00066937\n"
     ]
    },
    {
     "name": "stderr",
     "output_type": "stream",
     "text": [
      "Validation loss: 6.14934e-05: 100%|██████████| 26/26 [00:01<00:00, 13.38it/s]\n"
     ]
    },
    {
     "name": "stdout",
     "output_type": "stream",
     "text": [
      "Validation loss decreased 0.00234006 --> 0.00223483: saving state...\n",
      "Epoch 39/100 - Validation loss: 0.00223483 (Exact: 99.88% | Partial: 99.94%)\n"
     ]
    },
    {
     "name": "stderr",
     "output_type": "stream",
     "text": [
      "Training loss: 0.000561756 | LR: 0.00065451: 100%|██████████| 301/301 [00:38<00:00,  7.73it/s] \n",
      "  0%|          | 0/26 [00:00<?, ?it/s]"
     ]
    },
    {
     "name": "stdout",
     "output_type": "stream",
     "text": [
      "Epoch 40/100 - Training loss: 0.00161425 | LR: 0.00065451\n"
     ]
    },
    {
     "name": "stderr",
     "output_type": "stream",
     "text": [
      "Validation loss: 8.68299e-05: 100%|██████████| 26/26 [00:01<00:00, 13.30it/s]\n",
      "  0%|          | 0/301 [00:00<?, ?it/s]"
     ]
    },
    {
     "name": "stdout",
     "output_type": "stream",
     "text": [
      "Epoch 40/100 - Validation loss: 0.00231198 (Exact: 99.70% | Partial: 99.76%)\n"
     ]
    },
    {
     "name": "stderr",
     "output_type": "stream",
     "text": [
      "Training loss: 0.000253459 | LR: 0.000639497: 100%|██████████| 301/301 [00:40<00:00,  7.52it/s]\n",
      "  0%|          | 0/26 [00:00<?, ?it/s]"
     ]
    },
    {
     "name": "stdout",
     "output_type": "stream",
     "text": [
      "Epoch 41/100 - Training loss: 0.00170518 | LR: 0.000639497\n"
     ]
    },
    {
     "name": "stderr",
     "output_type": "stream",
     "text": [
      "Validation loss: 6.5799e-05: 100%|██████████| 26/26 [00:03<00:00,  7.59it/s] \n",
      "  0%|          | 0/301 [00:00<?, ?it/s]"
     ]
    },
    {
     "name": "stdout",
     "output_type": "stream",
     "text": [
      "Epoch 41/100 - Validation loss: 0.00259931 (Exact: 99.76% | Partial: 99.88%)\n"
     ]
    },
    {
     "name": "stderr",
     "output_type": "stream",
     "text": [
      "Training loss: 0.000349305 | LR: 0.000624346: 100%|██████████| 301/301 [00:41<00:00,  7.20it/s]\n",
      "  0%|          | 0/26 [00:00<?, ?it/s]"
     ]
    },
    {
     "name": "stdout",
     "output_type": "stream",
     "text": [
      "Epoch 42/100 - Training loss: 0.00265452 | LR: 0.000624346\n"
     ]
    },
    {
     "name": "stderr",
     "output_type": "stream",
     "text": [
      "Validation loss: 0.0031261: 100%|██████████| 26/26 [00:01<00:00, 14.30it/s]  \n",
      "  0%|          | 0/301 [00:00<?, ?it/s]"
     ]
    },
    {
     "name": "stdout",
     "output_type": "stream",
     "text": [
      "Epoch 42/100 - Validation loss: 0.0031491 (Exact: 99.58% | Partial: 99.64%)\n"
     ]
    },
    {
     "name": "stderr",
     "output_type": "stream",
     "text": [
      "Training loss: 0.000381925 | LR: 0.000609073: 100%|██████████| 301/301 [00:41<00:00,  7.28it/s]\n",
      "  0%|          | 0/26 [00:00<?, ?it/s]"
     ]
    },
    {
     "name": "stdout",
     "output_type": "stream",
     "text": [
      "Epoch 43/100 - Training loss: 0.00646071 | LR: 0.000609073\n"
     ]
    },
    {
     "name": "stderr",
     "output_type": "stream",
     "text": [
      "Validation loss: 0.000409599: 100%|██████████| 26/26 [00:01<00:00, 15.13it/s]\n",
      "  0%|          | 0/301 [00:00<?, ?it/s]"
     ]
    },
    {
     "name": "stdout",
     "output_type": "stream",
     "text": [
      "Validation loss decreased 0.0031491 --> 0.00261259: saving state...\n",
      "Epoch 43/100 - Validation loss: 0.00261259 (Exact: 99.70% | Partial: 99.82%)\n"
     ]
    },
    {
     "name": "stderr",
     "output_type": "stream",
     "text": [
      "Training loss: 0.000610056 | LR: 0.000593692: 100%|██████████| 301/301 [00:40<00:00,  7.46it/s]\n",
      "  0%|          | 0/26 [00:00<?, ?it/s]"
     ]
    },
    {
     "name": "stdout",
     "output_type": "stream",
     "text": [
      "Epoch 44/100 - Training loss: 0.00218394 | LR: 0.000593692\n"
     ]
    },
    {
     "name": "stderr",
     "output_type": "stream",
     "text": [
      "Validation loss: 0.000539716: 100%|██████████| 26/26 [00:01<00:00, 14.13it/s]\n",
      "  0%|          | 0/301 [00:00<?, ?it/s]"
     ]
    },
    {
     "name": "stdout",
     "output_type": "stream",
     "text": [
      "Validation loss decreased 0.00261259 --> 0.00196012: saving state...\n",
      "Epoch 44/100 - Validation loss: 0.00196012 (Exact: 99.70% | Partial: 99.82%)\n"
     ]
    },
    {
     "name": "stderr",
     "output_type": "stream",
     "text": [
      "Training loss: 0.000680226 | LR: 0.000578219: 100%|██████████| 301/301 [00:42<00:00,  7.15it/s]\n",
      "  0%|          | 0/26 [00:00<?, ?it/s]"
     ]
    },
    {
     "name": "stdout",
     "output_type": "stream",
     "text": [
      "Epoch 45/100 - Training loss: 0.00187437 | LR: 0.000578219\n"
     ]
    },
    {
     "name": "stderr",
     "output_type": "stream",
     "text": [
      "Validation loss: 0.000678167: 100%|██████████| 26/26 [00:01<00:00, 14.60it/s]\n",
      "  0%|          | 0/301 [00:00<?, ?it/s]"
     ]
    },
    {
     "name": "stdout",
     "output_type": "stream",
     "text": [
      "Epoch 45/100 - Validation loss: 0.00290909 (Exact: 99.70% | Partial: 99.82%)\n"
     ]
    },
    {
     "name": "stderr",
     "output_type": "stream",
     "text": [
      "Training loss: 0.000316283 | LR: 0.000562668: 100%|██████████| 301/301 [00:40<00:00,  7.50it/s]\n",
      "  0%|          | 0/26 [00:00<?, ?it/s]"
     ]
    },
    {
     "name": "stdout",
     "output_type": "stream",
     "text": [
      "Epoch 46/100 - Training loss: 0.0014421 | LR: 0.000562668\n"
     ]
    },
    {
     "name": "stderr",
     "output_type": "stream",
     "text": [
      "Validation loss: 7.88449e-05: 100%|██████████| 26/26 [00:01<00:00, 14.85it/s]\n",
      "  0%|          | 0/301 [00:00<?, ?it/s]"
     ]
    },
    {
     "name": "stdout",
     "output_type": "stream",
     "text": [
      "Epoch 46/100 - Validation loss: 0.00307969 (Exact: 99.82% | Partial: 99.94%)\n"
     ]
    },
    {
     "name": "stderr",
     "output_type": "stream",
     "text": [
      "Training loss: 0.000639241 | LR: 0.000547056: 100%|██████████| 301/301 [00:39<00:00,  7.65it/s]\n",
      "  0%|          | 0/26 [00:00<?, ?it/s]"
     ]
    },
    {
     "name": "stdout",
     "output_type": "stream",
     "text": [
      "Epoch 47/100 - Training loss: 0.00117736 | LR: 0.000547056\n"
     ]
    },
    {
     "name": "stderr",
     "output_type": "stream",
     "text": [
      "Validation loss: 8.59404e-05: 100%|██████████| 26/26 [00:01<00:00, 14.49it/s]\n",
      "  0%|          | 0/301 [00:00<?, ?it/s]"
     ]
    },
    {
     "name": "stdout",
     "output_type": "stream",
     "text": [
      "Validation loss decreased 0.00307969 --> 0.00252282: saving state...\n",
      "Epoch 47/100 - Validation loss: 0.00252282 (Exact: 99.76% | Partial: 99.88%)\n"
     ]
    },
    {
     "name": "stderr",
     "output_type": "stream",
     "text": [
      "Training loss: 0.000257797 | LR: 0.000531397: 100%|██████████| 301/301 [00:41<00:00,  7.27it/s]\n",
      "  0%|          | 0/26 [00:00<?, ?it/s]"
     ]
    },
    {
     "name": "stdout",
     "output_type": "stream",
     "text": [
      "Epoch 48/100 - Training loss: 0.00156581 | LR: 0.000531397\n"
     ]
    },
    {
     "name": "stderr",
     "output_type": "stream",
     "text": [
      "Validation loss: 0.00012982: 100%|██████████| 26/26 [00:01<00:00, 14.43it/s] \n",
      "  0%|          | 0/301 [00:00<?, ?it/s]"
     ]
    },
    {
     "name": "stdout",
     "output_type": "stream",
     "text": [
      "Epoch 48/100 - Validation loss: 0.00293436 (Exact: 99.82% | Partial: 99.94%)\n"
     ]
    },
    {
     "name": "stderr",
     "output_type": "stream",
     "text": [
      "Training loss: 6.75136e-05 | LR: 0.000515707: 100%|██████████| 301/301 [00:42<00:00,  7.02it/s]\n",
      "  0%|          | 0/26 [00:00<?, ?it/s]"
     ]
    },
    {
     "name": "stdout",
     "output_type": "stream",
     "text": [
      "Epoch 49/100 - Training loss: 0.00092184 | LR: 0.000515707\n"
     ]
    },
    {
     "name": "stderr",
     "output_type": "stream",
     "text": [
      "Validation loss: 7.12094e-05: 100%|██████████| 26/26 [00:01<00:00, 14.86it/s]\n",
      "  0%|          | 0/301 [00:00<?, ?it/s]"
     ]
    },
    {
     "name": "stdout",
     "output_type": "stream",
     "text": [
      "Epoch 49/100 - Validation loss: 0.00347586 (Exact: 99.76% | Partial: 99.88%)\n"
     ]
    },
    {
     "name": "stderr",
     "output_type": "stream",
     "text": [
      "Training loss: 0.000105479 | LR: 0.000500002: 100%|██████████| 301/301 [00:40<00:00,  7.51it/s]\n",
      "  0%|          | 0/26 [00:00<?, ?it/s]"
     ]
    },
    {
     "name": "stdout",
     "output_type": "stream",
     "text": [
      "Epoch 50/100 - Training loss: 0.00102059 | LR: 0.000500002\n"
     ]
    },
    {
     "name": "stderr",
     "output_type": "stream",
     "text": [
      "Validation loss: 5.47864e-05: 100%|██████████| 26/26 [00:01<00:00, 15.28it/s]\n",
      "  0%|          | 0/301 [00:00<?, ?it/s]"
     ]
    },
    {
     "name": "stdout",
     "output_type": "stream",
     "text": [
      "Validation loss decreased 0.00347586 --> 0.00296537: saving state...\n",
      "Epoch 50/100 - Validation loss: 0.00296537 (Exact: 99.82% | Partial: 99.94%)\n"
     ]
    },
    {
     "name": "stderr",
     "output_type": "stream",
     "text": [
      "Training loss: 0.000180065 | LR: 0.000484297: 100%|██████████| 301/301 [00:39<00:00,  7.63it/s]\n",
      "  0%|          | 0/26 [00:00<?, ?it/s]"
     ]
    },
    {
     "name": "stdout",
     "output_type": "stream",
     "text": [
      "Epoch 51/100 - Training loss: 0.000878409 | LR: 0.000484297\n"
     ]
    },
    {
     "name": "stderr",
     "output_type": "stream",
     "text": [
      "Validation loss: 4.78799e-05: 100%|██████████| 26/26 [00:01<00:00, 15.20it/s]\n",
      "  0%|          | 0/301 [00:00<?, ?it/s]"
     ]
    },
    {
     "name": "stdout",
     "output_type": "stream",
     "text": [
      "Epoch 51/100 - Validation loss: 0.00342933 (Exact: 99.82% | Partial: 99.94%)\n"
     ]
    },
    {
     "name": "stderr",
     "output_type": "stream",
     "text": [
      "Training loss: 4.90946e-05 | LR: 0.000468607: 100%|██████████| 301/301 [00:40<00:00,  7.35it/s]\n",
      "  0%|          | 0/26 [00:00<?, ?it/s]"
     ]
    },
    {
     "name": "stdout",
     "output_type": "stream",
     "text": [
      "Epoch 52/100 - Training loss: 0.00106314 | LR: 0.000468607\n"
     ]
    },
    {
     "name": "stderr",
     "output_type": "stream",
     "text": [
      "Validation loss: 4.69998e-05: 100%|██████████| 26/26 [00:01<00:00, 14.16it/s]\n",
      "  0%|          | 0/301 [00:00<?, ?it/s]"
     ]
    },
    {
     "name": "stdout",
     "output_type": "stream",
     "text": [
      "Validation loss decreased 0.00342933 --> 0.00271515: saving state...\n",
      "Epoch 52/100 - Validation loss: 0.00271515 (Exact: 99.76% | Partial: 99.88%)\n"
     ]
    },
    {
     "name": "stderr",
     "output_type": "stream",
     "text": [
      "Training loss: 7.64129e-05 | LR: 0.000452948: 100%|██████████| 301/301 [00:42<00:00,  7.13it/s]\n",
      "  0%|          | 0/26 [00:00<?, ?it/s]"
     ]
    },
    {
     "name": "stdout",
     "output_type": "stream",
     "text": [
      "Epoch 53/100 - Training loss: 0.00101056 | LR: 0.000452948\n"
     ]
    },
    {
     "name": "stderr",
     "output_type": "stream",
     "text": [
      "Validation loss: 5.14426e-05: 100%|██████████| 26/26 [00:01<00:00, 14.75it/s]\n",
      "  0%|          | 0/301 [00:00<?, ?it/s]"
     ]
    },
    {
     "name": "stdout",
     "output_type": "stream",
     "text": [
      "Epoch 53/100 - Validation loss: 0.00341691 (Exact: 99.82% | Partial: 99.94%)\n"
     ]
    },
    {
     "name": "stderr",
     "output_type": "stream",
     "text": [
      "Training loss: 4.32048e-05 | LR: 0.000437336: 100%|██████████| 301/301 [00:40<00:00,  7.45it/s]\n",
      "  0%|          | 0/26 [00:00<?, ?it/s]"
     ]
    },
    {
     "name": "stdout",
     "output_type": "stream",
     "text": [
      "Epoch 54/100 - Training loss: 0.00133406 | LR: 0.000437336\n"
     ]
    },
    {
     "name": "stderr",
     "output_type": "stream",
     "text": [
      "Validation loss: 5.52437e-05: 100%|██████████| 26/26 [00:01<00:00, 14.49it/s]\n",
      "  0%|          | 0/301 [00:00<?, ?it/s]"
     ]
    },
    {
     "name": "stdout",
     "output_type": "stream",
     "text": [
      "Validation loss decreased 0.00341691 --> 0.00226686: saving state...\n",
      "Epoch 54/100 - Validation loss: 0.00226686 (Exact: 99.82% | Partial: 99.94%)\n"
     ]
    },
    {
     "name": "stderr",
     "output_type": "stream",
     "text": [
      "Training loss: 3.95364e-05 | LR: 0.000421785: 100%|██████████| 301/301 [00:39<00:00,  7.67it/s]\n",
      "  0%|          | 0/26 [00:00<?, ?it/s]"
     ]
    },
    {
     "name": "stdout",
     "output_type": "stream",
     "text": [
      "Epoch 55/100 - Training loss: 0.000613346 | LR: 0.000421785\n"
     ]
    },
    {
     "name": "stderr",
     "output_type": "stream",
     "text": [
      "Validation loss: 3.87749e-05: 100%|██████████| 26/26 [00:01<00:00, 14.62it/s]\n",
      "  0%|          | 0/301 [00:00<?, ?it/s]"
     ]
    },
    {
     "name": "stdout",
     "output_type": "stream",
     "text": [
      "Epoch 55/100 - Validation loss: 0.00312758 (Exact: 99.70% | Partial: 99.82%)\n"
     ]
    },
    {
     "name": "stderr",
     "output_type": "stream",
     "text": [
      "Training loss: 0.000179506 | LR: 0.000406312: 100%|██████████| 301/301 [00:40<00:00,  7.46it/s]\n",
      "  0%|          | 0/26 [00:00<?, ?it/s]"
     ]
    },
    {
     "name": "stdout",
     "output_type": "stream",
     "text": [
      "Epoch 56/100 - Training loss: 0.00115812 | LR: 0.000406312\n"
     ]
    },
    {
     "name": "stderr",
     "output_type": "stream",
     "text": [
      "Validation loss: 3.87121e-05: 100%|██████████| 26/26 [00:01<00:00, 14.50it/s]\n",
      "  0%|          | 0/301 [00:00<?, ?it/s]"
     ]
    },
    {
     "name": "stdout",
     "output_type": "stream",
     "text": [
      "Validation loss decreased 0.00312758 --> 0.00256326: saving state...\n",
      "Epoch 56/100 - Validation loss: 0.00256326 (Exact: 99.82% | Partial: 99.88%)\n"
     ]
    },
    {
     "name": "stderr",
     "output_type": "stream",
     "text": [
      "Training loss: 0.0184098 | LR: 0.000390931: 100%|██████████| 301/301 [00:41<00:00,  7.21it/s]  \n",
      "  0%|          | 0/26 [00:00<?, ?it/s]"
     ]
    },
    {
     "name": "stdout",
     "output_type": "stream",
     "text": [
      "Epoch 57/100 - Training loss: 0.0016005 | LR: 0.000390931\n"
     ]
    },
    {
     "name": "stderr",
     "output_type": "stream",
     "text": [
      "Validation loss: 4.11895e-05: 100%|██████████| 26/26 [00:01<00:00, 14.02it/s]\n",
      "  0%|          | 0/301 [00:00<?, ?it/s]"
     ]
    },
    {
     "name": "stdout",
     "output_type": "stream",
     "text": [
      "Epoch 57/100 - Validation loss: 0.00278748 (Exact: 99.76% | Partial: 99.88%)\n"
     ]
    },
    {
     "name": "stderr",
     "output_type": "stream",
     "text": [
      "Training loss: 0.000213944 | LR: 0.000375658: 100%|██████████| 301/301 [00:42<00:00,  7.15it/s]\n",
      "  0%|          | 0/26 [00:00<?, ?it/s]"
     ]
    },
    {
     "name": "stdout",
     "output_type": "stream",
     "text": [
      "Epoch 58/100 - Training loss: 0.00111337 | LR: 0.000375658\n"
     ]
    },
    {
     "name": "stderr",
     "output_type": "stream",
     "text": [
      "Validation loss: 4.36666e-05: 100%|██████████| 26/26 [00:01<00:00, 14.60it/s]\n",
      "  0%|          | 0/301 [00:00<?, ?it/s]"
     ]
    },
    {
     "name": "stdout",
     "output_type": "stream",
     "text": [
      "Validation loss decreased 0.00278748 --> 0.00265573: saving state...\n",
      "Epoch 58/100 - Validation loss: 0.00265573 (Exact: 99.82% | Partial: 99.88%)\n"
     ]
    },
    {
     "name": "stderr",
     "output_type": "stream",
     "text": [
      "Training loss: 6.22378e-05 | LR: 0.000360507: 100%|██████████| 301/301 [00:41<00:00,  7.34it/s]\n",
      "  0%|          | 0/26 [00:00<?, ?it/s]"
     ]
    },
    {
     "name": "stdout",
     "output_type": "stream",
     "text": [
      "Epoch 59/100 - Training loss: 0.00225614 | LR: 0.000360507\n"
     ]
    },
    {
     "name": "stderr",
     "output_type": "stream",
     "text": [
      "Validation loss: 5.41868e-05: 100%|██████████| 26/26 [00:01<00:00, 14.61it/s]\n",
      "  0%|          | 0/301 [00:00<?, ?it/s]"
     ]
    },
    {
     "name": "stdout",
     "output_type": "stream",
     "text": [
      "Epoch 59/100 - Validation loss: 0.0035149 (Exact: 99.76% | Partial: 99.82%)\n"
     ]
    },
    {
     "name": "stderr",
     "output_type": "stream",
     "text": [
      "Training loss: 0.000330105 | LR: 0.000345494: 100%|██████████| 301/301 [00:42<00:00,  7.02it/s]\n",
      "  0%|          | 0/26 [00:00<?, ?it/s]"
     ]
    },
    {
     "name": "stdout",
     "output_type": "stream",
     "text": [
      "Epoch 60/100 - Training loss: 0.00190282 | LR: 0.000345494\n"
     ]
    },
    {
     "name": "stderr",
     "output_type": "stream",
     "text": [
      "Validation loss: 9.31126e-05: 100%|██████████| 26/26 [00:01<00:00, 14.48it/s]\n",
      "  0%|          | 0/301 [00:00<?, ?it/s]"
     ]
    },
    {
     "name": "stdout",
     "output_type": "stream",
     "text": [
      "Validation loss decreased 0.0035149 --> 0.00264601: saving state...\n",
      "Epoch 60/100 - Validation loss: 0.00264601 (Exact: 99.76% | Partial: 99.88%)\n"
     ]
    },
    {
     "name": "stderr",
     "output_type": "stream",
     "text": [
      "Training loss: 6.67772e-05 | LR: 0.000330634: 100%|██████████| 301/301 [00:39<00:00,  7.59it/s]\n",
      "  0%|          | 0/26 [00:00<?, ?it/s]"
     ]
    },
    {
     "name": "stdout",
     "output_type": "stream",
     "text": [
      "Epoch 61/100 - Training loss: 0.00124289 | LR: 0.000330634\n"
     ]
    },
    {
     "name": "stderr",
     "output_type": "stream",
     "text": [
      "Validation loss: 4.02031e-05: 100%|██████████| 26/26 [00:01<00:00, 14.88it/s]\n",
      "  0%|          | 0/301 [00:00<?, ?it/s]"
     ]
    },
    {
     "name": "stdout",
     "output_type": "stream",
     "text": [
      "Validation loss decreased 0.00264601 --> 0.0023211: saving state...\n",
      "Epoch 61/100 - Validation loss: 0.0023211 (Exact: 99.88% | Partial: 99.94%)\n"
     ]
    },
    {
     "name": "stderr",
     "output_type": "stream",
     "text": [
      "Training loss: 0.000174471 | LR: 0.00031594: 100%|██████████| 301/301 [00:40<00:00,  7.37it/s] \n",
      "  0%|          | 0/26 [00:00<?, ?it/s]"
     ]
    },
    {
     "name": "stdout",
     "output_type": "stream",
     "text": [
      "Epoch 62/100 - Training loss: 0.00071034 | LR: 0.00031594\n"
     ]
    },
    {
     "name": "stderr",
     "output_type": "stream",
     "text": [
      "Validation loss: 3.6216e-05: 100%|██████████| 26/26 [00:01<00:00, 14.70it/s] \n",
      "  0%|          | 0/301 [00:00<?, ?it/s]"
     ]
    },
    {
     "name": "stdout",
     "output_type": "stream",
     "text": [
      "Epoch 62/100 - Validation loss: 0.00239831 (Exact: 99.76% | Partial: 99.88%)\n"
     ]
    },
    {
     "name": "stderr",
     "output_type": "stream",
     "text": [
      "Training loss: 9.25096e-05 | LR: 0.000301429: 100%|██████████| 301/301 [00:39<00:00,  7.55it/s]\n",
      "  0%|          | 0/26 [00:00<?, ?it/s]"
     ]
    },
    {
     "name": "stdout",
     "output_type": "stream",
     "text": [
      "Epoch 63/100 - Training loss: 0.000835362 | LR: 0.000301429\n"
     ]
    },
    {
     "name": "stderr",
     "output_type": "stream",
     "text": [
      "Validation loss: 3.63155e-05: 100%|██████████| 26/26 [00:01<00:00, 14.29it/s]\n",
      "  0%|          | 0/301 [00:00<?, ?it/s]"
     ]
    },
    {
     "name": "stdout",
     "output_type": "stream",
     "text": [
      "Validation loss decreased 0.00239831 --> 0.00178867: saving state...\n",
      "Epoch 63/100 - Validation loss: 0.00178867 (Exact: 99.82% | Partial: 99.94%)\n"
     ]
    },
    {
     "name": "stderr",
     "output_type": "stream",
     "text": [
      "Training loss: 3.75875e-05 | LR: 0.000287113: 100%|██████████| 301/301 [00:44<00:00,  6.74it/s]\n",
      "  0%|          | 0/26 [00:00<?, ?it/s]"
     ]
    },
    {
     "name": "stdout",
     "output_type": "stream",
     "text": [
      "Epoch 64/100 - Training loss: 0.000512334 | LR: 0.000287113\n"
     ]
    },
    {
     "name": "stderr",
     "output_type": "stream",
     "text": [
      "Validation loss: 3.03149e-05: 100%|██████████| 26/26 [00:01<00:00, 14.67it/s]\n",
      "  0%|          | 0/301 [00:00<?, ?it/s]"
     ]
    },
    {
     "name": "stdout",
     "output_type": "stream",
     "text": [
      "Epoch 64/100 - Validation loss: 0.00221353 (Exact: 99.76% | Partial: 99.88%)\n"
     ]
    },
    {
     "name": "stderr",
     "output_type": "stream",
     "text": [
      "Training loss: 9.42556e-05 | LR: 0.000273008: 100%|██████████| 301/301 [00:42<00:00,  7.01it/s]\n",
      "  0%|          | 0/26 [00:00<?, ?it/s]"
     ]
    },
    {
     "name": "stdout",
     "output_type": "stream",
     "text": [
      "Epoch 65/100 - Training loss: 0.000754646 | LR: 0.000273008\n"
     ]
    },
    {
     "name": "stderr",
     "output_type": "stream",
     "text": [
      "Validation loss: 4.13563e-05: 100%|██████████| 26/26 [00:01<00:00, 14.68it/s]\n",
      "  0%|          | 0/301 [00:00<?, ?it/s]"
     ]
    },
    {
     "name": "stdout",
     "output_type": "stream",
     "text": [
      "Validation loss decreased 0.00221353 --> 0.00174263: saving state...\n",
      "Epoch 65/100 - Validation loss: 0.00174263 (Exact: 99.82% | Partial: 99.88%)\n"
     ]
    },
    {
     "name": "stderr",
     "output_type": "stream",
     "text": [
      "Training loss: 6.12435e-05 | LR: 0.000259126: 100%|██████████| 301/301 [00:41<00:00,  7.25it/s]\n",
      "  0%|          | 0/26 [00:00<?, ?it/s]"
     ]
    },
    {
     "name": "stdout",
     "output_type": "stream",
     "text": [
      "Epoch 66/100 - Training loss: 0.00061882 | LR: 0.000259126\n"
     ]
    },
    {
     "name": "stderr",
     "output_type": "stream",
     "text": [
      "Validation loss: 4.55781e-05: 100%|██████████| 26/26 [00:01<00:00, 14.62it/s]\n",
      "  0%|          | 0/301 [00:00<?, ?it/s]"
     ]
    },
    {
     "name": "stdout",
     "output_type": "stream",
     "text": [
      "Epoch 66/100 - Validation loss: 0.00286166 (Exact: 99.82% | Partial: 99.88%)\n"
     ]
    },
    {
     "name": "stderr",
     "output_type": "stream",
     "text": [
      "Training loss: 5.13177e-05 | LR: 0.000245482: 100%|██████████| 301/301 [00:39<00:00,  7.70it/s]\n",
      "  0%|          | 0/26 [00:00<?, ?it/s]"
     ]
    },
    {
     "name": "stdout",
     "output_type": "stream",
     "text": [
      "Epoch 67/100 - Training loss: 0.000491234 | LR: 0.000245482\n"
     ]
    },
    {
     "name": "stderr",
     "output_type": "stream",
     "text": [
      "Validation loss: 3.24817e-05: 100%|██████████| 26/26 [00:01<00:00, 14.38it/s]\n",
      "  0%|          | 0/301 [00:00<?, ?it/s]"
     ]
    },
    {
     "name": "stdout",
     "output_type": "stream",
     "text": [
      "Validation loss decreased 0.00286166 --> 0.00257037: saving state...\n",
      "Epoch 67/100 - Validation loss: 0.00257037 (Exact: 99.88% | Partial: 99.94%)\n"
     ]
    },
    {
     "name": "stderr",
     "output_type": "stream",
     "text": [
      "Training loss: 7.54311e-05 | LR: 0.00023209: 100%|██████████| 301/301 [00:43<00:00,  6.86it/s] \n",
      "  0%|          | 0/26 [00:00<?, ?it/s]"
     ]
    },
    {
     "name": "stdout",
     "output_type": "stream",
     "text": [
      "Epoch 68/100 - Training loss: 0.000723121 | LR: 0.00023209\n"
     ]
    },
    {
     "name": "stderr",
     "output_type": "stream",
     "text": [
      "Validation loss: 2.86665e-05: 100%|██████████| 26/26 [00:01<00:00, 14.99it/s]\n"
     ]
    },
    {
     "name": "stdout",
     "output_type": "stream",
     "text": [
      "Validation loss decreased 0.00257037 --> 0.0018878: saving state...\n",
      "Epoch 68/100 - Validation loss: 0.0018878 (Exact: 99.88% | Partial: 99.94%)\n"
     ]
    },
    {
     "name": "stderr",
     "output_type": "stream",
     "text": [
      "Training loss: 4.00843e-05 | LR: 0.000218961: 100%|██████████| 301/301 [00:39<00:00,  7.57it/s]\n",
      "  0%|          | 0/26 [00:00<?, ?it/s]"
     ]
    },
    {
     "name": "stdout",
     "output_type": "stream",
     "text": [
      "Epoch 69/100 - Training loss: 0.000660148 | LR: 0.000218961\n"
     ]
    },
    {
     "name": "stderr",
     "output_type": "stream",
     "text": [
      "Validation loss: 4.46892e-05: 100%|██████████| 26/26 [00:01<00:00, 14.44it/s]\n",
      "  0%|          | 0/301 [00:00<?, ?it/s]"
     ]
    },
    {
     "name": "stdout",
     "output_type": "stream",
     "text": [
      "Epoch 69/100 - Validation loss: 0.00264238 (Exact: 99.82% | Partial: 99.88%)\n"
     ]
    },
    {
     "name": "stderr",
     "output_type": "stream",
     "text": [
      "Training loss: 0.000132242 | LR: 0.000206111: 100%|██████████| 301/301 [00:38<00:00,  7.74it/s]\n",
      "  0%|          | 0/26 [00:00<?, ?it/s]"
     ]
    },
    {
     "name": "stdout",
     "output_type": "stream",
     "text": [
      "Epoch 70/100 - Training loss: 0.000823287 | LR: 0.000206111\n"
     ]
    },
    {
     "name": "stderr",
     "output_type": "stream",
     "text": [
      "Validation loss: 2.89843e-05: 100%|██████████| 26/26 [00:01<00:00, 15.68it/s]\n"
     ]
    },
    {
     "name": "stdout",
     "output_type": "stream",
     "text": [
      "Epoch 70/100 - Validation loss: 0.00269538 (Exact: 99.82% | Partial: 99.94%)\n"
     ]
    },
    {
     "name": "stderr",
     "output_type": "stream",
     "text": [
      "Training loss: 8.67281e-05 | LR: 0.00019355: 100%|██████████| 301/301 [00:41<00:00,  7.31it/s] \n",
      "  0%|          | 0/26 [00:00<?, ?it/s]"
     ]
    },
    {
     "name": "stdout",
     "output_type": "stream",
     "text": [
      "Epoch 71/100 - Training loss: 0.000361807 | LR: 0.00019355\n"
     ]
    },
    {
     "name": "stderr",
     "output_type": "stream",
     "text": [
      "Validation loss: 2.93855e-05: 100%|██████████| 26/26 [00:01<00:00, 14.70it/s]\n",
      "  0%|          | 0/301 [00:00<?, ?it/s]"
     ]
    },
    {
     "name": "stdout",
     "output_type": "stream",
     "text": [
      "Epoch 71/100 - Validation loss: 0.00270032 (Exact: 99.88% | Partial: 99.94%)\n"
     ]
    },
    {
     "name": "stderr",
     "output_type": "stream",
     "text": [
      "Training loss: 0.00767845 | LR: 0.000181291: 100%|██████████| 301/301 [00:41<00:00,  7.17it/s] \n",
      "  0%|          | 0/26 [00:00<?, ?it/s]"
     ]
    },
    {
     "name": "stdout",
     "output_type": "stream",
     "text": [
      "Epoch 72/100 - Training loss: 0.000881213 | LR: 0.000181291\n"
     ]
    },
    {
     "name": "stderr",
     "output_type": "stream",
     "text": [
      "Validation loss: 3.1728e-05: 100%|██████████| 26/26 [00:01<00:00, 14.71it/s] \n",
      "  0%|          | 0/301 [00:00<?, ?it/s]"
     ]
    },
    {
     "name": "stdout",
     "output_type": "stream",
     "text": [
      "Epoch 72/100 - Validation loss: 0.00290062 (Exact: 99.88% | Partial: 99.94%)\n"
     ]
    },
    {
     "name": "stderr",
     "output_type": "stream",
     "text": [
      "Training loss: 3.29521e-05 | LR: 0.000169347: 100%|██████████| 301/301 [00:38<00:00,  7.75it/s]\n",
      "  0%|          | 0/26 [00:00<?, ?it/s]"
     ]
    },
    {
     "name": "stdout",
     "output_type": "stream",
     "text": [
      "Epoch 73/100 - Training loss: 0.000645504 | LR: 0.000169347\n"
     ]
    },
    {
     "name": "stderr",
     "output_type": "stream",
     "text": [
      "Validation loss: 2.7055e-05: 100%|██████████| 26/26 [00:01<00:00, 14.76it/s] \n",
      "  0%|          | 0/301 [00:00<?, ?it/s]"
     ]
    },
    {
     "name": "stdout",
     "output_type": "stream",
     "text": [
      "Epoch 73/100 - Validation loss: 0.00296246 (Exact: 99.88% | Partial: 99.94%)\n"
     ]
    },
    {
     "name": "stderr",
     "output_type": "stream",
     "text": [
      "Training loss: 2.70804e-05 | LR: 0.00015773: 100%|██████████| 301/301 [00:39<00:00,  7.67it/s] \n",
      "  0%|          | 0/26 [00:00<?, ?it/s]"
     ]
    },
    {
     "name": "stdout",
     "output_type": "stream",
     "text": [
      "Epoch 74/100 - Training loss: 0.000429545 | LR: 0.00015773\n"
     ]
    },
    {
     "name": "stderr",
     "output_type": "stream",
     "text": [
      "Validation loss: 2.38165e-05: 100%|██████████| 26/26 [00:01<00:00, 14.97it/s]\n",
      "  0%|          | 0/301 [00:00<?, ?it/s]"
     ]
    },
    {
     "name": "stdout",
     "output_type": "stream",
     "text": [
      "Epoch 74/100 - Validation loss: 0.00304578 (Exact: 99.88% | Partial: 99.94%)\n"
     ]
    },
    {
     "name": "stderr",
     "output_type": "stream",
     "text": [
      "Training loss: 2.99319e-05 | LR: 0.00014645: 100%|██████████| 301/301 [00:40<00:00,  7.38it/s] \n",
      "  0%|          | 0/26 [00:00<?, ?it/s]"
     ]
    },
    {
     "name": "stdout",
     "output_type": "stream",
     "text": [
      "Epoch 75/100 - Training loss: 0.000689647 | LR: 0.00014645\n"
     ]
    },
    {
     "name": "stderr",
     "output_type": "stream",
     "text": [
      "Validation loss: 1.87093e-05: 100%|██████████| 26/26 [00:01<00:00, 14.65it/s]\n",
      "  0%|          | 0/301 [00:00<?, ?it/s]"
     ]
    },
    {
     "name": "stdout",
     "output_type": "stream",
     "text": [
      "Epoch 75/100 - Validation loss: 0.00305305 (Exact: 99.82% | Partial: 99.88%)\n"
     ]
    },
    {
     "name": "stderr",
     "output_type": "stream",
     "text": [
      "Training loss: 0.000270805 | LR: 0.000135519: 100%|██████████| 301/301 [00:39<00:00,  7.53it/s]\n",
      "  0%|          | 0/26 [00:00<?, ?it/s]"
     ]
    },
    {
     "name": "stdout",
     "output_type": "stream",
     "text": [
      "Epoch 76/100 - Training loss: 0.000404783 | LR: 0.000135519\n"
     ]
    },
    {
     "name": "stderr",
     "output_type": "stream",
     "text": [
      "Validation loss: 1.7445e-05: 100%|██████████| 26/26 [00:03<00:00,  6.53it/s] \n",
      "  0%|          | 0/301 [00:00<?, ?it/s]"
     ]
    },
    {
     "name": "stdout",
     "output_type": "stream",
     "text": [
      "Validation loss decreased 0.00305305 --> 0.00295735: saving state...\n",
      "Epoch 76/100 - Validation loss: 0.00295735 (Exact: 99.88% | Partial: 99.94%)\n"
     ]
    },
    {
     "name": "stderr",
     "output_type": "stream",
     "text": [
      "Training loss: 4.27842e-05 | LR: 0.000124948: 100%|██████████| 301/301 [00:40<00:00,  7.42it/s]\n",
      "  0%|          | 0/26 [00:00<?, ?it/s]"
     ]
    },
    {
     "name": "stdout",
     "output_type": "stream",
     "text": [
      "Epoch 77/100 - Training loss: 0.000791326 | LR: 0.000124948\n"
     ]
    },
    {
     "name": "stderr",
     "output_type": "stream",
     "text": [
      "Validation loss: 1.62283e-05: 100%|██████████| 26/26 [00:01<00:00, 14.41it/s]\n",
      "  0%|          | 0/301 [00:00<?, ?it/s]"
     ]
    },
    {
     "name": "stdout",
     "output_type": "stream",
     "text": [
      "Epoch 77/100 - Validation loss: 0.0029818 (Exact: 99.82% | Partial: 99.88%)\n"
     ]
    },
    {
     "name": "stderr",
     "output_type": "stream",
     "text": [
      "Training loss: 9.27033e-05 | LR: 0.000114747: 100%|██████████| 301/301 [00:38<00:00,  7.81it/s]\n",
      "  0%|          | 0/26 [00:00<?, ?it/s]"
     ]
    },
    {
     "name": "stdout",
     "output_type": "stream",
     "text": [
      "Epoch 78/100 - Training loss: 0.000322425 | LR: 0.000114747\n"
     ]
    },
    {
     "name": "stderr",
     "output_type": "stream",
     "text": [
      "Validation loss: 1.67982e-05: 100%|██████████| 26/26 [00:01<00:00, 14.59it/s]\n",
      "  0%|          | 0/301 [00:00<?, ?it/s]"
     ]
    },
    {
     "name": "stdout",
     "output_type": "stream",
     "text": [
      "Epoch 78/100 - Validation loss: 0.00309764 (Exact: 99.82% | Partial: 99.94%)\n"
     ]
    },
    {
     "name": "stderr",
     "output_type": "stream",
     "text": [
      "Training loss: 1.85858e-05 | LR: 0.000104926: 100%|██████████| 301/301 [00:39<00:00,  7.66it/s]\n",
      "  0%|          | 0/26 [00:00<?, ?it/s]"
     ]
    },
    {
     "name": "stdout",
     "output_type": "stream",
     "text": [
      "Epoch 79/100 - Training loss: 0.000454723 | LR: 0.000104926\n"
     ]
    },
    {
     "name": "stderr",
     "output_type": "stream",
     "text": [
      "Validation loss: 1.66261e-05: 100%|██████████| 26/26 [00:01<00:00, 14.84it/s]\n",
      "  0%|          | 0/301 [00:00<?, ?it/s]"
     ]
    },
    {
     "name": "stdout",
     "output_type": "stream",
     "text": [
      "Validation loss decreased 0.00309764 --> 0.00301631: saving state...\n",
      "Epoch 79/100 - Validation loss: 0.00301631 (Exact: 99.88% | Partial: 99.94%)\n"
     ]
    },
    {
     "name": "stderr",
     "output_type": "stream",
     "text": [
      "Training loss: 3.79795e-05 | LR: 9.54951e-05: 100%|██████████| 301/301 [00:41<00:00,  7.20it/s]\n",
      "  0%|          | 0/26 [00:00<?, ?it/s]"
     ]
    },
    {
     "name": "stdout",
     "output_type": "stream",
     "text": [
      "Epoch 80/100 - Training loss: 0.000522981 | LR: 9.54951e-05\n"
     ]
    },
    {
     "name": "stderr",
     "output_type": "stream",
     "text": [
      "Validation loss: 1.52127e-05: 100%|██████████| 26/26 [00:01<00:00, 14.89it/s]\n",
      "  0%|          | 0/301 [00:00<?, ?it/s]"
     ]
    },
    {
     "name": "stdout",
     "output_type": "stream",
     "text": [
      "Validation loss decreased 0.00301631 --> 0.00291565: saving state...\n",
      "Epoch 80/100 - Validation loss: 0.00291565 (Exact: 99.88% | Partial: 99.94%)\n"
     ]
    },
    {
     "name": "stderr",
     "output_type": "stream",
     "text": [
      "Training loss: 3.3555e-05 | LR: 8.64634e-05: 100%|██████████| 301/301 [00:40<00:00,  7.35it/s] \n",
      "  0%|          | 0/26 [00:00<?, ?it/s]"
     ]
    },
    {
     "name": "stdout",
     "output_type": "stream",
     "text": [
      "Epoch 81/100 - Training loss: 0.000402747 | LR: 8.64634e-05\n"
     ]
    },
    {
     "name": "stderr",
     "output_type": "stream",
     "text": [
      "Validation loss: 1.50493e-05: 100%|██████████| 26/26 [00:01<00:00, 14.54it/s]\n",
      "  0%|          | 0/301 [00:00<?, ?it/s]"
     ]
    },
    {
     "name": "stdout",
     "output_type": "stream",
     "text": [
      "Validation loss decreased 0.00291565 --> 0.00291524: saving state...\n",
      "Epoch 81/100 - Validation loss: 0.00291524 (Exact: 99.88% | Partial: 99.94%)\n"
     ]
    },
    {
     "name": "stderr",
     "output_type": "stream",
     "text": [
      "Training loss: 2.93656e-05 | LR: 7.78397e-05: 100%|██████████| 301/301 [00:39<00:00,  7.62it/s]\n",
      "  0%|          | 0/26 [00:00<?, ?it/s]"
     ]
    },
    {
     "name": "stdout",
     "output_type": "stream",
     "text": [
      "Epoch 82/100 - Training loss: 0.000408121 | LR: 7.78397e-05\n"
     ]
    },
    {
     "name": "stderr",
     "output_type": "stream",
     "text": [
      "Validation loss: 1.65517e-05: 100%|██████████| 26/26 [00:01<00:00, 14.74it/s]\n",
      "  0%|          | 0/301 [00:00<?, ?it/s]"
     ]
    },
    {
     "name": "stdout",
     "output_type": "stream",
     "text": [
      "Epoch 82/100 - Validation loss: 0.00307658 (Exact: 99.82% | Partial: 99.88%)\n"
     ]
    },
    {
     "name": "stderr",
     "output_type": "stream",
     "text": [
      "Training loss: 7.03577e-05 | LR: 6.96327e-05: 100%|██████████| 301/301 [00:39<00:00,  7.62it/s]\n",
      "  0%|          | 0/26 [00:00<?, ?it/s]"
     ]
    },
    {
     "name": "stdout",
     "output_type": "stream",
     "text": [
      "Epoch 83/100 - Training loss: 0.000537669 | LR: 6.96327e-05\n"
     ]
    },
    {
     "name": "stderr",
     "output_type": "stream",
     "text": [
      "Validation loss: 1.67046e-05: 100%|██████████| 26/26 [00:01<00:00, 15.03it/s]\n",
      "  0%|          | 0/301 [00:00<?, ?it/s]"
     ]
    },
    {
     "name": "stdout",
     "output_type": "stream",
     "text": [
      "Validation loss decreased 0.00307658 --> 0.00298682: saving state...\n",
      "Epoch 83/100 - Validation loss: 0.00298682 (Exact: 99.88% | Partial: 99.94%)\n"
     ]
    },
    {
     "name": "stderr",
     "output_type": "stream",
     "text": [
      "Training loss: 4.39367e-05 | LR: 6.18504e-05: 100%|██████████| 301/301 [00:39<00:00,  7.54it/s]\n",
      "  0%|          | 0/26 [00:00<?, ?it/s]"
     ]
    },
    {
     "name": "stdout",
     "output_type": "stream",
     "text": [
      "Epoch 84/100 - Training loss: 0.000390826 | LR: 6.18504e-05\n"
     ]
    },
    {
     "name": "stderr",
     "output_type": "stream",
     "text": [
      "Validation loss: 1.50507e-05: 100%|██████████| 26/26 [00:01<00:00, 14.77it/s]\n",
      "  0%|          | 0/301 [00:00<?, ?it/s]"
     ]
    },
    {
     "name": "stdout",
     "output_type": "stream",
     "text": [
      "Validation loss decreased 0.00298682 --> 0.00283608: saving state...\n",
      "Epoch 84/100 - Validation loss: 0.00283608 (Exact: 99.88% | Partial: 99.94%)\n"
     ]
    },
    {
     "name": "stderr",
     "output_type": "stream",
     "text": [
      "Training loss: 1.91034e-05 | LR: 5.45005e-05: 100%|██████████| 301/301 [00:39<00:00,  7.71it/s]\n",
      "  0%|          | 0/26 [00:00<?, ?it/s]"
     ]
    },
    {
     "name": "stdout",
     "output_type": "stream",
     "text": [
      "Epoch 85/100 - Training loss: 0.00058863 | LR: 5.45005e-05\n"
     ]
    },
    {
     "name": "stderr",
     "output_type": "stream",
     "text": [
      "Validation loss: 1.51212e-05: 100%|██████████| 26/26 [00:01<00:00, 14.86it/s]\n",
      "  0%|          | 0/301 [00:00<?, ?it/s]"
     ]
    },
    {
     "name": "stdout",
     "output_type": "stream",
     "text": [
      "Validation loss decreased 0.00283608 --> 0.00282904: saving state...\n",
      "Epoch 85/100 - Validation loss: 0.00282904 (Exact: 99.88% | Partial: 99.94%)\n"
     ]
    },
    {
     "name": "stderr",
     "output_type": "stream",
     "text": [
      "Training loss: 2.92484e-05 | LR: 4.75903e-05: 100%|██████████| 301/301 [00:42<00:00,  7.10it/s]\n",
      "  0%|          | 0/26 [00:00<?, ?it/s]"
     ]
    },
    {
     "name": "stdout",
     "output_type": "stream",
     "text": [
      "Epoch 86/100 - Training loss: 0.000370041 | LR: 4.75903e-05\n"
     ]
    },
    {
     "name": "stderr",
     "output_type": "stream",
     "text": [
      "Validation loss: 1.60808e-05: 100%|██████████| 26/26 [00:01<00:00, 14.09it/s]\n",
      "  0%|          | 0/301 [00:00<?, ?it/s]"
     ]
    },
    {
     "name": "stdout",
     "output_type": "stream",
     "text": [
      "Epoch 86/100 - Validation loss: 0.00285172 (Exact: 99.88% | Partial: 99.94%)\n"
     ]
    },
    {
     "name": "stderr",
     "output_type": "stream",
     "text": [
      "Training loss: 7.12104e-05 | LR: 4.11265e-05: 100%|██████████| 301/301 [00:39<00:00,  7.63it/s]\n",
      "  0%|          | 0/26 [00:00<?, ?it/s]"
     ]
    },
    {
     "name": "stdout",
     "output_type": "stream",
     "text": [
      "Epoch 87/100 - Training loss: 0.00044069 | LR: 4.11265e-05\n"
     ]
    },
    {
     "name": "stderr",
     "output_type": "stream",
     "text": [
      "Validation loss: 1.41226e-05: 100%|██████████| 26/26 [00:01<00:00, 15.01it/s]\n",
      "  0%|          | 0/301 [00:00<?, ?it/s]"
     ]
    },
    {
     "name": "stdout",
     "output_type": "stream",
     "text": [
      "Validation loss decreased 0.00285172 --> 0.00267548: saving state...\n",
      "Epoch 87/100 - Validation loss: 0.00267548 (Exact: 99.88% | Partial: 99.94%)\n"
     ]
    },
    {
     "name": "stderr",
     "output_type": "stream",
     "text": [
      "Training loss: 0.00018108 | LR: 3.51156e-05: 100%|██████████| 301/301 [00:40<00:00,  7.45it/s] \n",
      "  0%|          | 0/26 [00:00<?, ?it/s]"
     ]
    },
    {
     "name": "stdout",
     "output_type": "stream",
     "text": [
      "Epoch 88/100 - Training loss: 0.000365207 | LR: 3.51156e-05\n"
     ]
    },
    {
     "name": "stderr",
     "output_type": "stream",
     "text": [
      "Validation loss: 1.42605e-05: 100%|██████████| 26/26 [00:01<00:00, 14.92it/s]\n",
      "  0%|          | 0/301 [00:00<?, ?it/s]"
     ]
    },
    {
     "name": "stdout",
     "output_type": "stream",
     "text": [
      "Validation loss decreased 0.00267548 --> 0.00264608: saving state...\n",
      "Epoch 88/100 - Validation loss: 0.00264608 (Exact: 99.82% | Partial: 99.94%)\n"
     ]
    },
    {
     "name": "stderr",
     "output_type": "stream",
     "text": [
      "Training loss: 1.76628e-05 | LR: 2.95635e-05: 100%|██████████| 301/301 [00:39<00:00,  7.67it/s]\n",
      "  0%|          | 0/26 [00:00<?, ?it/s]"
     ]
    },
    {
     "name": "stdout",
     "output_type": "stream",
     "text": [
      "Epoch 89/100 - Training loss: 0.000327774 | LR: 2.95635e-05\n"
     ]
    },
    {
     "name": "stderr",
     "output_type": "stream",
     "text": [
      "Validation loss: 1.41104e-05: 100%|██████████| 26/26 [00:01<00:00, 14.95it/s]\n",
      "  0%|          | 0/301 [00:00<?, ?it/s]"
     ]
    },
    {
     "name": "stdout",
     "output_type": "stream",
     "text": [
      "Validation loss decreased 0.00264608 --> 0.00261825: saving state...\n",
      "Epoch 89/100 - Validation loss: 0.00261825 (Exact: 99.82% | Partial: 99.94%)\n"
     ]
    },
    {
     "name": "stderr",
     "output_type": "stream",
     "text": [
      "Training loss: 2.7301e-05 | LR: 2.44756e-05: 100%|██████████| 301/301 [00:41<00:00,  7.17it/s] \n",
      "  0%|          | 0/26 [00:00<?, ?it/s]"
     ]
    },
    {
     "name": "stdout",
     "output_type": "stream",
     "text": [
      "Epoch 90/100 - Training loss: 0.000619653 | LR: 2.44756e-05\n"
     ]
    },
    {
     "name": "stderr",
     "output_type": "stream",
     "text": [
      "Validation loss: 1.55985e-05: 100%|██████████| 26/26 [00:01<00:00, 14.32it/s]\n",
      "  0%|          | 0/301 [00:00<?, ?it/s]"
     ]
    },
    {
     "name": "stdout",
     "output_type": "stream",
     "text": [
      "Validation loss decreased 0.00261825 --> 0.00260337: saving state...\n",
      "Epoch 90/100 - Validation loss: 0.00260337 (Exact: 99.88% | Partial: 99.94%)\n"
     ]
    },
    {
     "name": "stderr",
     "output_type": "stream",
     "text": [
      "Training loss: 3.61639e-05 | LR: 1.98571e-05: 100%|██████████| 301/301 [00:40<00:00,  7.43it/s]\n",
      "  0%|          | 0/26 [00:00<?, ?it/s]"
     ]
    },
    {
     "name": "stdout",
     "output_type": "stream",
     "text": [
      "Epoch 91/100 - Training loss: 0.000311386 | LR: 1.98571e-05\n"
     ]
    },
    {
     "name": "stderr",
     "output_type": "stream",
     "text": [
      "Validation loss: 1.54607e-05: 100%|██████████| 26/26 [00:01<00:00, 15.45it/s]\n",
      "  0%|          | 0/301 [00:00<?, ?it/s]"
     ]
    },
    {
     "name": "stdout",
     "output_type": "stream",
     "text": [
      "Epoch 91/100 - Validation loss: 0.00264542 (Exact: 99.88% | Partial: 99.94%)\n"
     ]
    },
    {
     "name": "stderr",
     "output_type": "stream",
     "text": [
      "Training loss: 3.99924e-05 | LR: 1.57124e-05: 100%|██████████| 301/301 [00:40<00:00,  7.42it/s]\n",
      "  0%|          | 0/26 [00:00<?, ?it/s]"
     ]
    },
    {
     "name": "stdout",
     "output_type": "stream",
     "text": [
      "Epoch 92/100 - Training loss: 0.000292207 | LR: 1.57124e-05\n"
     ]
    },
    {
     "name": "stderr",
     "output_type": "stream",
     "text": [
      "Validation loss: 1.51845e-05: 100%|██████████| 26/26 [00:01<00:00, 15.21it/s]\n",
      "  0%|          | 0/301 [00:00<?, ?it/s]"
     ]
    },
    {
     "name": "stdout",
     "output_type": "stream",
     "text": [
      "Epoch 92/100 - Validation loss: 0.00272982 (Exact: 99.82% | Partial: 99.88%)\n"
     ]
    },
    {
     "name": "stderr",
     "output_type": "stream",
     "text": [
      "Training loss: 1.70145e-05 | LR: 1.20456e-05: 100%|██████████| 301/301 [00:39<00:00,  7.72it/s]\n",
      "  0%|          | 0/26 [00:00<?, ?it/s]"
     ]
    },
    {
     "name": "stdout",
     "output_type": "stream",
     "text": [
      "Epoch 93/100 - Training loss: 0.000224574 | LR: 1.20456e-05\n"
     ]
    },
    {
     "name": "stderr",
     "output_type": "stream",
     "text": [
      "Validation loss: 1.52159e-05: 100%|██████████| 26/26 [00:01<00:00, 15.09it/s]\n",
      "  0%|          | 0/301 [00:00<?, ?it/s]"
     ]
    },
    {
     "name": "stdout",
     "output_type": "stream",
     "text": [
      "Epoch 93/100 - Validation loss: 0.00274659 (Exact: 99.82% | Partial: 99.88%)\n"
     ]
    },
    {
     "name": "stderr",
     "output_type": "stream",
     "text": [
      "Training loss: 3.24223e-05 | LR: 8.86034e-06: 100%|██████████| 301/301 [00:39<00:00,  7.65it/s]\n",
      "  0%|          | 0/26 [00:00<?, ?it/s]"
     ]
    },
    {
     "name": "stdout",
     "output_type": "stream",
     "text": [
      "Epoch 94/100 - Training loss: 0.000298858 | LR: 8.86034e-06\n"
     ]
    },
    {
     "name": "stderr",
     "output_type": "stream",
     "text": [
      "Validation loss: 1.53209e-05: 100%|██████████| 26/26 [00:01<00:00, 14.91it/s]\n",
      "  0%|          | 0/301 [00:00<?, ?it/s]"
     ]
    },
    {
     "name": "stdout",
     "output_type": "stream",
     "text": [
      "Validation loss decreased 0.00274659 --> 0.00273844: saving state...\n",
      "Epoch 94/100 - Validation loss: 0.00273844 (Exact: 99.82% | Partial: 99.88%)\n"
     ]
    },
    {
     "name": "stderr",
     "output_type": "stream",
     "text": [
      "Training loss: 2.74454e-05 | LR: 6.15981e-06: 100%|██████████| 301/301 [00:41<00:00,  7.22it/s]\n",
      "  0%|          | 0/26 [00:00<?, ?it/s]"
     ]
    },
    {
     "name": "stdout",
     "output_type": "stream",
     "text": [
      "Epoch 95/100 - Training loss: 0.000326009 | LR: 6.15981e-06\n"
     ]
    },
    {
     "name": "stderr",
     "output_type": "stream",
     "text": [
      "Validation loss: 1.48508e-05: 100%|██████████| 26/26 [00:01<00:00, 14.67it/s]\n",
      "  0%|          | 0/301 [00:00<?, ?it/s]"
     ]
    },
    {
     "name": "stdout",
     "output_type": "stream",
     "text": [
      "Validation loss decreased 0.00273844 --> 0.00265974: saving state...\n",
      "Epoch 95/100 - Validation loss: 0.00265974 (Exact: 99.88% | Partial: 99.94%)\n"
     ]
    },
    {
     "name": "stderr",
     "output_type": "stream",
     "text": [
      "Training loss: 4.56149e-05 | LR: 3.94663e-06: 100%|██████████| 301/301 [00:41<00:00,  7.25it/s]\n",
      "  0%|          | 0/26 [00:00<?, ?it/s]"
     ]
    },
    {
     "name": "stdout",
     "output_type": "stream",
     "text": [
      "Epoch 96/100 - Training loss: 0.000364757 | LR: 3.94663e-06\n"
     ]
    },
    {
     "name": "stderr",
     "output_type": "stream",
     "text": [
      "Validation loss: 1.50228e-05: 100%|██████████| 26/26 [00:01<00:00, 14.89it/s]\n",
      "  0%|          | 0/301 [00:00<?, ?it/s]"
     ]
    },
    {
     "name": "stdout",
     "output_type": "stream",
     "text": [
      "Epoch 96/100 - Validation loss: 0.00272244 (Exact: 99.82% | Partial: 99.88%)\n"
     ]
    },
    {
     "name": "stderr",
     "output_type": "stream",
     "text": [
      "Training loss: 3.00731e-05 | LR: 2.22301e-06: 100%|██████████| 301/301 [00:39<00:00,  7.68it/s]\n",
      "  0%|          | 0/26 [00:00<?, ?it/s]"
     ]
    },
    {
     "name": "stdout",
     "output_type": "stream",
     "text": [
      "Epoch 97/100 - Training loss: 0.00041313 | LR: 2.22301e-06\n"
     ]
    },
    {
     "name": "stderr",
     "output_type": "stream",
     "text": [
      "Validation loss: 1.4595e-05: 100%|██████████| 26/26 [00:01<00:00, 15.50it/s] \n",
      "  0%|          | 0/301 [00:00<?, ?it/s]"
     ]
    },
    {
     "name": "stdout",
     "output_type": "stream",
     "text": [
      "Validation loss decreased 0.00272244 --> 0.00267947: saving state...\n",
      "Epoch 97/100 - Validation loss: 0.00267947 (Exact: 99.88% | Partial: 99.94%)\n"
     ]
    },
    {
     "name": "stderr",
     "output_type": "stream",
     "text": [
      "Training loss: 3.76423e-05 | LR: 9.90632e-07: 100%|██████████| 301/301 [00:40<00:00,  7.51it/s]\n",
      "  0%|          | 0/26 [00:00<?, ?it/s]"
     ]
    },
    {
     "name": "stdout",
     "output_type": "stream",
     "text": [
      "Epoch 98/100 - Training loss: 0.000216022 | LR: 9.90632e-07\n"
     ]
    },
    {
     "name": "stderr",
     "output_type": "stream",
     "text": [
      "Validation loss: 1.46033e-05: 100%|██████████| 26/26 [00:01<00:00, 14.75it/s]\n",
      "  0%|          | 0/301 [00:00<?, ?it/s]"
     ]
    },
    {
     "name": "stdout",
     "output_type": "stream",
     "text": [
      "Epoch 98/100 - Validation loss: 0.0027372 (Exact: 99.82% | Partial: 99.94%)\n"
     ]
    },
    {
     "name": "stderr",
     "output_type": "stream",
     "text": [
      "Training loss: 2.04731e-05 | LR: 2.50719e-07: 100%|██████████| 301/301 [00:40<00:00,  7.37it/s]\n",
      "  0%|          | 0/26 [00:00<?, ?it/s]"
     ]
    },
    {
     "name": "stdout",
     "output_type": "stream",
     "text": [
      "Epoch 99/100 - Training loss: 0.000288923 | LR: 2.50719e-07\n"
     ]
    },
    {
     "name": "stderr",
     "output_type": "stream",
     "text": [
      "Validation loss: 1.52924e-05: 100%|██████████| 26/26 [00:04<00:00,  5.66it/s]\n",
      "  0%|          | 0/301 [00:00<?, ?it/s]"
     ]
    },
    {
     "name": "stdout",
     "output_type": "stream",
     "text": [
      "Epoch 99/100 - Validation loss: 0.00276354 (Exact: 99.76% | Partial: 99.88%)\n"
     ]
    },
    {
     "name": "stderr",
     "output_type": "stream",
     "text": [
      "Training loss: 8.51649e-05 | LR: 4e-09: 100%|██████████| 301/301 [00:38<00:00,  7.72it/s]      \n",
      "  0%|          | 0/26 [00:00<?, ?it/s]"
     ]
    },
    {
     "name": "stdout",
     "output_type": "stream",
     "text": [
      "Epoch 100/100 - Training loss: 0.000587468 | LR: 4e-09\n"
     ]
    },
    {
     "name": "stderr",
     "output_type": "stream",
     "text": [
      "Validation loss: 1.4704e-05: 100%|██████████| 26/26 [00:01<00:00, 15.22it/s] \n"
     ]
    },
    {
     "name": "stdout",
     "output_type": "stream",
     "text": [
      "Epoch 100/100 - Validation loss: 0.00285795 (Exact: 99.76% | Partial: 99.88%)\n"
     ]
    }
   ],
   "source": [
    "finetune_detection(\n",
    "    detection_train_path, detection_val_path, \"ml-models/detection-model-finetuned\"\n",
    ")\n",
    "\n",
    "finetune_recognition(\n",
    "    recognition_train_path,\n",
    "    recognition_val_path,\n",
    "    \"ml-models/recognition-model-finetuned\",\n",
    ")"
   ]
  },
  {
   "cell_type": "code",
   "execution_count": null,
   "id": "5a184258",
   "metadata": {},
   "outputs": [],
   "source": []
  },
  {
   "cell_type": "code",
   "execution_count": null,
   "id": "e545df06",
   "metadata": {},
   "outputs": [],
   "source": [
    "# BELOW is not working yet"
   ]
  },
  {
   "cell_type": "code",
   "execution_count": null,
   "id": "de18378a",
   "metadata": {},
   "outputs": [],
   "source": [
    "# from doctr.models import ocr_predictor, detection_predictor, recognition_predictor\n",
    "# from doctr.models import db_resnet50, crnn_vgg16_bn\n",
    "# from importlib import reload\n",
    "# import doctr.models\n",
    "# from torch import load as torch_load\n",
    "\n",
    "# from doctr_package.doctr.models.recognition.crnn.pytorch import CRNN\n",
    "\n",
    "# reload(doctr.models)\n",
    "\n",
    "\n",
    "# def create_doctr_model(det_pt_path=None, reco_pt_path=None):\n",
    "#     det_model = db_resnet50(pretrained=True).to(\"cuda\")\n",
    "\n",
    "#     if det_pt_path is not None:\n",
    "#         det_params = torch_load(det_pt_path, map_location=\"cuda:0\")\n",
    "#         det_model.load_state_dict(det_params)\n",
    "\n",
    "#     if reco_pt_path is not None:\n",
    "#         reco_model: CRNN = crnn_vgg16_bn(\n",
    "#             pretrained=True,\n",
    "#             pretrained_backbone=True,\n",
    "#             vocab=vocab,\n",
    "#         ).to(\"cuda\")\n",
    "#         reco_params = torch_load(reco_pt_path, map_location=\"cuda:0\")\n",
    "#         reco_model.load_state_dict(reco_params)\n",
    "#     else:\n",
    "#         reco_model = crnn_vgg16_bn(\n",
    "#             pretrained=True,\n",
    "#             pretrained_backbone=True,\n",
    "#         ).to(\"cuda\")\n",
    "\n",
    "#     full_predictor = ocr_predictor(\n",
    "#         det_arch=det_model,\n",
    "#         reco_arch=reco_model,\n",
    "#         pretrained=True,\n",
    "#         assume_straight_pages=True,\n",
    "#         disable_crop_orientation=True,\n",
    "#     )\n",
    "\n",
    "#     det_predictor = detection_predictor(\n",
    "#         arch=det_model,\n",
    "#         pretrained=True,\n",
    "#         assume_straight_pages=True,\n",
    "#     )\n",
    "\n",
    "#     reco_predictor = recognition_predictor(\n",
    "#         arch=reco_model,\n",
    "#         pretrained=True,\n",
    "#     )\n",
    "\n",
    "#     # baseline performs optimally with default\n",
    "#     # the finetuned model seems to work much better when instantiated this way\n",
    "#     # the ocr_predictor must have some extra default config setting\n",
    "#     # that hinders the finetuned model\n",
    "#     if det_pt_path is not None:\n",
    "#         full_predictor.det_predictor = det_predictor\n",
    "#     if reco_pt_path is not None:\n",
    "#         full_predictor.reco_predictor = reco_predictor\n",
    "\n",
    "#     # this might tighten up boxes a bit\n",
    "#     # full_predictor.det_predictor.model.postprocessor.unclip_ratio = 1.2\n",
    "#     # det_predictor.model.postprocessor.unclip_ratio = 1.2\n",
    "\n",
    "#     return det_predictor, full_predictor\n",
    "\n",
    "\n",
    "# baseline_det_predictor, baseline_ocr_predictor = create_doctr_model(None)\n",
    "# finetuned_det_predictor, finetuned_ocr_predictor = create_doctr_model(\n",
    "#     \"training-output/detection-model-finetuned.pt\",\n",
    "#     \"training-output/recognition-model-finetuned.pt\",\n",
    "# )"
   ]
  },
  {
   "cell_type": "code",
   "execution_count": null,
   "id": "4e54ff00",
   "metadata": {},
   "outputs": [],
   "source": [
    "# from doctr_package.doctr.io.reader import DocumentFile\n",
    "# from os import listdir\n",
    "\n",
    "# # this is a bit of a hack, but it works\n",
    "# train_finetune_preds = []\n",
    "# train_baseline_preds = []\n",
    "# train_finetune_exports = []\n",
    "# train_baseline_exports = []\n",
    "# for f in listdir(detection_train_path + \"/images\"):\n",
    "#     print(f)\n",
    "#     doctr_image = DocumentFile.from_images(detection_train_path + \"/images/\" + f)\n",
    "\n",
    "#     baseline_result = baseline_det_predictor(doctr_image)\n",
    "#     train_baseline_preds.append(baseline_result[0][\"words\"])\n",
    "\n",
    "#     baseline_export = baseline_ocr_predictor(doctr_image).export()\n",
    "#     train_baseline_exports.append(baseline_export)\n",
    "\n",
    "#     finetuned_result = finetuned_det_predictor(doctr_image)\n",
    "#     train_finetune_preds.append(finetuned_result[0][\"words\"])\n",
    "\n",
    "#     finetuned_export = finetuned_ocr_predictor(doctr_image).export()\n",
    "#     train_finetune_exports.append(finetuned_export)\n",
    "\n",
    "# val_finetune_preds = []\n",
    "# val_baseline_preds = []\n",
    "# val_finetune_exports = []\n",
    "# val_baseline_exports = []\n",
    "# for f in listdir(detection_val_path + \"/images\"):\n",
    "#     print(f)\n",
    "#     doctr_image = DocumentFile.from_images(detection_val_path + \"/images/\" + f)\n",
    "#     # print(doctr_image)\n",
    "\n",
    "#     finetuned_result = finetuned_ocr_predictor.det_predictor(doctr_image)\n",
    "#     val_finetune_preds.append(finetuned_result[0][\"words\"])\n",
    "\n",
    "#     finetuned_export = finetuned_ocr_predictor(doctr_image).export()\n",
    "#     val_finetune_exports.append(finetuned_export)\n",
    "\n",
    "#     baseline_result = baseline_ocr_predictor.det_predictor(doctr_image)\n",
    "#     val_baseline_preds.append(baseline_result[0][\"words\"])\n",
    "\n",
    "#     baseline_export = baseline_ocr_predictor(doctr_image).export()\n",
    "#     train_baseline_exports.append(baseline_export)"
   ]
  },
  {
   "cell_type": "code",
   "execution_count": null,
   "id": "c73ce965",
   "metadata": {},
   "outputs": [],
   "source": [
    "# ## TODO this needs to be update for the targets to check\n",
    "\n",
    "# from doctr.utils.metrics import LocalizationConfusion\n",
    "\n",
    "# lc_baseline_train = LocalizationConfusion(iou_thresh=0.5)\n",
    "# lc_baseline_val = LocalizationConfusion(iou_thresh=0.5)\n",
    "# lc_finetune_train = LocalizationConfusion(iou_thresh=0.5)\n",
    "# lc_finetune_val = LocalizationConfusion(iou_thresh=0.5)\n",
    "\n",
    "# print(\"format: recall, precision, mean_iou\")\n",
    "# print(\"TRAIN\")\n",
    "# for i, fname in enumerate(listdir(detection_train_path + \"/images\")):\n",
    "#     print(\"========\")\n",
    "#     print(fname)\n",
    "#     lc_baseline_for_file = LocalizationConfusion(iou_thresh=0.5)\n",
    "#     lc_finetune_for_file = LocalizationConfusion(iou_thresh=0.5)\n",
    "\n",
    "#     target = targets[i]\n",
    "#     baseline_pred = train_baseline_preds[i]\n",
    "#     finetune_pred = train_finetune_preds[i]\n",
    "\n",
    "#     lc_baseline_for_file.update(target[\"words\"], baseline_pred[:, :4])\n",
    "#     lc_finetune_for_file.update(target[\"words\"], finetune_pred[:, :4])\n",
    "#     print(\"baseline:\", lc_baseline_for_file.summary())\n",
    "#     print(\"finetune:\", lc_finetune_for_file.summary())\n",
    "#     lc_baseline_train.update(target[\"words\"], baseline_pred[:, :4])\n",
    "#     lc_finetune_train.update(target[\"words\"], finetune_pred[:, :4])\n",
    "\n",
    "# print(\"\\nVAL\")\n",
    "# for i, fname in enumerate(val_fnames):\n",
    "#     print(\"========\")\n",
    "#     print(fname)\n",
    "#     lc_baseline_for_file = LocalizationConfusion(iou_thresh=0.5)\n",
    "#     lc_finetune_for_file = LocalizationConfusion(iou_thresh=0.5)\n",
    "\n",
    "#     target = val_targets[i]\n",
    "#     baseline_pred = val_baseline_preds[i]\n",
    "#     finetune_pred = val_finetune_preds[i]\n",
    "\n",
    "#     lc_baseline_for_file.update(target[\"words\"], baseline_pred[:, :4])\n",
    "#     lc_finetune_for_file.update(target[\"words\"], finetune_pred[:, :4])\n",
    "#     print(\"baseline:\", lc_baseline_for_file.summary())\n",
    "#     print(\"finetune:\", lc_finetune_for_file.summary())\n",
    "#     lc_baseline_val.update(target[\"words\"], baseline_pred[:, :4])\n",
    "#     lc_finetune_val.update(target[\"words\"], finetune_pred[:, :4])\n",
    "\n",
    "\n",
    "# print(\"\\noverall baseline (train):\", lc_baseline_train.summary())\n",
    "# print(\"overall finetune (train):\", lc_finetune_train.summary())\n",
    "# print(\"overall baseline (val):\", lc_baseline_val.summary())\n",
    "# print(\"overall finetune (val):\", lc_finetune_val.summary())"
   ]
  },
  {
   "cell_type": "code",
   "execution_count": null,
   "id": "dd0cd15e",
   "metadata": {},
   "outputs": [],
   "source": [
    "# # TODO this is broken\n",
    "# doctr_image = DocumentFile.from_images(\n",
    "#     detection_train_path + \"/images/\" + train_fnames[4]\n",
    "# )\n",
    "\n",
    "# baseline_ocr_predictor(doctr_image).show()\n",
    "# finetuned_ocr_predictor(doctr_image).show()\n",
    "\n",
    "# # TODO - add comparison of the baseline vs finetuned recongition models"
   ]
  }
 ],
 "metadata": {
  "kernelspec": {
   "display_name": ".venv",
   "language": "python",
   "name": "python3"
  },
  "language_info": {
   "codemirror_mode": {
    "name": "ipython",
    "version": 3
   },
   "file_extension": ".py",
   "mimetype": "text/x-python",
   "name": "python",
   "nbconvert_exporter": "python",
   "pygments_lexer": "ipython3",
   "version": "3.13.3"
  }
 },
 "nbformat": 4,
 "nbformat_minor": 5
}
