{
 "cells": [
  {
   "cell_type": "code",
   "execution_count": 1,
   "id": "8baaa24b",
   "metadata": {},
   "outputs": [],
   "source": [
    "import json"
   ]
  },
  {
   "cell_type": "code",
   "execution_count": 18,
   "id": "9ebe896c",
   "metadata": {},
   "outputs": [],
   "source": [
    "with open(\"ml-training/detection/labels.json\", \"r\") as file:\n",
    "    data = json.load(file)\n",
    "\n",
    "for k, v in data.items():\n",
    "    for i in range(len(v[\"polygons\"])):\n",
    "        x = v[\"polygons\"][i][0][0]\n",
    "        x2 = v[\"polygons\"][i][3][0]\n",
    "        if x != x2:\n",
    "            raise ValueError(f\"Polygon mismatch in {k} at index {i}: {x} != {x2}\")\n",
    "\n",
    "        new_x = x - 2 if x > 0 else x\n",
    "        data[k][\"polygons\"][i][0][0] = new_x\n",
    "        data[k][\"polygons\"][i][3][0] = new_x\n",
    "\n",
    "json.dump(\n",
    "    data, open(\"ml-training/detection/labels.json\", \"w\"), indent=4, ensure_ascii=False\n",
    ")"
   ]
  }
 ],
 "metadata": {
  "kernelspec": {
   "display_name": ".venv",
   "language": "python",
   "name": "python3"
  },
  "language_info": {
   "codemirror_mode": {
    "name": "ipython",
    "version": 3
   },
   "file_extension": ".py",
   "mimetype": "text/x-python",
   "name": "python",
   "nbconvert_exporter": "python",
   "pygments_lexer": "ipython3",
   "version": "3.13.3"
  }
 },
 "nbformat": 4,
 "nbformat_minor": 5
}
